{
 "cells": [
  {
   "cell_type": "code",
   "execution_count": 1,
   "metadata": {},
   "outputs": [],
   "source": [
    "%load_ext sql\n",
    "%sql sqlite://"
   ]
  },
  {
   "cell_type": "code",
   "execution_count": 2,
   "metadata": {},
   "outputs": [],
   "source": [
    "#Import libraries\n",
    "import numpy as np\n",
    "import pandas as pd\n",
    "import pyodbc\n",
    "import matplotlib.pyplot as plt\n",
    "import seaborn as sb\n",
    "import seaborn as sns\n",
    "sns.set(color_codes=True)\n",
    "from scipy import stats, integrate\n",
    "np.random.seed(sum(map(ord, \"distributions\")))"
   ]
  },
  {
   "cell_type": "code",
   "execution_count": 3,
   "metadata": {},
   "outputs": [
    {
     "data": {
      "text/html": [
       "        <script type=\"text/javascript\">\n",
       "        window.PlotlyConfig = {MathJaxConfig: 'local'};\n",
       "        if (window.MathJax) {MathJax.Hub.Config({SVG: {font: \"STIX-Web\"}});}\n",
       "        if (typeof require !== 'undefined') {\n",
       "        require.undef(\"plotly\");\n",
       "        requirejs.config({\n",
       "            paths: {\n",
       "                'plotly': ['https://cdn.plot.ly/plotly-latest.min']\n",
       "            }\n",
       "        });\n",
       "        require(['plotly'], function(Plotly) {\n",
       "            window._Plotly = Plotly;\n",
       "        });\n",
       "        }\n",
       "        </script>\n",
       "        "
      ]
     },
     "metadata": {},
     "output_type": "display_data"
    },
    {
     "data": {
      "text/html": [
       "        <script type=\"text/javascript\">\n",
       "        window.PlotlyConfig = {MathJaxConfig: 'local'};\n",
       "        if (window.MathJax) {MathJax.Hub.Config({SVG: {font: \"STIX-Web\"}});}\n",
       "        if (typeof require !== 'undefined') {\n",
       "        require.undef(\"plotly\");\n",
       "        requirejs.config({\n",
       "            paths: {\n",
       "                'plotly': ['https://cdn.plot.ly/plotly-latest.min']\n",
       "            }\n",
       "        });\n",
       "        require(['plotly'], function(Plotly) {\n",
       "            window._Plotly = Plotly;\n",
       "        });\n",
       "        }\n",
       "        </script>\n",
       "        "
      ]
     },
     "metadata": {},
     "output_type": "display_data"
    }
   ],
   "source": [
    "#install cufflinks via anaconda prompt using these commands - pip install plotly & pip install cufflinks\n",
    "#install library packages\n",
    "import plotly\n",
    "import cufflinks as cf\n",
    "\n",
    "#Enabling the offline mode for interactive plotting locally\n",
    "from plotly.offline import download_plotlyjs,init_notebook_mode,plot,iplot\n",
    "init_notebook_mode(connected=True)\n",
    "cf.go_offline()\n",
    "#To display the plots\n",
    "%matplotlib inline"
   ]
  },
  {
   "cell_type": "code",
   "execution_count": 4,
   "metadata": {},
   "outputs": [],
   "source": [
    "import sqlalchemy as db"
   ]
  },
  {
   "cell_type": "code",
   "execution_count": 5,
   "metadata": {},
   "outputs": [],
   "source": [
    "#Download database\n",
    "USImmig = pd.read_csv('C:\\\\Users\\\\mmora\\\\OneDrive\\\\Professional Development\\\\1GC_BigData\\\\BDAT 1000 Data Manipulation\\\\Assignment 2\\\\Migration Col to World\\\\USImmigrationCountryOfResidence 2017_table2.csv')"
   ]
  },
  {
   "cell_type": "code",
   "execution_count": 6,
   "metadata": {},
   "outputs": [
    {
     "data": {
      "text/plain": [
       "(88, 28)"
      ]
     },
     "execution_count": 6,
     "metadata": {},
     "output_type": "execute_result"
    }
   ],
   "source": [
    "#Display number of rows and columns\n",
    "USImmig.shape"
   ]
  },
  {
   "cell_type": "code",
   "execution_count": 7,
   "metadata": {},
   "outputs": [
    {
     "data": {
      "text/html": [
       "<div>\n",
       "<style scoped>\n",
       "    .dataframe tbody tr th:only-of-type {\n",
       "        vertical-align: middle;\n",
       "    }\n",
       "\n",
       "    .dataframe tbody tr th {\n",
       "        vertical-align: top;\n",
       "    }\n",
       "\n",
       "    .dataframe thead th {\n",
       "        text-align: right;\n",
       "    }\n",
       "</style>\n",
       "<table border=\"1\" class=\"dataframe\">\n",
       "  <thead>\n",
       "    <tr style=\"text-align: right;\">\n",
       "      <th></th>\n",
       "      <th>LastResidence</th>\n",
       "      <th>1820-1829</th>\n",
       "      <th>1830-1839</th>\n",
       "      <th>1840-1849</th>\n",
       "      <th>1850-1859</th>\n",
       "      <th>1860-1869</th>\n",
       "      <th>1870-1879</th>\n",
       "      <th>1880-1889</th>\n",
       "      <th>1890-1899</th>\n",
       "      <th>1900-1909</th>\n",
       "      <th>...</th>\n",
       "      <th>1990-1999</th>\n",
       "      <th>2000-2009</th>\n",
       "      <th>2010</th>\n",
       "      <th>2011</th>\n",
       "      <th>2012</th>\n",
       "      <th>2013</th>\n",
       "      <th>2014</th>\n",
       "      <th>2015</th>\n",
       "      <th>2016</th>\n",
       "      <th>2017</th>\n",
       "    </tr>\n",
       "  </thead>\n",
       "  <tbody>\n",
       "    <tr>\n",
       "      <th>0</th>\n",
       "      <td>Total</td>\n",
       "      <td>128502</td>\n",
       "      <td>538381</td>\n",
       "      <td>1427337</td>\n",
       "      <td>2814554</td>\n",
       "      <td>2081261</td>\n",
       "      <td>2742137</td>\n",
       "      <td>5248568</td>\n",
       "      <td>3694294</td>\n",
       "      <td>8202388</td>\n",
       "      <td>...</td>\n",
       "      <td>9775398</td>\n",
       "      <td>10299430</td>\n",
       "      <td>1042625</td>\n",
       "      <td>1062040</td>\n",
       "      <td>1031631</td>\n",
       "      <td>990553</td>\n",
       "      <td>1016518</td>\n",
       "      <td>1051031</td>\n",
       "      <td>1183505</td>\n",
       "      <td>1127167</td>\n",
       "    </tr>\n",
       "    <tr>\n",
       "      <th>1</th>\n",
       "      <td>Europe</td>\n",
       "      <td>99618</td>\n",
       "      <td>422853</td>\n",
       "      <td>1369423</td>\n",
       "      <td>2622617</td>\n",
       "      <td>1880389</td>\n",
       "      <td>2252050</td>\n",
       "      <td>4638684</td>\n",
       "      <td>3576411</td>\n",
       "      <td>7572569</td>\n",
       "      <td>...</td>\n",
       "      <td>1349219</td>\n",
       "      <td>1349609</td>\n",
       "      <td>95429</td>\n",
       "      <td>90712</td>\n",
       "      <td>86956</td>\n",
       "      <td>91095</td>\n",
       "      <td>87790</td>\n",
       "      <td>90789</td>\n",
       "      <td>98043</td>\n",
       "      <td>89706</td>\n",
       "    </tr>\n",
       "    <tr>\n",
       "      <th>2</th>\n",
       "      <td>Austria-Hungary</td>\n",
       "      <td>0</td>\n",
       "      <td>0</td>\n",
       "      <td>0</td>\n",
       "      <td>0</td>\n",
       "      <td>3375</td>\n",
       "      <td>60127</td>\n",
       "      <td>314787</td>\n",
       "      <td>534059</td>\n",
       "      <td>2001376</td>\n",
       "      <td>...</td>\n",
       "      <td>27529</td>\n",
       "      <td>33929</td>\n",
       "      <td>4325</td>\n",
       "      <td>4703</td>\n",
       "      <td>3208</td>\n",
       "      <td>2061</td>\n",
       "      <td>2058</td>\n",
       "      <td>2965</td>\n",
       "      <td>2620</td>\n",
       "      <td>2886</td>\n",
       "    </tr>\n",
       "    <tr>\n",
       "      <th>3</th>\n",
       "      <td>Austria</td>\n",
       "      <td>0</td>\n",
       "      <td>0</td>\n",
       "      <td>0</td>\n",
       "      <td>0</td>\n",
       "      <td>2700</td>\n",
       "      <td>54529</td>\n",
       "      <td>204805</td>\n",
       "      <td>268218</td>\n",
       "      <td>532416</td>\n",
       "      <td>...</td>\n",
       "      <td>18234</td>\n",
       "      <td>21151</td>\n",
       "      <td>3319</td>\n",
       "      <td>3654</td>\n",
       "      <td>2199</td>\n",
       "      <td>1053</td>\n",
       "      <td>1088</td>\n",
       "      <td>1928</td>\n",
       "      <td>1621</td>\n",
       "      <td>1962</td>\n",
       "    </tr>\n",
       "    <tr>\n",
       "      <th>4</th>\n",
       "      <td>Hungary</td>\n",
       "      <td>0</td>\n",
       "      <td>0</td>\n",
       "      <td>0</td>\n",
       "      <td>0</td>\n",
       "      <td>483</td>\n",
       "      <td>5598</td>\n",
       "      <td>109982</td>\n",
       "      <td>203350</td>\n",
       "      <td>685567</td>\n",
       "      <td>...</td>\n",
       "      <td>9295</td>\n",
       "      <td>12778</td>\n",
       "      <td>1006</td>\n",
       "      <td>1049</td>\n",
       "      <td>1009</td>\n",
       "      <td>1008</td>\n",
       "      <td>970</td>\n",
       "      <td>1037</td>\n",
       "      <td>999</td>\n",
       "      <td>924</td>\n",
       "    </tr>\n",
       "    <tr>\n",
       "      <th>5</th>\n",
       "      <td>Belgium</td>\n",
       "      <td>28</td>\n",
       "      <td>20</td>\n",
       "      <td>3996</td>\n",
       "      <td>5765</td>\n",
       "      <td>5785</td>\n",
       "      <td>6991</td>\n",
       "      <td>18738</td>\n",
       "      <td>19642</td>\n",
       "      <td>37429</td>\n",
       "      <td>...</td>\n",
       "      <td>7077</td>\n",
       "      <td>8157</td>\n",
       "      <td>732</td>\n",
       "      <td>700</td>\n",
       "      <td>698</td>\n",
       "      <td>803</td>\n",
       "      <td>775</td>\n",
       "      <td>809</td>\n",
       "      <td>821</td>\n",
       "      <td>742</td>\n",
       "    </tr>\n",
       "    <tr>\n",
       "      <th>6</th>\n",
       "      <td>Bulgaria4</td>\n",
       "      <td>0</td>\n",
       "      <td>0</td>\n",
       "      <td>0</td>\n",
       "      <td>0</td>\n",
       "      <td>0</td>\n",
       "      <td>0</td>\n",
       "      <td>0</td>\n",
       "      <td>52</td>\n",
       "      <td>34651</td>\n",
       "      <td>...</td>\n",
       "      <td>16948</td>\n",
       "      <td>40003</td>\n",
       "      <td>2465</td>\n",
       "      <td>2549</td>\n",
       "      <td>2322</td>\n",
       "      <td>2720</td>\n",
       "      <td>2886</td>\n",
       "      <td>2585</td>\n",
       "      <td>2560</td>\n",
       "      <td>2070</td>\n",
       "    </tr>\n",
       "    <tr>\n",
       "      <th>7</th>\n",
       "      <td>Czechoslovakia</td>\n",
       "      <td>0</td>\n",
       "      <td>0</td>\n",
       "      <td>0</td>\n",
       "      <td>0</td>\n",
       "      <td>0</td>\n",
       "      <td>0</td>\n",
       "      <td>0</td>\n",
       "      <td>0</td>\n",
       "      <td>0</td>\n",
       "      <td>...</td>\n",
       "      <td>8970</td>\n",
       "      <td>18691</td>\n",
       "      <td>1510</td>\n",
       "      <td>1374</td>\n",
       "      <td>1316</td>\n",
       "      <td>1258</td>\n",
       "      <td>1168</td>\n",
       "      <td>1236</td>\n",
       "      <td>1299</td>\n",
       "      <td>1142</td>\n",
       "    </tr>\n",
       "    <tr>\n",
       "      <th>8</th>\n",
       "      <td>Denmark</td>\n",
       "      <td>173</td>\n",
       "      <td>927</td>\n",
       "      <td>671</td>\n",
       "      <td>3227</td>\n",
       "      <td>13553</td>\n",
       "      <td>29278</td>\n",
       "      <td>85342</td>\n",
       "      <td>56671</td>\n",
       "      <td>61227</td>\n",
       "      <td>...</td>\n",
       "      <td>6189</td>\n",
       "      <td>6049</td>\n",
       "      <td>545</td>\n",
       "      <td>473</td>\n",
       "      <td>492</td>\n",
       "      <td>546</td>\n",
       "      <td>533</td>\n",
       "      <td>634</td>\n",
       "      <td>562</td>\n",
       "      <td>536</td>\n",
       "    </tr>\n",
       "    <tr>\n",
       "      <th>9</th>\n",
       "      <td>Finland6</td>\n",
       "      <td>0</td>\n",
       "      <td>0</td>\n",
       "      <td>0</td>\n",
       "      <td>0</td>\n",
       "      <td>3</td>\n",
       "      <td>286</td>\n",
       "      <td>9617</td>\n",
       "      <td>36719</td>\n",
       "      <td>0</td>\n",
       "      <td>...</td>\n",
       "      <td>3970</td>\n",
       "      <td>3970</td>\n",
       "      <td>414</td>\n",
       "      <td>398</td>\n",
       "      <td>373</td>\n",
       "      <td>360</td>\n",
       "      <td>368</td>\n",
       "      <td>397</td>\n",
       "      <td>512</td>\n",
       "      <td>478</td>\n",
       "    </tr>\n",
       "  </tbody>\n",
       "</table>\n",
       "<p>10 rows × 28 columns</p>\n",
       "</div>"
      ],
      "text/plain": [
       "     LastResidence  1820-1829  1830-1839  1840-1849  1850-1859  1860-1869  \\\n",
       "0            Total     128502     538381    1427337    2814554    2081261   \n",
       "1           Europe      99618     422853    1369423    2622617    1880389   \n",
       "2  Austria-Hungary          0          0          0          0       3375   \n",
       "3          Austria          0          0          0          0       2700   \n",
       "4          Hungary          0          0          0          0        483   \n",
       "5          Belgium         28         20       3996       5765       5785   \n",
       "6        Bulgaria4          0          0          0          0          0   \n",
       "7   Czechoslovakia          0          0          0          0          0   \n",
       "8          Denmark        173        927        671       3227      13553   \n",
       "9         Finland6          0          0          0          0          3   \n",
       "\n",
       "   1870-1879  1880-1889  1890-1899  1900-1909  ...  1990-1999  2000-2009  \\\n",
       "0    2742137    5248568    3694294    8202388  ...    9775398   10299430   \n",
       "1    2252050    4638684    3576411    7572569  ...    1349219    1349609   \n",
       "2      60127     314787     534059    2001376  ...      27529      33929   \n",
       "3      54529     204805     268218     532416  ...      18234      21151   \n",
       "4       5598     109982     203350     685567  ...       9295      12778   \n",
       "5       6991      18738      19642      37429  ...       7077       8157   \n",
       "6          0          0         52      34651  ...      16948      40003   \n",
       "7          0          0          0          0  ...       8970      18691   \n",
       "8      29278      85342      56671      61227  ...       6189       6049   \n",
       "9        286       9617      36719          0  ...       3970       3970   \n",
       "\n",
       "      2010     2011     2012    2013     2014     2015     2016     2017  \n",
       "0  1042625  1062040  1031631  990553  1016518  1051031  1183505  1127167  \n",
       "1    95429    90712    86956   91095    87790    90789    98043    89706  \n",
       "2     4325     4703     3208    2061     2058     2965     2620     2886  \n",
       "3     3319     3654     2199    1053     1088     1928     1621     1962  \n",
       "4     1006     1049     1009    1008      970     1037      999      924  \n",
       "5      732      700      698     803      775      809      821      742  \n",
       "6     2465     2549     2322    2720     2886     2585     2560     2070  \n",
       "7     1510     1374     1316    1258     1168     1236     1299     1142  \n",
       "8      545      473      492     546      533      634      562      536  \n",
       "9      414      398      373     360      368      397      512      478  \n",
       "\n",
       "[10 rows x 28 columns]"
      ]
     },
     "execution_count": 7,
     "metadata": {},
     "output_type": "execute_result"
    }
   ],
   "source": [
    "#Preview the first 10 rows \n",
    "USImmig.head(10)"
   ]
  },
  {
   "cell_type": "code",
   "execution_count": 8,
   "metadata": {},
   "outputs": [
    {
     "data": {
      "text/html": [
       "<div>\n",
       "<style scoped>\n",
       "    .dataframe tbody tr th:only-of-type {\n",
       "        vertical-align: middle;\n",
       "    }\n",
       "\n",
       "    .dataframe tbody tr th {\n",
       "        vertical-align: top;\n",
       "    }\n",
       "\n",
       "    .dataframe thead th {\n",
       "        text-align: right;\n",
       "    }\n",
       "</style>\n",
       "<table border=\"1\" class=\"dataframe\">\n",
       "  <thead>\n",
       "    <tr style=\"text-align: right;\">\n",
       "      <th></th>\n",
       "      <th>LastResidence</th>\n",
       "      <th>2012</th>\n",
       "      <th>2013</th>\n",
       "      <th>2014</th>\n",
       "      <th>2015</th>\n",
       "      <th>2016</th>\n",
       "      <th>2017</th>\n",
       "    </tr>\n",
       "  </thead>\n",
       "  <tbody>\n",
       "    <tr>\n",
       "      <th>0</th>\n",
       "      <td>Total</td>\n",
       "      <td>1031631</td>\n",
       "      <td>990553</td>\n",
       "      <td>1016518</td>\n",
       "      <td>1051031</td>\n",
       "      <td>1183505</td>\n",
       "      <td>1127167</td>\n",
       "    </tr>\n",
       "    <tr>\n",
       "      <th>1</th>\n",
       "      <td>Europe</td>\n",
       "      <td>86956</td>\n",
       "      <td>91095</td>\n",
       "      <td>87790</td>\n",
       "      <td>90789</td>\n",
       "      <td>98043</td>\n",
       "      <td>89706</td>\n",
       "    </tr>\n",
       "    <tr>\n",
       "      <th>2</th>\n",
       "      <td>Austria-Hungary</td>\n",
       "      <td>3208</td>\n",
       "      <td>2061</td>\n",
       "      <td>2058</td>\n",
       "      <td>2965</td>\n",
       "      <td>2620</td>\n",
       "      <td>2886</td>\n",
       "    </tr>\n",
       "    <tr>\n",
       "      <th>3</th>\n",
       "      <td>Austria</td>\n",
       "      <td>2199</td>\n",
       "      <td>1053</td>\n",
       "      <td>1088</td>\n",
       "      <td>1928</td>\n",
       "      <td>1621</td>\n",
       "      <td>1962</td>\n",
       "    </tr>\n",
       "    <tr>\n",
       "      <th>4</th>\n",
       "      <td>Hungary</td>\n",
       "      <td>1009</td>\n",
       "      <td>1008</td>\n",
       "      <td>970</td>\n",
       "      <td>1037</td>\n",
       "      <td>999</td>\n",
       "      <td>924</td>\n",
       "    </tr>\n",
       "    <tr>\n",
       "      <th>5</th>\n",
       "      <td>Belgium</td>\n",
       "      <td>698</td>\n",
       "      <td>803</td>\n",
       "      <td>775</td>\n",
       "      <td>809</td>\n",
       "      <td>821</td>\n",
       "      <td>742</td>\n",
       "    </tr>\n",
       "    <tr>\n",
       "      <th>6</th>\n",
       "      <td>Bulgaria4</td>\n",
       "      <td>2322</td>\n",
       "      <td>2720</td>\n",
       "      <td>2886</td>\n",
       "      <td>2585</td>\n",
       "      <td>2560</td>\n",
       "      <td>2070</td>\n",
       "    </tr>\n",
       "    <tr>\n",
       "      <th>7</th>\n",
       "      <td>Czechoslovakia</td>\n",
       "      <td>1316</td>\n",
       "      <td>1258</td>\n",
       "      <td>1168</td>\n",
       "      <td>1236</td>\n",
       "      <td>1299</td>\n",
       "      <td>1142</td>\n",
       "    </tr>\n",
       "    <tr>\n",
       "      <th>8</th>\n",
       "      <td>Denmark</td>\n",
       "      <td>492</td>\n",
       "      <td>546</td>\n",
       "      <td>533</td>\n",
       "      <td>634</td>\n",
       "      <td>562</td>\n",
       "      <td>536</td>\n",
       "    </tr>\n",
       "    <tr>\n",
       "      <th>9</th>\n",
       "      <td>Finland6</td>\n",
       "      <td>373</td>\n",
       "      <td>360</td>\n",
       "      <td>368</td>\n",
       "      <td>397</td>\n",
       "      <td>512</td>\n",
       "      <td>478</td>\n",
       "    </tr>\n",
       "  </tbody>\n",
       "</table>\n",
       "</div>"
      ],
      "text/plain": [
       "     LastResidence     2012    2013     2014     2015     2016     2017\n",
       "0            Total  1031631  990553  1016518  1051031  1183505  1127167\n",
       "1           Europe    86956   91095    87790    90789    98043    89706\n",
       "2  Austria-Hungary     3208    2061     2058     2965     2620     2886\n",
       "3          Austria     2199    1053     1088     1928     1621     1962\n",
       "4          Hungary     1009    1008      970     1037      999      924\n",
       "5          Belgium      698     803      775      809      821      742\n",
       "6        Bulgaria4     2322    2720     2886     2585     2560     2070\n",
       "7   Czechoslovakia     1316    1258     1168     1236     1299     1142\n",
       "8          Denmark      492     546      533      634      562      536\n",
       "9         Finland6      373     360      368      397      512      478"
      ]
     },
     "execution_count": 8,
     "metadata": {},
     "output_type": "execute_result"
    }
   ],
   "source": [
    "#Dropping Columns Not Needed\n",
    "USImmig.drop(USImmig.columns.difference(['LastResidence','2012','2013','2014','2015','2016','2017']), 1, inplace=True)\n",
    "\n",
    "#Show first 10 rows\n",
    "USImmig.head(10)"
   ]
  },
  {
   "cell_type": "code",
   "execution_count": 9,
   "metadata": {
    "scrolled": true
   },
   "outputs": [
    {
     "data": {
      "text/html": [
       "<div>\n",
       "<style scoped>\n",
       "    .dataframe tbody tr th:only-of-type {\n",
       "        vertical-align: middle;\n",
       "    }\n",
       "\n",
       "    .dataframe tbody tr th {\n",
       "        vertical-align: top;\n",
       "    }\n",
       "\n",
       "    .dataframe thead th {\n",
       "        text-align: right;\n",
       "    }\n",
       "</style>\n",
       "<table border=\"1\" class=\"dataframe\">\n",
       "  <thead>\n",
       "    <tr style=\"text-align: right;\">\n",
       "      <th></th>\n",
       "      <th>2012</th>\n",
       "      <th>2013</th>\n",
       "      <th>2014</th>\n",
       "      <th>2015</th>\n",
       "      <th>2016</th>\n",
       "      <th>2017</th>\n",
       "    </tr>\n",
       "  </thead>\n",
       "  <tbody>\n",
       "    <tr>\n",
       "      <th>count</th>\n",
       "      <td>8.800000e+01</td>\n",
       "      <td>88.000000</td>\n",
       "      <td>8.800000e+01</td>\n",
       "      <td>8.800000e+01</td>\n",
       "      <td>8.800000e+01</td>\n",
       "      <td>8.800000e+01</td>\n",
       "    </tr>\n",
       "    <tr>\n",
       "      <th>mean</th>\n",
       "      <td>3.789178e+04</td>\n",
       "      <td>36476.704545</td>\n",
       "      <td>3.743164e+04</td>\n",
       "      <td>3.875050e+04</td>\n",
       "      <td>4.366705e+04</td>\n",
       "      <td>4.167472e+04</td>\n",
       "    </tr>\n",
       "    <tr>\n",
       "      <th>std</th>\n",
       "      <td>1.260971e+05</td>\n",
       "      <td>120759.953391</td>\n",
       "      <td>1.244451e+05</td>\n",
       "      <td>1.287780e+05</td>\n",
       "      <td>1.449697e+05</td>\n",
       "      <td>1.380298e+05</td>\n",
       "    </tr>\n",
       "    <tr>\n",
       "      <th>min</th>\n",
       "      <td>0.000000e+00</td>\n",
       "      <td>0.000000</td>\n",
       "      <td>0.000000e+00</td>\n",
       "      <td>0.000000e+00</td>\n",
       "      <td>0.000000e+00</td>\n",
       "      <td>0.000000e+00</td>\n",
       "    </tr>\n",
       "    <tr>\n",
       "      <th>25%</th>\n",
       "      <td>1.582750e+03</td>\n",
       "      <td>1630.250000</td>\n",
       "      <td>1.473500e+03</td>\n",
       "      <td>1.550500e+03</td>\n",
       "      <td>1.653250e+03</td>\n",
       "      <td>1.516000e+03</td>\n",
       "    </tr>\n",
       "    <tr>\n",
       "      <th>50%</th>\n",
       "      <td>5.434000e+03</td>\n",
       "      <td>5450.000000</td>\n",
       "      <td>5.074500e+03</td>\n",
       "      <td>5.173500e+03</td>\n",
       "      <td>5.339500e+03</td>\n",
       "      <td>4.876500e+03</td>\n",
       "    </tr>\n",
       "    <tr>\n",
       "      <th>75%</th>\n",
       "      <td>1.768325e+04</td>\n",
       "      <td>18274.250000</td>\n",
       "      <td>1.762800e+04</td>\n",
       "      <td>1.683425e+04</td>\n",
       "      <td>2.128325e+04</td>\n",
       "      <td>1.910950e+04</td>\n",
       "    </tr>\n",
       "    <tr>\n",
       "      <th>max</th>\n",
       "      <td>1.031631e+06</td>\n",
       "      <td>990553.000000</td>\n",
       "      <td>1.016518e+06</td>\n",
       "      <td>1.051031e+06</td>\n",
       "      <td>1.183505e+06</td>\n",
       "      <td>1.127167e+06</td>\n",
       "    </tr>\n",
       "  </tbody>\n",
       "</table>\n",
       "</div>"
      ],
      "text/plain": [
       "               2012           2013          2014          2015          2016  \\\n",
       "count  8.800000e+01      88.000000  8.800000e+01  8.800000e+01  8.800000e+01   \n",
       "mean   3.789178e+04   36476.704545  3.743164e+04  3.875050e+04  4.366705e+04   \n",
       "std    1.260971e+05  120759.953391  1.244451e+05  1.287780e+05  1.449697e+05   \n",
       "min    0.000000e+00       0.000000  0.000000e+00  0.000000e+00  0.000000e+00   \n",
       "25%    1.582750e+03    1630.250000  1.473500e+03  1.550500e+03  1.653250e+03   \n",
       "50%    5.434000e+03    5450.000000  5.074500e+03  5.173500e+03  5.339500e+03   \n",
       "75%    1.768325e+04   18274.250000  1.762800e+04  1.683425e+04  2.128325e+04   \n",
       "max    1.031631e+06  990553.000000  1.016518e+06  1.051031e+06  1.183505e+06   \n",
       "\n",
       "               2017  \n",
       "count  8.800000e+01  \n",
       "mean   4.167472e+04  \n",
       "std    1.380298e+05  \n",
       "min    0.000000e+00  \n",
       "25%    1.516000e+03  \n",
       "50%    4.876500e+03  \n",
       "75%    1.910950e+04  \n",
       "max    1.127167e+06  "
      ]
     },
     "execution_count": 9,
     "metadata": {},
     "output_type": "execute_result"
    }
   ],
   "source": [
    "#Describe the data\n",
    "USImmig.describe()"
   ]
  },
  {
   "cell_type": "code",
   "execution_count": 10,
   "metadata": {
    "scrolled": true
   },
   "outputs": [
    {
     "data": {
      "text/html": [
       "<div>\n",
       "<style scoped>\n",
       "    .dataframe tbody tr th:only-of-type {\n",
       "        vertical-align: middle;\n",
       "    }\n",
       "\n",
       "    .dataframe tbody tr th {\n",
       "        vertical-align: top;\n",
       "    }\n",
       "\n",
       "    .dataframe thead th {\n",
       "        text-align: right;\n",
       "    }\n",
       "</style>\n",
       "<table border=\"1\" class=\"dataframe\">\n",
       "  <thead>\n",
       "    <tr style=\"text-align: right;\">\n",
       "      <th></th>\n",
       "      <th>LastResidence</th>\n",
       "      <th>2012</th>\n",
       "      <th>2013</th>\n",
       "      <th>2014</th>\n",
       "      <th>2015</th>\n",
       "      <th>2016</th>\n",
       "      <th>2017</th>\n",
       "    </tr>\n",
       "  </thead>\n",
       "  <tbody>\n",
       "    <tr>\n",
       "      <th>0</th>\n",
       "      <td>Total</td>\n",
       "      <td>1031631</td>\n",
       "      <td>990553</td>\n",
       "      <td>1016518</td>\n",
       "      <td>1051031</td>\n",
       "      <td>1183505</td>\n",
       "      <td>1127167</td>\n",
       "    </tr>\n",
       "    <tr>\n",
       "      <th>1</th>\n",
       "      <td>Europe</td>\n",
       "      <td>86956</td>\n",
       "      <td>91095</td>\n",
       "      <td>87790</td>\n",
       "      <td>90789</td>\n",
       "      <td>98043</td>\n",
       "      <td>89706</td>\n",
       "    </tr>\n",
       "    <tr>\n",
       "      <th>2</th>\n",
       "      <td>Austria-Hungary</td>\n",
       "      <td>3208</td>\n",
       "      <td>2061</td>\n",
       "      <td>2058</td>\n",
       "      <td>2965</td>\n",
       "      <td>2620</td>\n",
       "      <td>2886</td>\n",
       "    </tr>\n",
       "    <tr>\n",
       "      <th>3</th>\n",
       "      <td>Austria</td>\n",
       "      <td>2199</td>\n",
       "      <td>1053</td>\n",
       "      <td>1088</td>\n",
       "      <td>1928</td>\n",
       "      <td>1621</td>\n",
       "      <td>1962</td>\n",
       "    </tr>\n",
       "    <tr>\n",
       "      <th>4</th>\n",
       "      <td>Hungary</td>\n",
       "      <td>1009</td>\n",
       "      <td>1008</td>\n",
       "      <td>970</td>\n",
       "      <td>1037</td>\n",
       "      <td>999</td>\n",
       "      <td>924</td>\n",
       "    </tr>\n",
       "    <tr>\n",
       "      <th>...</th>\n",
       "      <td>...</td>\n",
       "      <td>...</td>\n",
       "      <td>...</td>\n",
       "      <td>...</td>\n",
       "      <td>...</td>\n",
       "      <td>...</td>\n",
       "      <td>...</td>\n",
       "    </tr>\n",
       "    <tr>\n",
       "      <th>83</th>\n",
       "      <td>Oceania</td>\n",
       "      <td>5573</td>\n",
       "      <td>6061</td>\n",
       "      <td>5980</td>\n",
       "      <td>6227</td>\n",
       "      <td>6489</td>\n",
       "      <td>5986</td>\n",
       "    </tr>\n",
       "    <tr>\n",
       "      <th>84</th>\n",
       "      <td>Australia</td>\n",
       "      <td>3146</td>\n",
       "      <td>3529</td>\n",
       "      <td>3582</td>\n",
       "      <td>3795</td>\n",
       "      <td>4173</td>\n",
       "      <td>3818</td>\n",
       "    </tr>\n",
       "    <tr>\n",
       "      <th>85</th>\n",
       "      <td>New Zealand</td>\n",
       "      <td>980</td>\n",
       "      <td>1027</td>\n",
       "      <td>941</td>\n",
       "      <td>978</td>\n",
       "      <td>939</td>\n",
       "      <td>900</td>\n",
       "    </tr>\n",
       "    <tr>\n",
       "      <th>86</th>\n",
       "      <td>Other Oceania</td>\n",
       "      <td>1447</td>\n",
       "      <td>1505</td>\n",
       "      <td>1457</td>\n",
       "      <td>1454</td>\n",
       "      <td>1377</td>\n",
       "      <td>1268</td>\n",
       "    </tr>\n",
       "    <tr>\n",
       "      <th>87</th>\n",
       "      <td>Not Specified</td>\n",
       "      <td>9265</td>\n",
       "      <td>10127</td>\n",
       "      <td>8430</td>\n",
       "      <td>10256</td>\n",
       "      <td>22726</td>\n",
       "      <td>20761</td>\n",
       "    </tr>\n",
       "  </tbody>\n",
       "</table>\n",
       "<p>88 rows × 7 columns</p>\n",
       "</div>"
      ],
      "text/plain": [
       "      LastResidence     2012    2013     2014     2015     2016     2017\n",
       "0             Total  1031631  990553  1016518  1051031  1183505  1127167\n",
       "1            Europe    86956   91095    87790    90789    98043    89706\n",
       "2   Austria-Hungary     3208    2061     2058     2965     2620     2886\n",
       "3           Austria     2199    1053     1088     1928     1621     1962\n",
       "4           Hungary     1009    1008      970     1037      999      924\n",
       "..              ...      ...     ...      ...      ...      ...      ...\n",
       "83          Oceania     5573    6061     5980     6227     6489     5986\n",
       "84        Australia     3146    3529     3582     3795     4173     3818\n",
       "85      New Zealand      980    1027      941      978      939      900\n",
       "86    Other Oceania     1447    1505     1457     1454     1377     1268\n",
       "87   Not Specified      9265   10127     8430    10256    22726    20761\n",
       "\n",
       "[88 rows x 7 columns]"
      ]
     },
     "execution_count": 10,
     "metadata": {},
     "output_type": "execute_result"
    }
   ],
   "source": [
    "#Drop rows with NaN\n",
    "USImmig.dropna()\n",
    "USImmig"
   ]
  },
  {
   "cell_type": "code",
   "execution_count": 11,
   "metadata": {
    "scrolled": false
   },
   "outputs": [
    {
     "name": "stdout",
     "output_type": "stream",
     "text": [
      "LastResidence    object\n",
      "2012              int64\n",
      "2013              int64\n",
      "2014              int64\n",
      "2015              int64\n",
      "2016              int64\n",
      "2017              int64\n",
      "dtype: object\n"
     ]
    }
   ],
   "source": [
    "#Checking data type of dataframe\n",
    "print (USImmig.dtypes)"
   ]
  },
  {
   "cell_type": "code",
   "execution_count": 12,
   "metadata": {},
   "outputs": [
    {
     "name": "stdout",
     "output_type": "stream",
     "text": [
      "LastResidence    string\n",
      "2012              int64\n",
      "2013              int64\n",
      "2014              int64\n",
      "2015              int64\n",
      "2016              int64\n",
      "2017              int64\n",
      "dtype: object\n"
     ]
    }
   ],
   "source": [
    "#Change dtype of LastResidence to string\n",
    "USImmig['LastResidence'] = USImmig['LastResidence'].astype('string')\n",
    "print (USImmig.dtypes)"
   ]
  },
  {
   "cell_type": "code",
   "execution_count": 13,
   "metadata": {},
   "outputs": [
    {
     "data": {
      "text/html": [
       "<div>\n",
       "<style scoped>\n",
       "    .dataframe tbody tr th:only-of-type {\n",
       "        vertical-align: middle;\n",
       "    }\n",
       "\n",
       "    .dataframe tbody tr th {\n",
       "        vertical-align: top;\n",
       "    }\n",
       "\n",
       "    .dataframe thead th {\n",
       "        text-align: right;\n",
       "    }\n",
       "</style>\n",
       "<table border=\"1\" class=\"dataframe\">\n",
       "  <thead>\n",
       "    <tr style=\"text-align: right;\">\n",
       "      <th></th>\n",
       "      <th>LastResidence</th>\n",
       "      <th>2012</th>\n",
       "      <th>2013</th>\n",
       "      <th>2014</th>\n",
       "      <th>2015</th>\n",
       "      <th>2016</th>\n",
       "      <th>2017</th>\n",
       "    </tr>\n",
       "  </thead>\n",
       "  <tbody>\n",
       "    <tr>\n",
       "      <th>3</th>\n",
       "      <td>Austria</td>\n",
       "      <td>2199</td>\n",
       "      <td>1053</td>\n",
       "      <td>1088</td>\n",
       "      <td>1928</td>\n",
       "      <td>1621</td>\n",
       "      <td>1962</td>\n",
       "    </tr>\n",
       "    <tr>\n",
       "      <th>4</th>\n",
       "      <td>Hungary</td>\n",
       "      <td>1009</td>\n",
       "      <td>1008</td>\n",
       "      <td>970</td>\n",
       "      <td>1037</td>\n",
       "      <td>999</td>\n",
       "      <td>924</td>\n",
       "    </tr>\n",
       "    <tr>\n",
       "      <th>5</th>\n",
       "      <td>Belgium</td>\n",
       "      <td>698</td>\n",
       "      <td>803</td>\n",
       "      <td>775</td>\n",
       "      <td>809</td>\n",
       "      <td>821</td>\n",
       "      <td>742</td>\n",
       "    </tr>\n",
       "    <tr>\n",
       "      <th>6</th>\n",
       "      <td>Bulgaria4</td>\n",
       "      <td>2322</td>\n",
       "      <td>2720</td>\n",
       "      <td>2886</td>\n",
       "      <td>2585</td>\n",
       "      <td>2560</td>\n",
       "      <td>2070</td>\n",
       "    </tr>\n",
       "    <tr>\n",
       "      <th>7</th>\n",
       "      <td>Czechoslovakia</td>\n",
       "      <td>1316</td>\n",
       "      <td>1258</td>\n",
       "      <td>1168</td>\n",
       "      <td>1236</td>\n",
       "      <td>1299</td>\n",
       "      <td>1142</td>\n",
       "    </tr>\n",
       "    <tr>\n",
       "      <th>8</th>\n",
       "      <td>Denmark</td>\n",
       "      <td>492</td>\n",
       "      <td>546</td>\n",
       "      <td>533</td>\n",
       "      <td>634</td>\n",
       "      <td>562</td>\n",
       "      <td>536</td>\n",
       "    </tr>\n",
       "    <tr>\n",
       "      <th>9</th>\n",
       "      <td>Finland6</td>\n",
       "      <td>373</td>\n",
       "      <td>360</td>\n",
       "      <td>368</td>\n",
       "      <td>397</td>\n",
       "      <td>512</td>\n",
       "      <td>478</td>\n",
       "    </tr>\n",
       "    <tr>\n",
       "      <th>10</th>\n",
       "      <td>France</td>\n",
       "      <td>4201</td>\n",
       "      <td>4668</td>\n",
       "      <td>4544</td>\n",
       "      <td>5034</td>\n",
       "      <td>5473</td>\n",
       "      <td>4973</td>\n",
       "    </tr>\n",
       "    <tr>\n",
       "      <th>11</th>\n",
       "      <td>Germany</td>\n",
       "      <td>6732</td>\n",
       "      <td>6880</td>\n",
       "      <td>6387</td>\n",
       "      <td>5965</td>\n",
       "      <td>5895</td>\n",
       "      <td>5369</td>\n",
       "    </tr>\n",
       "    <tr>\n",
       "      <th>12</th>\n",
       "      <td>Greece</td>\n",
       "      <td>1264</td>\n",
       "      <td>1526</td>\n",
       "      <td>1388</td>\n",
       "      <td>1330</td>\n",
       "      <td>1664</td>\n",
       "      <td>1495</td>\n",
       "    </tr>\n",
       "  </tbody>\n",
       "</table>\n",
       "</div>"
      ],
      "text/plain": [
       "     LastResidence  2012  2013  2014  2015  2016  2017\n",
       "3          Austria  2199  1053  1088  1928  1621  1962\n",
       "4          Hungary  1009  1008   970  1037   999   924\n",
       "5          Belgium   698   803   775   809   821   742\n",
       "6        Bulgaria4  2322  2720  2886  2585  2560  2070\n",
       "7   Czechoslovakia  1316  1258  1168  1236  1299  1142\n",
       "8          Denmark   492   546   533   634   562   536\n",
       "9         Finland6   373   360   368   397   512   478\n",
       "10          France  4201  4668  4544  5034  5473  4973\n",
       "11         Germany  6732  6880  6387  5965  5895  5369\n",
       "12          Greece  1264  1526  1388  1330  1664  1495"
      ]
     },
     "execution_count": 13,
     "metadata": {},
     "output_type": "execute_result"
    }
   ],
   "source": [
    "#Drop Continents\n",
    "update_USImmig = USImmig.drop([0,1,2,16,27,28,42,43,46,52,60,61,74,75,76,82,83,86,87])\n",
    "\n",
    "#Show first 10 rows\n",
    "update_USImmig.head(10)"
   ]
  },
  {
   "cell_type": "code",
   "execution_count": 14,
   "metadata": {},
   "outputs": [
    {
     "data": {
      "text/html": [
       "<div>\n",
       "<style scoped>\n",
       "    .dataframe tbody tr th:only-of-type {\n",
       "        vertical-align: middle;\n",
       "    }\n",
       "\n",
       "    .dataframe tbody tr th {\n",
       "        vertical-align: top;\n",
       "    }\n",
       "\n",
       "    .dataframe thead th {\n",
       "        text-align: right;\n",
       "    }\n",
       "</style>\n",
       "<table border=\"1\" class=\"dataframe\">\n",
       "  <thead>\n",
       "    <tr style=\"text-align: right;\">\n",
       "      <th></th>\n",
       "      <th>LastResidence</th>\n",
       "      <th>2012</th>\n",
       "      <th>2013</th>\n",
       "      <th>2014</th>\n",
       "      <th>2015</th>\n",
       "      <th>2016</th>\n",
       "      <th>2017</th>\n",
       "    </tr>\n",
       "  </thead>\n",
       "  <tbody>\n",
       "    <tr>\n",
       "      <th>45</th>\n",
       "      <td>Mexico</td>\n",
       "      <td>145326</td>\n",
       "      <td>134198</td>\n",
       "      <td>133107</td>\n",
       "      <td>157227</td>\n",
       "      <td>172726</td>\n",
       "      <td>168980</td>\n",
       "    </tr>\n",
       "    <tr>\n",
       "      <th>29</th>\n",
       "      <td>China</td>\n",
       "      <td>78184</td>\n",
       "      <td>68410</td>\n",
       "      <td>72492</td>\n",
       "      <td>70977</td>\n",
       "      <td>77658</td>\n",
       "      <td>66479</td>\n",
       "    </tr>\n",
       "    <tr>\n",
       "      <th>47</th>\n",
       "      <td>Cuba</td>\n",
       "      <td>32551</td>\n",
       "      <td>31343</td>\n",
       "      <td>46505</td>\n",
       "      <td>54178</td>\n",
       "      <td>66120</td>\n",
       "      <td>64749</td>\n",
       "    </tr>\n",
       "    <tr>\n",
       "      <th>48</th>\n",
       "      <td>Dominican Republic</td>\n",
       "      <td>41535</td>\n",
       "      <td>41487</td>\n",
       "      <td>44550</td>\n",
       "      <td>50382</td>\n",
       "      <td>60613</td>\n",
       "      <td>58384</td>\n",
       "    </tr>\n",
       "    <tr>\n",
       "      <th>31</th>\n",
       "      <td>India</td>\n",
       "      <td>63320</td>\n",
       "      <td>65506</td>\n",
       "      <td>74451</td>\n",
       "      <td>61380</td>\n",
       "      <td>61691</td>\n",
       "      <td>57155</td>\n",
       "    </tr>\n",
       "    <tr>\n",
       "      <th>...</th>\n",
       "      <td>...</td>\n",
       "      <td>...</td>\n",
       "      <td>...</td>\n",
       "      <td>...</td>\n",
       "      <td>...</td>\n",
       "      <td>...</td>\n",
       "      <td>...</td>\n",
       "    </tr>\n",
       "    <tr>\n",
       "      <th>8</th>\n",
       "      <td>Denmark</td>\n",
       "      <td>492</td>\n",
       "      <td>546</td>\n",
       "      <td>533</td>\n",
       "      <td>634</td>\n",
       "      <td>562</td>\n",
       "      <td>536</td>\n",
       "    </tr>\n",
       "    <tr>\n",
       "      <th>9</th>\n",
       "      <td>Finland6</td>\n",
       "      <td>373</td>\n",
       "      <td>360</td>\n",
       "      <td>368</td>\n",
       "      <td>397</td>\n",
       "      <td>512</td>\n",
       "      <td>478</td>\n",
       "    </tr>\n",
       "    <tr>\n",
       "      <th>17</th>\n",
       "      <td>Norway</td>\n",
       "      <td>314</td>\n",
       "      <td>389</td>\n",
       "      <td>332</td>\n",
       "      <td>357</td>\n",
       "      <td>404</td>\n",
       "      <td>377</td>\n",
       "    </tr>\n",
       "    <tr>\n",
       "      <th>69</th>\n",
       "      <td>Paraguay</td>\n",
       "      <td>454</td>\n",
       "      <td>437</td>\n",
       "      <td>363</td>\n",
       "      <td>353</td>\n",
       "      <td>400</td>\n",
       "      <td>364</td>\n",
       "    </tr>\n",
       "    <tr>\n",
       "      <th>71</th>\n",
       "      <td>Suriname</td>\n",
       "      <td>216</td>\n",
       "      <td>170</td>\n",
       "      <td>160</td>\n",
       "      <td>116</td>\n",
       "      <td>130</td>\n",
       "      <td>111</td>\n",
       "    </tr>\n",
       "  </tbody>\n",
       "</table>\n",
       "<p>69 rows × 7 columns</p>\n",
       "</div>"
      ],
      "text/plain": [
       "          LastResidence    2012    2013    2014    2015    2016    2017\n",
       "45               Mexico  145326  134198  133107  157227  172726  168980\n",
       "29                China   78184   68410   72492   70977   77658   66479\n",
       "47                Cuba    32551   31343   46505   54178   66120   64749\n",
       "48  Dominican Republic    41535   41487   44550   50382   60613   58384\n",
       "31                India   63320   65506   74451   61380   61691   57155\n",
       "..                  ...     ...     ...     ...     ...     ...     ...\n",
       "8               Denmark     492     546     533     634     562     536\n",
       "9              Finland6     373     360     368     397     512     478\n",
       "17               Norway     314     389     332     357     404     377\n",
       "69            Paraguay      454     437     363     353     400     364\n",
       "71            Suriname      216     170     160     116     130     111\n",
       "\n",
       "[69 rows x 7 columns]"
      ]
     },
     "execution_count": 14,
     "metadata": {},
     "output_type": "execute_result"
    }
   ],
   "source": [
    "#Sorting values descending for column Colombia\n",
    "update_USImmig.sort_values(by=['2017'], ascending=False) "
   ]
  },
  {
   "cell_type": "code",
   "execution_count": 15,
   "metadata": {},
   "outputs": [],
   "source": [
    "#Calculating proportion of immigrants from each country in dataframe\n",
    "update_USImmig['ImmPercent2017'] = (update_USImmig['2017'] / \n",
    "                  update_USImmig['2017'].sum()) * 100\n",
    "\n",
    "#Calculating proportion of Colombians migrating to each country in dataframe\n",
    "update_USImmig['ImmPercent2012'] = (update_USImmig['2012'] / \n",
    "                  update_USImmig['2012'].sum()) * 100"
   ]
  },
  {
   "cell_type": "code",
   "execution_count": 16,
   "metadata": {},
   "outputs": [
    {
     "data": {
      "text/html": [
       "<div>\n",
       "<style scoped>\n",
       "    .dataframe tbody tr th:only-of-type {\n",
       "        vertical-align: middle;\n",
       "    }\n",
       "\n",
       "    .dataframe tbody tr th {\n",
       "        vertical-align: top;\n",
       "    }\n",
       "\n",
       "    .dataframe thead th {\n",
       "        text-align: right;\n",
       "    }\n",
       "</style>\n",
       "<table border=\"1\" class=\"dataframe\">\n",
       "  <thead>\n",
       "    <tr style=\"text-align: right;\">\n",
       "      <th></th>\n",
       "      <th>LastResidence</th>\n",
       "      <th>2012</th>\n",
       "      <th>2013</th>\n",
       "      <th>2014</th>\n",
       "      <th>2015</th>\n",
       "      <th>2016</th>\n",
       "      <th>2017</th>\n",
       "      <th>ImmPercent2017</th>\n",
       "      <th>ImmPercent2012</th>\n",
       "    </tr>\n",
       "  </thead>\n",
       "  <tbody>\n",
       "    <tr>\n",
       "      <th>3</th>\n",
       "      <td>Austria</td>\n",
       "      <td>2199</td>\n",
       "      <td>1053</td>\n",
       "      <td>1088</td>\n",
       "      <td>1928</td>\n",
       "      <td>1621</td>\n",
       "      <td>1962</td>\n",
       "      <td>0.224524</td>\n",
       "      <td>0.270185</td>\n",
       "    </tr>\n",
       "    <tr>\n",
       "      <th>4</th>\n",
       "      <td>Hungary</td>\n",
       "      <td>1009</td>\n",
       "      <td>1008</td>\n",
       "      <td>970</td>\n",
       "      <td>1037</td>\n",
       "      <td>999</td>\n",
       "      <td>924</td>\n",
       "      <td>0.105739</td>\n",
       "      <td>0.123973</td>\n",
       "    </tr>\n",
       "    <tr>\n",
       "      <th>5</th>\n",
       "      <td>Belgium</td>\n",
       "      <td>698</td>\n",
       "      <td>803</td>\n",
       "      <td>775</td>\n",
       "      <td>809</td>\n",
       "      <td>821</td>\n",
       "      <td>742</td>\n",
       "      <td>0.084912</td>\n",
       "      <td>0.085761</td>\n",
       "    </tr>\n",
       "    <tr>\n",
       "      <th>6</th>\n",
       "      <td>Bulgaria4</td>\n",
       "      <td>2322</td>\n",
       "      <td>2720</td>\n",
       "      <td>2886</td>\n",
       "      <td>2585</td>\n",
       "      <td>2560</td>\n",
       "      <td>2070</td>\n",
       "      <td>0.236883</td>\n",
       "      <td>0.285298</td>\n",
       "    </tr>\n",
       "    <tr>\n",
       "      <th>7</th>\n",
       "      <td>Czechoslovakia</td>\n",
       "      <td>1316</td>\n",
       "      <td>1258</td>\n",
       "      <td>1168</td>\n",
       "      <td>1236</td>\n",
       "      <td>1299</td>\n",
       "      <td>1142</td>\n",
       "      <td>0.130686</td>\n",
       "      <td>0.161693</td>\n",
       "    </tr>\n",
       "    <tr>\n",
       "      <th>...</th>\n",
       "      <td>...</td>\n",
       "      <td>...</td>\n",
       "      <td>...</td>\n",
       "      <td>...</td>\n",
       "      <td>...</td>\n",
       "      <td>...</td>\n",
       "      <td>...</td>\n",
       "      <td>...</td>\n",
       "      <td>...</td>\n",
       "    </tr>\n",
       "    <tr>\n",
       "      <th>79</th>\n",
       "      <td>Liberia</td>\n",
       "      <td>3451</td>\n",
       "      <td>3036</td>\n",
       "      <td>3681</td>\n",
       "      <td>3580</td>\n",
       "      <td>3545</td>\n",
       "      <td>4085</td>\n",
       "      <td>0.467472</td>\n",
       "      <td>0.424015</td>\n",
       "    </tr>\n",
       "    <tr>\n",
       "      <th>80</th>\n",
       "      <td>Morocco</td>\n",
       "      <td>3534</td>\n",
       "      <td>3202</td>\n",
       "      <td>3495</td>\n",
       "      <td>3569</td>\n",
       "      <td>4447</td>\n",
       "      <td>4066</td>\n",
       "      <td>0.465298</td>\n",
       "      <td>0.434213</td>\n",
       "    </tr>\n",
       "    <tr>\n",
       "      <th>81</th>\n",
       "      <td>South Africa</td>\n",
       "      <td>2960</td>\n",
       "      <td>2693</td>\n",
       "      <td>2871</td>\n",
       "      <td>3298</td>\n",
       "      <td>3441</td>\n",
       "      <td>3438</td>\n",
       "      <td>0.393432</td>\n",
       "      <td>0.363687</td>\n",
       "    </tr>\n",
       "    <tr>\n",
       "      <th>84</th>\n",
       "      <td>Australia</td>\n",
       "      <td>3146</td>\n",
       "      <td>3529</td>\n",
       "      <td>3582</td>\n",
       "      <td>3795</td>\n",
       "      <td>4173</td>\n",
       "      <td>3818</td>\n",
       "      <td>0.436918</td>\n",
       "      <td>0.386541</td>\n",
       "    </tr>\n",
       "    <tr>\n",
       "      <th>85</th>\n",
       "      <td>New Zealand</td>\n",
       "      <td>980</td>\n",
       "      <td>1027</td>\n",
       "      <td>941</td>\n",
       "      <td>978</td>\n",
       "      <td>939</td>\n",
       "      <td>900</td>\n",
       "      <td>0.102993</td>\n",
       "      <td>0.120410</td>\n",
       "    </tr>\n",
       "  </tbody>\n",
       "</table>\n",
       "<p>69 rows × 9 columns</p>\n",
       "</div>"
      ],
      "text/plain": [
       "     LastResidence  2012  2013  2014  2015  2016  2017  ImmPercent2017  \\\n",
       "3          Austria  2199  1053  1088  1928  1621  1962        0.224524   \n",
       "4          Hungary  1009  1008   970  1037   999   924        0.105739   \n",
       "5          Belgium   698   803   775   809   821   742        0.084912   \n",
       "6        Bulgaria4  2322  2720  2886  2585  2560  2070        0.236883   \n",
       "7   Czechoslovakia  1316  1258  1168  1236  1299  1142        0.130686   \n",
       "..             ...   ...   ...   ...   ...   ...   ...             ...   \n",
       "79        Liberia   3451  3036  3681  3580  3545  4085        0.467472   \n",
       "80        Morocco   3534  3202  3495  3569  4447  4066        0.465298   \n",
       "81   South Africa   2960  2693  2871  3298  3441  3438        0.393432   \n",
       "84       Australia  3146  3529  3582  3795  4173  3818        0.436918   \n",
       "85     New Zealand   980  1027   941   978   939   900        0.102993   \n",
       "\n",
       "    ImmPercent2012  \n",
       "3         0.270185  \n",
       "4         0.123973  \n",
       "5         0.085761  \n",
       "6         0.285298  \n",
       "7         0.161693  \n",
       "..             ...  \n",
       "79        0.424015  \n",
       "80        0.434213  \n",
       "81        0.363687  \n",
       "84        0.386541  \n",
       "85        0.120410  \n",
       "\n",
       "[69 rows x 9 columns]"
      ]
     },
     "execution_count": 16,
     "metadata": {},
     "output_type": "execute_result"
    }
   ],
   "source": [
    "update_USImmig"
   ]
  },
  {
   "cell_type": "code",
   "execution_count": 17,
   "metadata": {
    "scrolled": false
   },
   "outputs": [],
   "source": [
    "#update_USImmig"
   ]
  },
  {
   "cell_type": "code",
   "execution_count": 18,
   "metadata": {
    "scrolled": true
   },
   "outputs": [
    {
     "data": {
      "text/html": [
       "<div>\n",
       "<style scoped>\n",
       "    .dataframe tbody tr th:only-of-type {\n",
       "        vertical-align: middle;\n",
       "    }\n",
       "\n",
       "    .dataframe tbody tr th {\n",
       "        vertical-align: top;\n",
       "    }\n",
       "\n",
       "    .dataframe thead th {\n",
       "        text-align: right;\n",
       "    }\n",
       "</style>\n",
       "<table border=\"1\" class=\"dataframe\">\n",
       "  <thead>\n",
       "    <tr style=\"text-align: right;\">\n",
       "      <th></th>\n",
       "      <th>LastResidence</th>\n",
       "      <th>2012</th>\n",
       "      <th>2013</th>\n",
       "      <th>2014</th>\n",
       "      <th>2015</th>\n",
       "      <th>2016</th>\n",
       "      <th>2017</th>\n",
       "      <th>ImmPercent2017</th>\n",
       "      <th>ImmPercent2012</th>\n",
       "    </tr>\n",
       "  </thead>\n",
       "  <tbody>\n",
       "    <tr>\n",
       "      <th>45</th>\n",
       "      <td>Mexico</td>\n",
       "      <td>145326</td>\n",
       "      <td>134198</td>\n",
       "      <td>133107</td>\n",
       "      <td>157227</td>\n",
       "      <td>172726</td>\n",
       "      <td>168980</td>\n",
       "      <td>19.337437</td>\n",
       "      <td>17.855818</td>\n",
       "    </tr>\n",
       "    <tr>\n",
       "      <th>29</th>\n",
       "      <td>China</td>\n",
       "      <td>78184</td>\n",
       "      <td>68410</td>\n",
       "      <td>72492</td>\n",
       "      <td>70977</td>\n",
       "      <td>77658</td>\n",
       "      <td>66479</td>\n",
       "      <td>7.607607</td>\n",
       "      <td>9.606259</td>\n",
       "    </tr>\n",
       "    <tr>\n",
       "      <th>47</th>\n",
       "      <td>Cuba</td>\n",
       "      <td>32551</td>\n",
       "      <td>31343</td>\n",
       "      <td>46505</td>\n",
       "      <td>54178</td>\n",
       "      <td>66120</td>\n",
       "      <td>64749</td>\n",
       "      <td>7.409633</td>\n",
       "      <td>3.999454</td>\n",
       "    </tr>\n",
       "    <tr>\n",
       "      <th>48</th>\n",
       "      <td>Dominican Republic</td>\n",
       "      <td>41535</td>\n",
       "      <td>41487</td>\n",
       "      <td>44550</td>\n",
       "      <td>50382</td>\n",
       "      <td>60613</td>\n",
       "      <td>58384</td>\n",
       "      <td>6.681246</td>\n",
       "      <td>5.103295</td>\n",
       "    </tr>\n",
       "    <tr>\n",
       "      <th>31</th>\n",
       "      <td>India</td>\n",
       "      <td>63320</td>\n",
       "      <td>65506</td>\n",
       "      <td>74451</td>\n",
       "      <td>61380</td>\n",
       "      <td>61691</td>\n",
       "      <td>57155</td>\n",
       "      <td>6.540604</td>\n",
       "      <td>7.779959</td>\n",
       "    </tr>\n",
       "    <tr>\n",
       "      <th>...</th>\n",
       "      <td>...</td>\n",
       "      <td>...</td>\n",
       "      <td>...</td>\n",
       "      <td>...</td>\n",
       "      <td>...</td>\n",
       "      <td>...</td>\n",
       "      <td>...</td>\n",
       "      <td>...</td>\n",
       "      <td>...</td>\n",
       "    </tr>\n",
       "    <tr>\n",
       "      <th>8</th>\n",
       "      <td>Denmark</td>\n",
       "      <td>492</td>\n",
       "      <td>546</td>\n",
       "      <td>533</td>\n",
       "      <td>634</td>\n",
       "      <td>562</td>\n",
       "      <td>536</td>\n",
       "      <td>0.061338</td>\n",
       "      <td>0.060451</td>\n",
       "    </tr>\n",
       "    <tr>\n",
       "      <th>9</th>\n",
       "      <td>Finland6</td>\n",
       "      <td>373</td>\n",
       "      <td>360</td>\n",
       "      <td>368</td>\n",
       "      <td>397</td>\n",
       "      <td>512</td>\n",
       "      <td>478</td>\n",
       "      <td>0.054701</td>\n",
       "      <td>0.045830</td>\n",
       "    </tr>\n",
       "    <tr>\n",
       "      <th>17</th>\n",
       "      <td>Norway</td>\n",
       "      <td>314</td>\n",
       "      <td>389</td>\n",
       "      <td>332</td>\n",
       "      <td>357</td>\n",
       "      <td>404</td>\n",
       "      <td>377</td>\n",
       "      <td>0.043142</td>\n",
       "      <td>0.038580</td>\n",
       "    </tr>\n",
       "    <tr>\n",
       "      <th>69</th>\n",
       "      <td>Paraguay</td>\n",
       "      <td>454</td>\n",
       "      <td>437</td>\n",
       "      <td>363</td>\n",
       "      <td>353</td>\n",
       "      <td>400</td>\n",
       "      <td>364</td>\n",
       "      <td>0.041655</td>\n",
       "      <td>0.055782</td>\n",
       "    </tr>\n",
       "    <tr>\n",
       "      <th>71</th>\n",
       "      <td>Suriname</td>\n",
       "      <td>216</td>\n",
       "      <td>170</td>\n",
       "      <td>160</td>\n",
       "      <td>116</td>\n",
       "      <td>130</td>\n",
       "      <td>111</td>\n",
       "      <td>0.012702</td>\n",
       "      <td>0.026539</td>\n",
       "    </tr>\n",
       "  </tbody>\n",
       "</table>\n",
       "<p>69 rows × 9 columns</p>\n",
       "</div>"
      ],
      "text/plain": [
       "          LastResidence    2012    2013    2014    2015    2016    2017  \\\n",
       "45               Mexico  145326  134198  133107  157227  172726  168980   \n",
       "29                China   78184   68410   72492   70977   77658   66479   \n",
       "47                Cuba    32551   31343   46505   54178   66120   64749   \n",
       "48  Dominican Republic    41535   41487   44550   50382   60613   58384   \n",
       "31                India   63320   65506   74451   61380   61691   57155   \n",
       "..                  ...     ...     ...     ...     ...     ...     ...   \n",
       "8               Denmark     492     546     533     634     562     536   \n",
       "9              Finland6     373     360     368     397     512     478   \n",
       "17               Norway     314     389     332     357     404     377   \n",
       "69            Paraguay      454     437     363     353     400     364   \n",
       "71            Suriname      216     170     160     116     130     111   \n",
       "\n",
       "    ImmPercent2017  ImmPercent2012  \n",
       "45       19.337437       17.855818  \n",
       "29        7.607607        9.606259  \n",
       "47        7.409633        3.999454  \n",
       "48        6.681246        5.103295  \n",
       "31        6.540604        7.779959  \n",
       "..             ...             ...  \n",
       "8         0.061338        0.060451  \n",
       "9         0.054701        0.045830  \n",
       "17        0.043142        0.038580  \n",
       "69        0.041655        0.055782  \n",
       "71        0.012702        0.026539  \n",
       "\n",
       "[69 rows x 9 columns]"
      ]
     },
     "execution_count": 18,
     "metadata": {},
     "output_type": "execute_result"
    }
   ],
   "source": [
    "update_USImmig.sort_values(by=['2017'], ascending=False) "
   ]
  },
  {
   "cell_type": "code",
   "execution_count": 19,
   "metadata": {},
   "outputs": [
    {
     "data": {
      "text/html": [
       "<div>\n",
       "<style scoped>\n",
       "    .dataframe tbody tr th:only-of-type {\n",
       "        vertical-align: middle;\n",
       "    }\n",
       "\n",
       "    .dataframe tbody tr th {\n",
       "        vertical-align: top;\n",
       "    }\n",
       "\n",
       "    .dataframe thead th {\n",
       "        text-align: right;\n",
       "    }\n",
       "</style>\n",
       "<table border=\"1\" class=\"dataframe\">\n",
       "  <thead>\n",
       "    <tr style=\"text-align: right;\">\n",
       "      <th></th>\n",
       "      <th>LastResidence</th>\n",
       "      <th>2012</th>\n",
       "      <th>2013</th>\n",
       "      <th>2014</th>\n",
       "      <th>2015</th>\n",
       "      <th>2016</th>\n",
       "      <th>2017</th>\n",
       "      <th>ImmPercent2017</th>\n",
       "      <th>ImmPercent2012</th>\n",
       "      <th>PerChg</th>\n",
       "    </tr>\n",
       "  </thead>\n",
       "  <tbody>\n",
       "    <tr>\n",
       "      <th>3</th>\n",
       "      <td>Austria</td>\n",
       "      <td>2199</td>\n",
       "      <td>1053</td>\n",
       "      <td>1088</td>\n",
       "      <td>1928</td>\n",
       "      <td>1621</td>\n",
       "      <td>1962</td>\n",
       "      <td>0.224524</td>\n",
       "      <td>0.270185</td>\n",
       "      <td>-0.045661</td>\n",
       "    </tr>\n",
       "    <tr>\n",
       "      <th>4</th>\n",
       "      <td>Hungary</td>\n",
       "      <td>1009</td>\n",
       "      <td>1008</td>\n",
       "      <td>970</td>\n",
       "      <td>1037</td>\n",
       "      <td>999</td>\n",
       "      <td>924</td>\n",
       "      <td>0.105739</td>\n",
       "      <td>0.123973</td>\n",
       "      <td>-0.018234</td>\n",
       "    </tr>\n",
       "    <tr>\n",
       "      <th>5</th>\n",
       "      <td>Belgium</td>\n",
       "      <td>698</td>\n",
       "      <td>803</td>\n",
       "      <td>775</td>\n",
       "      <td>809</td>\n",
       "      <td>821</td>\n",
       "      <td>742</td>\n",
       "      <td>0.084912</td>\n",
       "      <td>0.085761</td>\n",
       "      <td>-0.000850</td>\n",
       "    </tr>\n",
       "    <tr>\n",
       "      <th>6</th>\n",
       "      <td>Bulgaria4</td>\n",
       "      <td>2322</td>\n",
       "      <td>2720</td>\n",
       "      <td>2886</td>\n",
       "      <td>2585</td>\n",
       "      <td>2560</td>\n",
       "      <td>2070</td>\n",
       "      <td>0.236883</td>\n",
       "      <td>0.285298</td>\n",
       "      <td>-0.048415</td>\n",
       "    </tr>\n",
       "    <tr>\n",
       "      <th>7</th>\n",
       "      <td>Czechoslovakia</td>\n",
       "      <td>1316</td>\n",
       "      <td>1258</td>\n",
       "      <td>1168</td>\n",
       "      <td>1236</td>\n",
       "      <td>1299</td>\n",
       "      <td>1142</td>\n",
       "      <td>0.130686</td>\n",
       "      <td>0.161693</td>\n",
       "      <td>-0.031007</td>\n",
       "    </tr>\n",
       "    <tr>\n",
       "      <th>...</th>\n",
       "      <td>...</td>\n",
       "      <td>...</td>\n",
       "      <td>...</td>\n",
       "      <td>...</td>\n",
       "      <td>...</td>\n",
       "      <td>...</td>\n",
       "      <td>...</td>\n",
       "      <td>...</td>\n",
       "      <td>...</td>\n",
       "      <td>...</td>\n",
       "    </tr>\n",
       "    <tr>\n",
       "      <th>79</th>\n",
       "      <td>Liberia</td>\n",
       "      <td>3451</td>\n",
       "      <td>3036</td>\n",
       "      <td>3681</td>\n",
       "      <td>3580</td>\n",
       "      <td>3545</td>\n",
       "      <td>4085</td>\n",
       "      <td>0.467472</td>\n",
       "      <td>0.424015</td>\n",
       "      <td>0.043457</td>\n",
       "    </tr>\n",
       "    <tr>\n",
       "      <th>80</th>\n",
       "      <td>Morocco</td>\n",
       "      <td>3534</td>\n",
       "      <td>3202</td>\n",
       "      <td>3495</td>\n",
       "      <td>3569</td>\n",
       "      <td>4447</td>\n",
       "      <td>4066</td>\n",
       "      <td>0.465298</td>\n",
       "      <td>0.434213</td>\n",
       "      <td>0.031085</td>\n",
       "    </tr>\n",
       "    <tr>\n",
       "      <th>81</th>\n",
       "      <td>South Africa</td>\n",
       "      <td>2960</td>\n",
       "      <td>2693</td>\n",
       "      <td>2871</td>\n",
       "      <td>3298</td>\n",
       "      <td>3441</td>\n",
       "      <td>3438</td>\n",
       "      <td>0.393432</td>\n",
       "      <td>0.363687</td>\n",
       "      <td>0.029745</td>\n",
       "    </tr>\n",
       "    <tr>\n",
       "      <th>84</th>\n",
       "      <td>Australia</td>\n",
       "      <td>3146</td>\n",
       "      <td>3529</td>\n",
       "      <td>3582</td>\n",
       "      <td>3795</td>\n",
       "      <td>4173</td>\n",
       "      <td>3818</td>\n",
       "      <td>0.436918</td>\n",
       "      <td>0.386541</td>\n",
       "      <td>0.050377</td>\n",
       "    </tr>\n",
       "    <tr>\n",
       "      <th>85</th>\n",
       "      <td>New Zealand</td>\n",
       "      <td>980</td>\n",
       "      <td>1027</td>\n",
       "      <td>941</td>\n",
       "      <td>978</td>\n",
       "      <td>939</td>\n",
       "      <td>900</td>\n",
       "      <td>0.102993</td>\n",
       "      <td>0.120410</td>\n",
       "      <td>-0.017417</td>\n",
       "    </tr>\n",
       "  </tbody>\n",
       "</table>\n",
       "<p>69 rows × 10 columns</p>\n",
       "</div>"
      ],
      "text/plain": [
       "     LastResidence  2012  2013  2014  2015  2016  2017  ImmPercent2017  \\\n",
       "3          Austria  2199  1053  1088  1928  1621  1962        0.224524   \n",
       "4          Hungary  1009  1008   970  1037   999   924        0.105739   \n",
       "5          Belgium   698   803   775   809   821   742        0.084912   \n",
       "6        Bulgaria4  2322  2720  2886  2585  2560  2070        0.236883   \n",
       "7   Czechoslovakia  1316  1258  1168  1236  1299  1142        0.130686   \n",
       "..             ...   ...   ...   ...   ...   ...   ...             ...   \n",
       "79        Liberia   3451  3036  3681  3580  3545  4085        0.467472   \n",
       "80        Morocco   3534  3202  3495  3569  4447  4066        0.465298   \n",
       "81   South Africa   2960  2693  2871  3298  3441  3438        0.393432   \n",
       "84       Australia  3146  3529  3582  3795  4173  3818        0.436918   \n",
       "85     New Zealand   980  1027   941   978   939   900        0.102993   \n",
       "\n",
       "    ImmPercent2012    PerChg  \n",
       "3         0.270185 -0.045661  \n",
       "4         0.123973 -0.018234  \n",
       "5         0.085761 -0.000850  \n",
       "6         0.285298 -0.048415  \n",
       "7         0.161693 -0.031007  \n",
       "..             ...       ...  \n",
       "79        0.424015  0.043457  \n",
       "80        0.434213  0.031085  \n",
       "81        0.363687  0.029745  \n",
       "84        0.386541  0.050377  \n",
       "85        0.120410 -0.017417  \n",
       "\n",
       "[69 rows x 10 columns]"
      ]
     },
     "execution_count": 19,
     "metadata": {},
     "output_type": "execute_result"
    }
   ],
   "source": [
    "#Calculated percent change from 2012 to 2017\n",
    "update_USImmig['PerChg'] = (update_USImmig['ImmPercent2017'] - \n",
    "                  update_USImmig['ImmPercent2012'])\n",
    "update_USImmig"
   ]
  },
  {
   "cell_type": "code",
   "execution_count": 20,
   "metadata": {
    "scrolled": false
   },
   "outputs": [
    {
     "data": {
      "text/html": [
       "<div>\n",
       "<style scoped>\n",
       "    .dataframe tbody tr th:only-of-type {\n",
       "        vertical-align: middle;\n",
       "    }\n",
       "\n",
       "    .dataframe tbody tr th {\n",
       "        vertical-align: top;\n",
       "    }\n",
       "\n",
       "    .dataframe thead th {\n",
       "        text-align: right;\n",
       "    }\n",
       "</style>\n",
       "<table border=\"1\" class=\"dataframe\">\n",
       "  <thead>\n",
       "    <tr style=\"text-align: right;\">\n",
       "      <th></th>\n",
       "      <th>LastResidence</th>\n",
       "      <th>2012</th>\n",
       "      <th>2013</th>\n",
       "      <th>2014</th>\n",
       "      <th>2015</th>\n",
       "      <th>2016</th>\n",
       "      <th>2017</th>\n",
       "      <th>ImmPercent2017</th>\n",
       "      <th>ImmPercent2012</th>\n",
       "      <th>PerChg</th>\n",
       "    </tr>\n",
       "  </thead>\n",
       "  <tbody>\n",
       "    <tr>\n",
       "      <th>45</th>\n",
       "      <td>Mexico</td>\n",
       "      <td>145326</td>\n",
       "      <td>134198</td>\n",
       "      <td>133107</td>\n",
       "      <td>157227</td>\n",
       "      <td>172726</td>\n",
       "      <td>168980</td>\n",
       "      <td>19.337437</td>\n",
       "      <td>17.855818</td>\n",
       "      <td>1.481619</td>\n",
       "    </tr>\n",
       "    <tr>\n",
       "      <th>29</th>\n",
       "      <td>China</td>\n",
       "      <td>78184</td>\n",
       "      <td>68410</td>\n",
       "      <td>72492</td>\n",
       "      <td>70977</td>\n",
       "      <td>77658</td>\n",
       "      <td>66479</td>\n",
       "      <td>7.607607</td>\n",
       "      <td>9.606259</td>\n",
       "      <td>-1.998652</td>\n",
       "    </tr>\n",
       "    <tr>\n",
       "      <th>47</th>\n",
       "      <td>Cuba</td>\n",
       "      <td>32551</td>\n",
       "      <td>31343</td>\n",
       "      <td>46505</td>\n",
       "      <td>54178</td>\n",
       "      <td>66120</td>\n",
       "      <td>64749</td>\n",
       "      <td>7.409633</td>\n",
       "      <td>3.999454</td>\n",
       "      <td>3.410178</td>\n",
       "    </tr>\n",
       "    <tr>\n",
       "      <th>48</th>\n",
       "      <td>Dominican Republic</td>\n",
       "      <td>41535</td>\n",
       "      <td>41487</td>\n",
       "      <td>44550</td>\n",
       "      <td>50382</td>\n",
       "      <td>60613</td>\n",
       "      <td>58384</td>\n",
       "      <td>6.681246</td>\n",
       "      <td>5.103295</td>\n",
       "      <td>1.577951</td>\n",
       "    </tr>\n",
       "    <tr>\n",
       "      <th>31</th>\n",
       "      <td>India</td>\n",
       "      <td>63320</td>\n",
       "      <td>65506</td>\n",
       "      <td>74451</td>\n",
       "      <td>61380</td>\n",
       "      <td>61691</td>\n",
       "      <td>57155</td>\n",
       "      <td>6.540604</td>\n",
       "      <td>7.779959</td>\n",
       "      <td>-1.239356</td>\n",
       "    </tr>\n",
       "    <tr>\n",
       "      <th>37</th>\n",
       "      <td>Philippines</td>\n",
       "      <td>55441</td>\n",
       "      <td>52955</td>\n",
       "      <td>48633</td>\n",
       "      <td>54307</td>\n",
       "      <td>50609</td>\n",
       "      <td>46542</td>\n",
       "      <td>5.326092</td>\n",
       "      <td>6.811888</td>\n",
       "      <td>-1.485796</td>\n",
       "    </tr>\n",
       "    <tr>\n",
       "      <th>41</th>\n",
       "      <td>Vietnam</td>\n",
       "      <td>27578</td>\n",
       "      <td>26578</td>\n",
       "      <td>29825</td>\n",
       "      <td>30332</td>\n",
       "      <td>40412</td>\n",
       "      <td>37541</td>\n",
       "      <td>4.296051</td>\n",
       "      <td>3.388435</td>\n",
       "      <td>0.907616</td>\n",
       "    </tr>\n",
       "    <tr>\n",
       "      <th>55</th>\n",
       "      <td>El Salvador</td>\n",
       "      <td>15874</td>\n",
       "      <td>18015</td>\n",
       "      <td>18964</td>\n",
       "      <td>18699</td>\n",
       "      <td>21268</td>\n",
       "      <td>21920</td>\n",
       "      <td>2.508443</td>\n",
       "      <td>1.950396</td>\n",
       "      <td>0.558047</td>\n",
       "    </tr>\n",
       "    <tr>\n",
       "      <th>50</th>\n",
       "      <td>Jamaica</td>\n",
       "      <td>20300</td>\n",
       "      <td>19052</td>\n",
       "      <td>18804</td>\n",
       "      <td>17362</td>\n",
       "      <td>22833</td>\n",
       "      <td>21517</td>\n",
       "      <td>2.462325</td>\n",
       "      <td>2.494207</td>\n",
       "      <td>-0.031882</td>\n",
       "    </tr>\n",
       "    <tr>\n",
       "      <th>49</th>\n",
       "      <td>Haiti</td>\n",
       "      <td>22446</td>\n",
       "      <td>20083</td>\n",
       "      <td>15107</td>\n",
       "      <td>16787</td>\n",
       "      <td>23185</td>\n",
       "      <td>21501</td>\n",
       "      <td>2.460494</td>\n",
       "      <td>2.757880</td>\n",
       "      <td>-0.297386</td>\n",
       "    </tr>\n",
       "    <tr>\n",
       "      <th>36</th>\n",
       "      <td>Korea</td>\n",
       "      <td>20802</td>\n",
       "      <td>22937</td>\n",
       "      <td>20313</td>\n",
       "      <td>16976</td>\n",
       "      <td>21329</td>\n",
       "      <td>18559</td>\n",
       "      <td>2.123822</td>\n",
       "      <td>2.555886</td>\n",
       "      <td>-0.432064</td>\n",
       "    </tr>\n",
       "    <tr>\n",
       "      <th>44</th>\n",
       "      <td>Canada and Newfoundland</td>\n",
       "      <td>20138</td>\n",
       "      <td>20489</td>\n",
       "      <td>17670</td>\n",
       "      <td>19309</td>\n",
       "      <td>19349</td>\n",
       "      <td>18469</td>\n",
       "      <td>2.113523</td>\n",
       "      <td>2.474302</td>\n",
       "      <td>-0.360779</td>\n",
       "    </tr>\n",
       "    <tr>\n",
       "      <th>66</th>\n",
       "      <td>Colombia</td>\n",
       "      <td>20272</td>\n",
       "      <td>20611</td>\n",
       "      <td>17614</td>\n",
       "      <td>16509</td>\n",
       "      <td>16830</td>\n",
       "      <td>16341</td>\n",
       "      <td>1.870003</td>\n",
       "      <td>2.490767</td>\n",
       "      <td>-0.620764</td>\n",
       "    </tr>\n",
       "    <tr>\n",
       "      <th>78</th>\n",
       "      <td>Ethiopia</td>\n",
       "      <td>15400</td>\n",
       "      <td>13484</td>\n",
       "      <td>12926</td>\n",
       "      <td>12566</td>\n",
       "      <td>13699</td>\n",
       "      <td>15678</td>\n",
       "      <td>1.794131</td>\n",
       "      <td>1.892157</td>\n",
       "      <td>-0.098025</td>\n",
       "    </tr>\n",
       "    <tr>\n",
       "      <th>64</th>\n",
       "      <td>Brazil</td>\n",
       "      <td>11248</td>\n",
       "      <td>10772</td>\n",
       "      <td>10246</td>\n",
       "      <td>11247</td>\n",
       "      <td>13528</td>\n",
       "      <td>14832</td>\n",
       "      <td>1.697318</td>\n",
       "      <td>1.382012</td>\n",
       "      <td>0.315307</td>\n",
       "    </tr>\n",
       "  </tbody>\n",
       "</table>\n",
       "</div>"
      ],
      "text/plain": [
       "              LastResidence    2012    2013    2014    2015    2016    2017  \\\n",
       "45                   Mexico  145326  134198  133107  157227  172726  168980   \n",
       "29                    China   78184   68410   72492   70977   77658   66479   \n",
       "47                    Cuba    32551   31343   46505   54178   66120   64749   \n",
       "48      Dominican Republic    41535   41487   44550   50382   60613   58384   \n",
       "31                    India   63320   65506   74451   61380   61691   57155   \n",
       "37             Philippines    55441   52955   48633   54307   50609   46542   \n",
       "41                 Vietnam    27578   26578   29825   30332   40412   37541   \n",
       "55             El Salvador    15874   18015   18964   18699   21268   21920   \n",
       "50                 Jamaica    20300   19052   18804   17362   22833   21517   \n",
       "49                   Haiti    22446   20083   15107   16787   23185   21501   \n",
       "36                   Korea    20802   22937   20313   16976   21329   18559   \n",
       "44  Canada and Newfoundland   20138   20489   17670   19309   19349   18469   \n",
       "66                Colombia    20272   20611   17614   16509   16830   16341   \n",
       "78                Ethiopia    15400   13484   12926   12566   13699   15678   \n",
       "64                  Brazil    11248   10772   10246   11247   13528   14832   \n",
       "\n",
       "    ImmPercent2017  ImmPercent2012    PerChg  \n",
       "45       19.337437       17.855818  1.481619  \n",
       "29        7.607607        9.606259 -1.998652  \n",
       "47        7.409633        3.999454  3.410178  \n",
       "48        6.681246        5.103295  1.577951  \n",
       "31        6.540604        7.779959 -1.239356  \n",
       "37        5.326092        6.811888 -1.485796  \n",
       "41        4.296051        3.388435  0.907616  \n",
       "55        2.508443        1.950396  0.558047  \n",
       "50        2.462325        2.494207 -0.031882  \n",
       "49        2.460494        2.757880 -0.297386  \n",
       "36        2.123822        2.555886 -0.432064  \n",
       "44        2.113523        2.474302 -0.360779  \n",
       "66        1.870003        2.490767 -0.620764  \n",
       "78        1.794131        1.892157 -0.098025  \n",
       "64        1.697318        1.382012  0.315307  "
      ]
     },
     "execution_count": 20,
     "metadata": {},
     "output_type": "execute_result"
    }
   ],
   "source": [
    "#Identifying the top 15 countries where US immigrants migrated from in 2017\n",
    "update_USImmig.nlargest(15,'ImmPercent2017')"
   ]
  },
  {
   "cell_type": "code",
   "execution_count": 21,
   "metadata": {
    "scrolled": false
   },
   "outputs": [
    {
     "data": {
      "text/html": [
       "<div>\n",
       "<style scoped>\n",
       "    .dataframe tbody tr th:only-of-type {\n",
       "        vertical-align: middle;\n",
       "    }\n",
       "\n",
       "    .dataframe tbody tr th {\n",
       "        vertical-align: top;\n",
       "    }\n",
       "\n",
       "    .dataframe thead th {\n",
       "        text-align: right;\n",
       "    }\n",
       "</style>\n",
       "<table border=\"1\" class=\"dataframe\">\n",
       "  <thead>\n",
       "    <tr style=\"text-align: right;\">\n",
       "      <th></th>\n",
       "      <th>LastResidence</th>\n",
       "      <th>2012</th>\n",
       "      <th>2013</th>\n",
       "      <th>2014</th>\n",
       "      <th>2015</th>\n",
       "      <th>2016</th>\n",
       "      <th>2017</th>\n",
       "      <th>ImmPercent2017</th>\n",
       "      <th>ImmPercent2012</th>\n",
       "      <th>PerChg</th>\n",
       "    </tr>\n",
       "  </thead>\n",
       "  <tbody>\n",
       "    <tr>\n",
       "      <th>47</th>\n",
       "      <td>Cuba</td>\n",
       "      <td>32551</td>\n",
       "      <td>31343</td>\n",
       "      <td>46505</td>\n",
       "      <td>54178</td>\n",
       "      <td>66120</td>\n",
       "      <td>64749</td>\n",
       "      <td>7.409633</td>\n",
       "      <td>3.999454</td>\n",
       "      <td>3.410178</td>\n",
       "    </tr>\n",
       "    <tr>\n",
       "      <th>48</th>\n",
       "      <td>Dominican Republic</td>\n",
       "      <td>41535</td>\n",
       "      <td>41487</td>\n",
       "      <td>44550</td>\n",
       "      <td>50382</td>\n",
       "      <td>60613</td>\n",
       "      <td>58384</td>\n",
       "      <td>6.681246</td>\n",
       "      <td>5.103295</td>\n",
       "      <td>1.577951</td>\n",
       "    </tr>\n",
       "    <tr>\n",
       "      <th>45</th>\n",
       "      <td>Mexico</td>\n",
       "      <td>145326</td>\n",
       "      <td>134198</td>\n",
       "      <td>133107</td>\n",
       "      <td>157227</td>\n",
       "      <td>172726</td>\n",
       "      <td>168980</td>\n",
       "      <td>19.337437</td>\n",
       "      <td>17.855818</td>\n",
       "      <td>1.481619</td>\n",
       "    </tr>\n",
       "    <tr>\n",
       "      <th>41</th>\n",
       "      <td>Vietnam</td>\n",
       "      <td>27578</td>\n",
       "      <td>26578</td>\n",
       "      <td>29825</td>\n",
       "      <td>30332</td>\n",
       "      <td>40412</td>\n",
       "      <td>37541</td>\n",
       "      <td>4.296051</td>\n",
       "      <td>3.388435</td>\n",
       "      <td>0.907616</td>\n",
       "    </tr>\n",
       "    <tr>\n",
       "      <th>55</th>\n",
       "      <td>El Salvador</td>\n",
       "      <td>15874</td>\n",
       "      <td>18015</td>\n",
       "      <td>18964</td>\n",
       "      <td>18699</td>\n",
       "      <td>21268</td>\n",
       "      <td>21920</td>\n",
       "      <td>2.508443</td>\n",
       "      <td>1.950396</td>\n",
       "      <td>0.558047</td>\n",
       "    </tr>\n",
       "    <tr>\n",
       "      <th>57</th>\n",
       "      <td>Honduras</td>\n",
       "      <td>6773</td>\n",
       "      <td>8795</td>\n",
       "      <td>8025</td>\n",
       "      <td>9071</td>\n",
       "      <td>12996</td>\n",
       "      <td>11147</td>\n",
       "      <td>1.275621</td>\n",
       "      <td>0.832180</td>\n",
       "      <td>0.443440</td>\n",
       "    </tr>\n",
       "    <tr>\n",
       "      <th>64</th>\n",
       "      <td>Brazil</td>\n",
       "      <td>11248</td>\n",
       "      <td>10772</td>\n",
       "      <td>10246</td>\n",
       "      <td>11247</td>\n",
       "      <td>13528</td>\n",
       "      <td>14832</td>\n",
       "      <td>1.697318</td>\n",
       "      <td>1.382012</td>\n",
       "      <td>0.315307</td>\n",
       "    </tr>\n",
       "    <tr>\n",
       "      <th>56</th>\n",
       "      <td>Guatemala</td>\n",
       "      <td>9857</td>\n",
       "      <td>9829</td>\n",
       "      <td>9871</td>\n",
       "      <td>11466</td>\n",
       "      <td>12548</td>\n",
       "      <td>12792</td>\n",
       "      <td>1.463868</td>\n",
       "      <td>1.211103</td>\n",
       "      <td>0.252765</td>\n",
       "    </tr>\n",
       "    <tr>\n",
       "      <th>73</th>\n",
       "      <td>Venezuela</td>\n",
       "      <td>9464</td>\n",
       "      <td>9512</td>\n",
       "      <td>8289</td>\n",
       "      <td>8985</td>\n",
       "      <td>10590</td>\n",
       "      <td>11465</td>\n",
       "      <td>1.312012</td>\n",
       "      <td>1.162816</td>\n",
       "      <td>0.149195</td>\n",
       "    </tr>\n",
       "    <tr>\n",
       "      <th>40</th>\n",
       "      <td>Turkey</td>\n",
       "      <td>7362</td>\n",
       "      <td>7189</td>\n",
       "      <td>7248</td>\n",
       "      <td>8762</td>\n",
       "      <td>8635</td>\n",
       "      <td>9144</td>\n",
       "      <td>1.046405</td>\n",
       "      <td>0.904549</td>\n",
       "      <td>0.141856</td>\n",
       "    </tr>\n",
       "    <tr>\n",
       "      <th>23</th>\n",
       "      <td>Spain</td>\n",
       "      <td>2316</td>\n",
       "      <td>2970</td>\n",
       "      <td>3341</td>\n",
       "      <td>3707</td>\n",
       "      <td>4018</td>\n",
       "      <td>3555</td>\n",
       "      <td>0.406821</td>\n",
       "      <td>0.284561</td>\n",
       "      <td>0.122260</td>\n",
       "    </tr>\n",
       "    <tr>\n",
       "      <th>14</th>\n",
       "      <td>Italy</td>\n",
       "      <td>2946</td>\n",
       "      <td>3233</td>\n",
       "      <td>3647</td>\n",
       "      <td>3829</td>\n",
       "      <td>4385</td>\n",
       "      <td>4055</td>\n",
       "      <td>0.464039</td>\n",
       "      <td>0.361967</td>\n",
       "      <td>0.102072</td>\n",
       "    </tr>\n",
       "    <tr>\n",
       "      <th>67</th>\n",
       "      <td>Ecuador</td>\n",
       "      <td>9284</td>\n",
       "      <td>10553</td>\n",
       "      <td>10871</td>\n",
       "      <td>9816</td>\n",
       "      <td>10779</td>\n",
       "      <td>10826</td>\n",
       "      <td>1.238887</td>\n",
       "      <td>1.140700</td>\n",
       "      <td>0.098187</td>\n",
       "    </tr>\n",
       "    <tr>\n",
       "      <th>35</th>\n",
       "      <td>Jordan</td>\n",
       "      <td>7014</td>\n",
       "      <td>5949</td>\n",
       "      <td>9028</td>\n",
       "      <td>7835</td>\n",
       "      <td>7345</td>\n",
       "      <td>8219</td>\n",
       "      <td>0.940552</td>\n",
       "      <td>0.861791</td>\n",
       "      <td>0.078760</td>\n",
       "    </tr>\n",
       "    <tr>\n",
       "      <th>10</th>\n",
       "      <td>France</td>\n",
       "      <td>4201</td>\n",
       "      <td>4668</td>\n",
       "      <td>4544</td>\n",
       "      <td>5034</td>\n",
       "      <td>5473</td>\n",
       "      <td>4973</td>\n",
       "      <td>0.569091</td>\n",
       "      <td>0.516166</td>\n",
       "      <td>0.052926</td>\n",
       "    </tr>\n",
       "  </tbody>\n",
       "</table>\n",
       "</div>"
      ],
      "text/plain": [
       "          LastResidence    2012    2013    2014    2015    2016    2017  \\\n",
       "47                Cuba    32551   31343   46505   54178   66120   64749   \n",
       "48  Dominican Republic    41535   41487   44550   50382   60613   58384   \n",
       "45               Mexico  145326  134198  133107  157227  172726  168980   \n",
       "41             Vietnam    27578   26578   29825   30332   40412   37541   \n",
       "55         El Salvador    15874   18015   18964   18699   21268   21920   \n",
       "57            Honduras     6773    8795    8025    9071   12996   11147   \n",
       "64              Brazil    11248   10772   10246   11247   13528   14832   \n",
       "56           Guatemala     9857    9829    9871   11466   12548   12792   \n",
       "73           Venezuela     9464    9512    8289    8985   10590   11465   \n",
       "40               Turkey    7362    7189    7248    8762    8635    9144   \n",
       "23                Spain    2316    2970    3341    3707    4018    3555   \n",
       "14                Italy    2946    3233    3647    3829    4385    4055   \n",
       "67             Ecuador     9284   10553   10871    9816   10779   10826   \n",
       "35              Jordan     7014    5949    9028    7835    7345    8219   \n",
       "10               France    4201    4668    4544    5034    5473    4973   \n",
       "\n",
       "    ImmPercent2017  ImmPercent2012    PerChg  \n",
       "47        7.409633        3.999454  3.410178  \n",
       "48        6.681246        5.103295  1.577951  \n",
       "45       19.337437       17.855818  1.481619  \n",
       "41        4.296051        3.388435  0.907616  \n",
       "55        2.508443        1.950396  0.558047  \n",
       "57        1.275621        0.832180  0.443440  \n",
       "64        1.697318        1.382012  0.315307  \n",
       "56        1.463868        1.211103  0.252765  \n",
       "73        1.312012        1.162816  0.149195  \n",
       "40        1.046405        0.904549  0.141856  \n",
       "23        0.406821        0.284561  0.122260  \n",
       "14        0.464039        0.361967  0.102072  \n",
       "67        1.238887        1.140700  0.098187  \n",
       "35        0.940552        0.861791  0.078760  \n",
       "10        0.569091        0.516166  0.052926  "
      ]
     },
     "execution_count": 21,
     "metadata": {},
     "output_type": "execute_result"
    }
   ],
   "source": [
    "#Identifying the top 10 countries where US immigrants have migrated from and have increased\n",
    "update_USImmig.nlargest(15,'PerChg')"
   ]
  },
  {
   "cell_type": "code",
   "execution_count": 22,
   "metadata": {
    "scrolled": false
   },
   "outputs": [
    {
     "data": {
      "text/html": [
       "<div>\n",
       "<style scoped>\n",
       "    .dataframe tbody tr th:only-of-type {\n",
       "        vertical-align: middle;\n",
       "    }\n",
       "\n",
       "    .dataframe tbody tr th {\n",
       "        vertical-align: top;\n",
       "    }\n",
       "\n",
       "    .dataframe thead th {\n",
       "        text-align: right;\n",
       "    }\n",
       "</style>\n",
       "<table border=\"1\" class=\"dataframe\">\n",
       "  <thead>\n",
       "    <tr style=\"text-align: right;\">\n",
       "      <th></th>\n",
       "      <th>LastResidence</th>\n",
       "      <th>2012</th>\n",
       "      <th>2013</th>\n",
       "      <th>2014</th>\n",
       "      <th>2015</th>\n",
       "      <th>2016</th>\n",
       "      <th>2017</th>\n",
       "      <th>ImmPercent2017</th>\n",
       "      <th>ImmPercent2012</th>\n",
       "      <th>PerChg</th>\n",
       "    </tr>\n",
       "  </thead>\n",
       "  <tbody>\n",
       "    <tr>\n",
       "      <th>29</th>\n",
       "      <td>China</td>\n",
       "      <td>78184</td>\n",
       "      <td>68410</td>\n",
       "      <td>72492</td>\n",
       "      <td>70977</td>\n",
       "      <td>77658</td>\n",
       "      <td>66479</td>\n",
       "      <td>7.607607</td>\n",
       "      <td>9.606259</td>\n",
       "      <td>-1.998652</td>\n",
       "    </tr>\n",
       "    <tr>\n",
       "      <th>31</th>\n",
       "      <td>India</td>\n",
       "      <td>63320</td>\n",
       "      <td>65506</td>\n",
       "      <td>74451</td>\n",
       "      <td>61380</td>\n",
       "      <td>61691</td>\n",
       "      <td>57155</td>\n",
       "      <td>6.540604</td>\n",
       "      <td>7.779959</td>\n",
       "      <td>-1.239356</td>\n",
       "    </tr>\n",
       "    <tr>\n",
       "      <th>36</th>\n",
       "      <td>Korea</td>\n",
       "      <td>20802</td>\n",
       "      <td>22937</td>\n",
       "      <td>20313</td>\n",
       "      <td>16976</td>\n",
       "      <td>21329</td>\n",
       "      <td>18559</td>\n",
       "      <td>2.123822</td>\n",
       "      <td>2.555886</td>\n",
       "      <td>-0.432064</td>\n",
       "    </tr>\n",
       "    <tr>\n",
       "      <th>37</th>\n",
       "      <td>Philippines</td>\n",
       "      <td>55441</td>\n",
       "      <td>52955</td>\n",
       "      <td>48633</td>\n",
       "      <td>54307</td>\n",
       "      <td>50609</td>\n",
       "      <td>46542</td>\n",
       "      <td>5.326092</td>\n",
       "      <td>6.811888</td>\n",
       "      <td>-1.485796</td>\n",
       "    </tr>\n",
       "    <tr>\n",
       "      <th>41</th>\n",
       "      <td>Vietnam</td>\n",
       "      <td>27578</td>\n",
       "      <td>26578</td>\n",
       "      <td>29825</td>\n",
       "      <td>30332</td>\n",
       "      <td>40412</td>\n",
       "      <td>37541</td>\n",
       "      <td>4.296051</td>\n",
       "      <td>3.388435</td>\n",
       "      <td>0.907616</td>\n",
       "    </tr>\n",
       "    <tr>\n",
       "      <th>44</th>\n",
       "      <td>Canada and Newfoundland</td>\n",
       "      <td>20138</td>\n",
       "      <td>20489</td>\n",
       "      <td>17670</td>\n",
       "      <td>19309</td>\n",
       "      <td>19349</td>\n",
       "      <td>18469</td>\n",
       "      <td>2.113523</td>\n",
       "      <td>2.474302</td>\n",
       "      <td>-0.360779</td>\n",
       "    </tr>\n",
       "    <tr>\n",
       "      <th>45</th>\n",
       "      <td>Mexico</td>\n",
       "      <td>145326</td>\n",
       "      <td>134198</td>\n",
       "      <td>133107</td>\n",
       "      <td>157227</td>\n",
       "      <td>172726</td>\n",
       "      <td>168980</td>\n",
       "      <td>19.337437</td>\n",
       "      <td>17.855818</td>\n",
       "      <td>1.481619</td>\n",
       "    </tr>\n",
       "    <tr>\n",
       "      <th>47</th>\n",
       "      <td>Cuba</td>\n",
       "      <td>32551</td>\n",
       "      <td>31343</td>\n",
       "      <td>46505</td>\n",
       "      <td>54178</td>\n",
       "      <td>66120</td>\n",
       "      <td>64749</td>\n",
       "      <td>7.409633</td>\n",
       "      <td>3.999454</td>\n",
       "      <td>3.410178</td>\n",
       "    </tr>\n",
       "    <tr>\n",
       "      <th>48</th>\n",
       "      <td>Dominican Republic</td>\n",
       "      <td>41535</td>\n",
       "      <td>41487</td>\n",
       "      <td>44550</td>\n",
       "      <td>50382</td>\n",
       "      <td>60613</td>\n",
       "      <td>58384</td>\n",
       "      <td>6.681246</td>\n",
       "      <td>5.103295</td>\n",
       "      <td>1.577951</td>\n",
       "    </tr>\n",
       "    <tr>\n",
       "      <th>49</th>\n",
       "      <td>Haiti</td>\n",
       "      <td>22446</td>\n",
       "      <td>20083</td>\n",
       "      <td>15107</td>\n",
       "      <td>16787</td>\n",
       "      <td>23185</td>\n",
       "      <td>21501</td>\n",
       "      <td>2.460494</td>\n",
       "      <td>2.757880</td>\n",
       "      <td>-0.297386</td>\n",
       "    </tr>\n",
       "    <tr>\n",
       "      <th>50</th>\n",
       "      <td>Jamaica</td>\n",
       "      <td>20300</td>\n",
       "      <td>19052</td>\n",
       "      <td>18804</td>\n",
       "      <td>17362</td>\n",
       "      <td>22833</td>\n",
       "      <td>21517</td>\n",
       "      <td>2.462325</td>\n",
       "      <td>2.494207</td>\n",
       "      <td>-0.031882</td>\n",
       "    </tr>\n",
       "    <tr>\n",
       "      <th>55</th>\n",
       "      <td>El Salvador</td>\n",
       "      <td>15874</td>\n",
       "      <td>18015</td>\n",
       "      <td>18964</td>\n",
       "      <td>18699</td>\n",
       "      <td>21268</td>\n",
       "      <td>21920</td>\n",
       "      <td>2.508443</td>\n",
       "      <td>1.950396</td>\n",
       "      <td>0.558047</td>\n",
       "    </tr>\n",
       "    <tr>\n",
       "      <th>64</th>\n",
       "      <td>Brazil</td>\n",
       "      <td>11248</td>\n",
       "      <td>10772</td>\n",
       "      <td>10246</td>\n",
       "      <td>11247</td>\n",
       "      <td>13528</td>\n",
       "      <td>14832</td>\n",
       "      <td>1.697318</td>\n",
       "      <td>1.382012</td>\n",
       "      <td>0.315307</td>\n",
       "    </tr>\n",
       "    <tr>\n",
       "      <th>66</th>\n",
       "      <td>Colombia</td>\n",
       "      <td>20272</td>\n",
       "      <td>20611</td>\n",
       "      <td>17614</td>\n",
       "      <td>16509</td>\n",
       "      <td>16830</td>\n",
       "      <td>16341</td>\n",
       "      <td>1.870003</td>\n",
       "      <td>2.490767</td>\n",
       "      <td>-0.620764</td>\n",
       "    </tr>\n",
       "    <tr>\n",
       "      <th>78</th>\n",
       "      <td>Ethiopia</td>\n",
       "      <td>15400</td>\n",
       "      <td>13484</td>\n",
       "      <td>12926</td>\n",
       "      <td>12566</td>\n",
       "      <td>13699</td>\n",
       "      <td>15678</td>\n",
       "      <td>1.794131</td>\n",
       "      <td>1.892157</td>\n",
       "      <td>-0.098025</td>\n",
       "    </tr>\n",
       "  </tbody>\n",
       "</table>\n",
       "</div>"
      ],
      "text/plain": [
       "              LastResidence    2012    2013    2014    2015    2016    2017  \\\n",
       "29                    China   78184   68410   72492   70977   77658   66479   \n",
       "31                    India   63320   65506   74451   61380   61691   57155   \n",
       "36                   Korea    20802   22937   20313   16976   21329   18559   \n",
       "37             Philippines    55441   52955   48633   54307   50609   46542   \n",
       "41                 Vietnam    27578   26578   29825   30332   40412   37541   \n",
       "44  Canada and Newfoundland   20138   20489   17670   19309   19349   18469   \n",
       "45                   Mexico  145326  134198  133107  157227  172726  168980   \n",
       "47                    Cuba    32551   31343   46505   54178   66120   64749   \n",
       "48      Dominican Republic    41535   41487   44550   50382   60613   58384   \n",
       "49                   Haiti    22446   20083   15107   16787   23185   21501   \n",
       "50                 Jamaica    20300   19052   18804   17362   22833   21517   \n",
       "55             El Salvador    15874   18015   18964   18699   21268   21920   \n",
       "64                  Brazil    11248   10772   10246   11247   13528   14832   \n",
       "66                Colombia    20272   20611   17614   16509   16830   16341   \n",
       "78                Ethiopia    15400   13484   12926   12566   13699   15678   \n",
       "\n",
       "    ImmPercent2017  ImmPercent2012    PerChg  \n",
       "29        7.607607        9.606259 -1.998652  \n",
       "31        6.540604        7.779959 -1.239356  \n",
       "36        2.123822        2.555886 -0.432064  \n",
       "37        5.326092        6.811888 -1.485796  \n",
       "41        4.296051        3.388435  0.907616  \n",
       "44        2.113523        2.474302 -0.360779  \n",
       "45       19.337437       17.855818  1.481619  \n",
       "47        7.409633        3.999454  3.410178  \n",
       "48        6.681246        5.103295  1.577951  \n",
       "49        2.460494        2.757880 -0.297386  \n",
       "50        2.462325        2.494207 -0.031882  \n",
       "55        2.508443        1.950396  0.558047  \n",
       "64        1.697318        1.382012  0.315307  \n",
       "66        1.870003        2.490767 -0.620764  \n",
       "78        1.794131        1.892157 -0.098025  "
      ]
     },
     "execution_count": 22,
     "metadata": {},
     "output_type": "execute_result"
    }
   ],
   "source": [
    "#Creating dataframe with only top 15 countries immigrants migrated from \n",
    "USImmigTop15 = update_USImmig.drop(update_USImmig[update_USImmig['ImmPercent2017'] < 1.69].index)\n",
    "USImmigTop15"
   ]
  },
  {
   "cell_type": "code",
   "execution_count": 23,
   "metadata": {
    "scrolled": true
   },
   "outputs": [
    {
     "data": {
      "text/html": [
       "<div>\n",
       "<style scoped>\n",
       "    .dataframe tbody tr th:only-of-type {\n",
       "        vertical-align: middle;\n",
       "    }\n",
       "\n",
       "    .dataframe tbody tr th {\n",
       "        vertical-align: top;\n",
       "    }\n",
       "\n",
       "    .dataframe thead th {\n",
       "        text-align: right;\n",
       "    }\n",
       "</style>\n",
       "<table border=\"1\" class=\"dataframe\">\n",
       "  <thead>\n",
       "    <tr style=\"text-align: right;\">\n",
       "      <th></th>\n",
       "      <th>LastResidence</th>\n",
       "      <th>2012</th>\n",
       "      <th>2013</th>\n",
       "      <th>2014</th>\n",
       "      <th>2015</th>\n",
       "      <th>2016</th>\n",
       "      <th>2017</th>\n",
       "      <th>ImmPercent2017</th>\n",
       "      <th>ImmPercent2012</th>\n",
       "      <th>PerChg</th>\n",
       "    </tr>\n",
       "  </thead>\n",
       "  <tbody>\n",
       "    <tr>\n",
       "      <th>45</th>\n",
       "      <td>Mexico</td>\n",
       "      <td>145326</td>\n",
       "      <td>134198</td>\n",
       "      <td>133107</td>\n",
       "      <td>157227</td>\n",
       "      <td>172726</td>\n",
       "      <td>168980</td>\n",
       "      <td>19.337437</td>\n",
       "      <td>17.855818</td>\n",
       "      <td>1.481619</td>\n",
       "    </tr>\n",
       "    <tr>\n",
       "      <th>29</th>\n",
       "      <td>China</td>\n",
       "      <td>78184</td>\n",
       "      <td>68410</td>\n",
       "      <td>72492</td>\n",
       "      <td>70977</td>\n",
       "      <td>77658</td>\n",
       "      <td>66479</td>\n",
       "      <td>7.607607</td>\n",
       "      <td>9.606259</td>\n",
       "      <td>-1.998652</td>\n",
       "    </tr>\n",
       "    <tr>\n",
       "      <th>47</th>\n",
       "      <td>Cuba</td>\n",
       "      <td>32551</td>\n",
       "      <td>31343</td>\n",
       "      <td>46505</td>\n",
       "      <td>54178</td>\n",
       "      <td>66120</td>\n",
       "      <td>64749</td>\n",
       "      <td>7.409633</td>\n",
       "      <td>3.999454</td>\n",
       "      <td>3.410178</td>\n",
       "    </tr>\n",
       "    <tr>\n",
       "      <th>48</th>\n",
       "      <td>Dominican Republic</td>\n",
       "      <td>41535</td>\n",
       "      <td>41487</td>\n",
       "      <td>44550</td>\n",
       "      <td>50382</td>\n",
       "      <td>60613</td>\n",
       "      <td>58384</td>\n",
       "      <td>6.681246</td>\n",
       "      <td>5.103295</td>\n",
       "      <td>1.577951</td>\n",
       "    </tr>\n",
       "    <tr>\n",
       "      <th>31</th>\n",
       "      <td>India</td>\n",
       "      <td>63320</td>\n",
       "      <td>65506</td>\n",
       "      <td>74451</td>\n",
       "      <td>61380</td>\n",
       "      <td>61691</td>\n",
       "      <td>57155</td>\n",
       "      <td>6.540604</td>\n",
       "      <td>7.779959</td>\n",
       "      <td>-1.239356</td>\n",
       "    </tr>\n",
       "    <tr>\n",
       "      <th>37</th>\n",
       "      <td>Philippines</td>\n",
       "      <td>55441</td>\n",
       "      <td>52955</td>\n",
       "      <td>48633</td>\n",
       "      <td>54307</td>\n",
       "      <td>50609</td>\n",
       "      <td>46542</td>\n",
       "      <td>5.326092</td>\n",
       "      <td>6.811888</td>\n",
       "      <td>-1.485796</td>\n",
       "    </tr>\n",
       "    <tr>\n",
       "      <th>41</th>\n",
       "      <td>Vietnam</td>\n",
       "      <td>27578</td>\n",
       "      <td>26578</td>\n",
       "      <td>29825</td>\n",
       "      <td>30332</td>\n",
       "      <td>40412</td>\n",
       "      <td>37541</td>\n",
       "      <td>4.296051</td>\n",
       "      <td>3.388435</td>\n",
       "      <td>0.907616</td>\n",
       "    </tr>\n",
       "    <tr>\n",
       "      <th>55</th>\n",
       "      <td>El Salvador</td>\n",
       "      <td>15874</td>\n",
       "      <td>18015</td>\n",
       "      <td>18964</td>\n",
       "      <td>18699</td>\n",
       "      <td>21268</td>\n",
       "      <td>21920</td>\n",
       "      <td>2.508443</td>\n",
       "      <td>1.950396</td>\n",
       "      <td>0.558047</td>\n",
       "    </tr>\n",
       "    <tr>\n",
       "      <th>50</th>\n",
       "      <td>Jamaica</td>\n",
       "      <td>20300</td>\n",
       "      <td>19052</td>\n",
       "      <td>18804</td>\n",
       "      <td>17362</td>\n",
       "      <td>22833</td>\n",
       "      <td>21517</td>\n",
       "      <td>2.462325</td>\n",
       "      <td>2.494207</td>\n",
       "      <td>-0.031882</td>\n",
       "    </tr>\n",
       "    <tr>\n",
       "      <th>49</th>\n",
       "      <td>Haiti</td>\n",
       "      <td>22446</td>\n",
       "      <td>20083</td>\n",
       "      <td>15107</td>\n",
       "      <td>16787</td>\n",
       "      <td>23185</td>\n",
       "      <td>21501</td>\n",
       "      <td>2.460494</td>\n",
       "      <td>2.757880</td>\n",
       "      <td>-0.297386</td>\n",
       "    </tr>\n",
       "    <tr>\n",
       "      <th>36</th>\n",
       "      <td>Korea</td>\n",
       "      <td>20802</td>\n",
       "      <td>22937</td>\n",
       "      <td>20313</td>\n",
       "      <td>16976</td>\n",
       "      <td>21329</td>\n",
       "      <td>18559</td>\n",
       "      <td>2.123822</td>\n",
       "      <td>2.555886</td>\n",
       "      <td>-0.432064</td>\n",
       "    </tr>\n",
       "    <tr>\n",
       "      <th>44</th>\n",
       "      <td>Canada and Newfoundland</td>\n",
       "      <td>20138</td>\n",
       "      <td>20489</td>\n",
       "      <td>17670</td>\n",
       "      <td>19309</td>\n",
       "      <td>19349</td>\n",
       "      <td>18469</td>\n",
       "      <td>2.113523</td>\n",
       "      <td>2.474302</td>\n",
       "      <td>-0.360779</td>\n",
       "    </tr>\n",
       "    <tr>\n",
       "      <th>66</th>\n",
       "      <td>Colombia</td>\n",
       "      <td>20272</td>\n",
       "      <td>20611</td>\n",
       "      <td>17614</td>\n",
       "      <td>16509</td>\n",
       "      <td>16830</td>\n",
       "      <td>16341</td>\n",
       "      <td>1.870003</td>\n",
       "      <td>2.490767</td>\n",
       "      <td>-0.620764</td>\n",
       "    </tr>\n",
       "    <tr>\n",
       "      <th>78</th>\n",
       "      <td>Ethiopia</td>\n",
       "      <td>15400</td>\n",
       "      <td>13484</td>\n",
       "      <td>12926</td>\n",
       "      <td>12566</td>\n",
       "      <td>13699</td>\n",
       "      <td>15678</td>\n",
       "      <td>1.794131</td>\n",
       "      <td>1.892157</td>\n",
       "      <td>-0.098025</td>\n",
       "    </tr>\n",
       "    <tr>\n",
       "      <th>64</th>\n",
       "      <td>Brazil</td>\n",
       "      <td>11248</td>\n",
       "      <td>10772</td>\n",
       "      <td>10246</td>\n",
       "      <td>11247</td>\n",
       "      <td>13528</td>\n",
       "      <td>14832</td>\n",
       "      <td>1.697318</td>\n",
       "      <td>1.382012</td>\n",
       "      <td>0.315307</td>\n",
       "    </tr>\n",
       "  </tbody>\n",
       "</table>\n",
       "</div>"
      ],
      "text/plain": [
       "              LastResidence    2012    2013    2014    2015    2016    2017  \\\n",
       "45                   Mexico  145326  134198  133107  157227  172726  168980   \n",
       "29                    China   78184   68410   72492   70977   77658   66479   \n",
       "47                    Cuba    32551   31343   46505   54178   66120   64749   \n",
       "48      Dominican Republic    41535   41487   44550   50382   60613   58384   \n",
       "31                    India   63320   65506   74451   61380   61691   57155   \n",
       "37             Philippines    55441   52955   48633   54307   50609   46542   \n",
       "41                 Vietnam    27578   26578   29825   30332   40412   37541   \n",
       "55             El Salvador    15874   18015   18964   18699   21268   21920   \n",
       "50                 Jamaica    20300   19052   18804   17362   22833   21517   \n",
       "49                   Haiti    22446   20083   15107   16787   23185   21501   \n",
       "36                   Korea    20802   22937   20313   16976   21329   18559   \n",
       "44  Canada and Newfoundland   20138   20489   17670   19309   19349   18469   \n",
       "66                Colombia    20272   20611   17614   16509   16830   16341   \n",
       "78                Ethiopia    15400   13484   12926   12566   13699   15678   \n",
       "64                  Brazil    11248   10772   10246   11247   13528   14832   \n",
       "\n",
       "    ImmPercent2017  ImmPercent2012    PerChg  \n",
       "45       19.337437       17.855818  1.481619  \n",
       "29        7.607607        9.606259 -1.998652  \n",
       "47        7.409633        3.999454  3.410178  \n",
       "48        6.681246        5.103295  1.577951  \n",
       "31        6.540604        7.779959 -1.239356  \n",
       "37        5.326092        6.811888 -1.485796  \n",
       "41        4.296051        3.388435  0.907616  \n",
       "55        2.508443        1.950396  0.558047  \n",
       "50        2.462325        2.494207 -0.031882  \n",
       "49        2.460494        2.757880 -0.297386  \n",
       "36        2.123822        2.555886 -0.432064  \n",
       "44        2.113523        2.474302 -0.360779  \n",
       "66        1.870003        2.490767 -0.620764  \n",
       "78        1.794131        1.892157 -0.098025  \n",
       "64        1.697318        1.382012  0.315307  "
      ]
     },
     "execution_count": 23,
     "metadata": {},
     "output_type": "execute_result"
    }
   ],
   "source": [
    "#Sorting Descending by Colombia\n",
    "USImmigTop15 = USImmigTop15.sort_values(by='ImmPercent2017',ascending=False)\n",
    "USImmigTop15"
   ]
  },
  {
   "cell_type": "code",
   "execution_count": 32,
   "metadata": {},
   "outputs": [],
   "source": [
    "#Exporting dataframe to Excel for Visualization in Tableau\n",
    "USImmigTop15.to_excel(r'C:\\Users\\mmora\\OneDrive\\Professional Development\\1GC_BigData\\BDAT 1000 Data Manipulation\\Assignment 2\\From Python\\USlawImm2017_clean.xlsx', index = False)"
   ]
  },
  {
   "cell_type": "code",
   "execution_count": 24,
   "metadata": {},
   "outputs": [
    {
     "data": {
      "text/plain": [
       "Text(0.5, 1.0, 'Top 15 countries immigrants came to US in 2017')"
      ]
     },
     "execution_count": 24,
     "metadata": {},
     "output_type": "execute_result"
    },
    {
     "data": {
      "image/png": "[encoded data removed]",
      "text/plain": [
       "<Figure size 1584x576 with 1 Axes>"
      ]
     },
     "metadata": {
      "needs_background": "light"
     },
     "output_type": "display_data"
    }
   ],
   "source": [
    "#Visualize Top 15 countries immigrants came to US in 2017 with matplotlib \n",
    "USImmigTop15 = USImmigTop15.sort_values(by='ImmPercent2017',ascending=False)\n",
    "plt.figure(figsize = (22,8))\n",
    "plt.bar(x =USImmigTop15['LastResidence'],\n",
    "        height=USImmigTop15['ImmPercent2017'],\n",
    "        color='teal')\n",
    "plt.xticks(rotation=90,fontsize=13)\n",
    "plt.xlabel('LastResidence',fontsize=12)\n",
    "plt.ylabel('Proportion',fontsize=11)\n",
    "plt.title('Top 15 countries immigrants came to US in 2017',fontsize=16, color='green', fontweight='bold')\n"
   ]
  },
  {
   "cell_type": "code",
   "execution_count": 25,
   "metadata": {},
   "outputs": [],
   "source": [
    "#Creating a Pareto chart\n",
    "#from matplotlib.ticker import PercentFormatter\n",
    "\n",
    "#ColDestinationTop10 = ColDestinationTop10.sort_values(by='Colombia',ascending=False)\n",
    "#ColDestinationTop10[\"cumpercent\"] = ColDestinationTop10[\"Colombia\"].cumsum()/ColDestinationTop10[\"Colombia\"].sum()*100\n",
    "\n",
    "#ColDestinationTop10\n"
   ]
  },
  {
   "cell_type": "code",
   "execution_count": 26,
   "metadata": {},
   "outputs": [
    {
     "data": {
      "image/png": "[encoded data removed]",
      "text/plain": [
       "<Figure size 432x288 with 1 Axes>"
      ]
     },
     "metadata": {
      "needs_background": "light"
     },
     "output_type": "display_data"
    }
   ],
   "source": [
    "#creating Scatter Plot - proportion of immigration in 2017 by percent change from 2012 to 2017\n",
    "ax1 = USImmigTop15.plot.scatter(x='ImmPercent2017',\n",
    "                      y='PerChg',\n",
    "                      c='DarkBlue')"
   ]
  },
  {
   "cell_type": "code",
   "execution_count": 27,
   "metadata": {},
   "outputs": [
    {
     "data": {
      "application/vnd.plotly.v1+json": {
       "config": {
        "linkText": "Export to plot.ly",
        "plotlyServerURL": "https://plot.ly",
        "showLink": true
       },
       "data": [
        {
         "line": {
          "color": "rgba(255, 153, 51, 1.0)",
          "dash": "solid",
          "shape": "linear",
          "width": 1.3
         },
         "marker": {
          "size": 12,
          "symbol": "circle"
         },
         "mode": "markers",
         "name": "ImmPercent2017",
         "text": "",
         "type": "scatter",
         "x": [
          45,
          29,
          47,
          48,
          31,
          37,
          41,
          55,
          50,
          49,
          36,
          44,
          66,
          78,
          64
         ],
         "y": [
          19.33743701715056,
          7.607607263955214,
          7.4096325566545245,
          6.681245844533781,
          6.540603696977396,
          5.326091807623514,
          4.296051148424956,
          2.508442534122028,
          2.462324726583197,
          2.460493746631283,
          2.123822307973117,
          2.113523045743601,
          1.8700027121390537,
          1.7941314803816217,
          1.697318415424175
         ]
        },
        {
         "line": {
          "color": "rgba(55, 128, 191, 1.0)",
          "dash": "solid",
          "shape": "linear",
          "width": 1.3
         },
         "marker": {
          "size": 12,
          "symbol": "circle"
         },
         "mode": "markers",
         "name": "PerChg",
         "text": "",
         "type": "scatter",
         "x": [
          45,
          29,
          47,
          48,
          31,
          37,
          41,
          55,
          50,
          49,
          36,
          44,
          66,
          78,
          64
         ],
         "y": [
          1.4816193719275184,
          -1.9986520893203066,
          3.410178087601119,
          1.5779512799387394,
          -1.2393556585097354,
          -1.4857958523190335,
          0.9076159130234376,
          0.5580465327164259,
          -0.03188207879249427,
          -0.29738634959841015,
          -0.4320638972202393,
          -0.3607792521212101,
          -0.6207638079878437,
          -0.09802540645510982,
          0.31530668405147666
         ]
        }
       ],
       "layout": {
        "legend": {
         "bgcolor": "#F5F6F9",
         "font": {
          "color": "#4D5663"
         }
        },
        "paper_bgcolor": "#F5F6F9",
        "plot_bgcolor": "#F5F6F9",
        "template": {
         "data": {
          "bar": [
           {
            "error_x": {
             "color": "#2a3f5f"
            },
            "error_y": {
             "color": "#2a3f5f"
            },
            "marker": {
             "line": {
              "color": "#E5ECF6",
              "width": 0.5
             }
            },
            "type": "bar"
           }
          ],
          "barpolar": [
           {
            "marker": {
             "line": {
              "color": "#E5ECF6",
              "width": 0.5
             }
            },
            "type": "barpolar"
           }
          ],
          "carpet": [
           {
            "aaxis": {
             "endlinecolor": "#2a3f5f",
             "gridcolor": "white",
             "linecolor": "white",
             "minorgridcolor": "white",
             "startlinecolor": "#2a3f5f"
            },
            "baxis": {
             "endlinecolor": "#2a3f5f",
             "gridcolor": "white",
             "linecolor": "white",
             "minorgridcolor": "white",
             "startlinecolor": "#2a3f5f"
            },
            "type": "carpet"
           }
          ],
          "choropleth": [
           {
            "colorbar": {
             "outlinewidth": 0,
             "ticks": ""
            },
            "type": "choropleth"
           }
          ],
          "contour": [
           {
            "colorbar": {
             "outlinewidth": 0,
             "ticks": ""
            },
            "colorscale": [
             [
              0,
              "#0d0887"
             ],
             [
              0.1111111111111111,
              "#46039f"
             ],
             [
              0.2222222222222222,
              "#7201a8"
             ],
             [
              0.3333333333333333,
              "#9c179e"
             ],
             [
              0.4444444444444444,
              "#bd3786"
             ],
             [
              0.5555555555555556,
              "#d8576b"
             ],
             [
              0.6666666666666666,
              "#ed7953"
             ],
             [
              0.7777777777777778,
              "#fb9f3a"
             ],
             [
              0.8888888888888888,
              "#fdca26"
             ],
             [
              1,
              "#f0f921"
             ]
            ],
            "type": "contour"
           }
          ],
          "contourcarpet": [
           {
            "colorbar": {
             "outlinewidth": 0,
             "ticks": ""
            },
            "type": "contourcarpet"
           }
          ],
          "heatmap": [
           {
            "colorbar": {
             "outlinewidth": 0,
             "ticks": ""
            },
            "colorscale": [
             [
              0,
              "#0d0887"
             ],
             [
              0.1111111111111111,
              "#46039f"
             ],
             [
              0.2222222222222222,
              "#7201a8"
             ],
             [
              0.3333333333333333,
              "#9c179e"
             ],
             [
              0.4444444444444444,
              "#bd3786"
             ],
             [
              0.5555555555555556,
              "#d8576b"
             ],
             [
              0.6666666666666666,
              "#ed7953"
             ],
             [
              0.7777777777777778,
              "#fb9f3a"
             ],
             [
              0.8888888888888888,
              "#fdca26"
             ],
             [
              1,
              "#f0f921"
             ]
            ],
            "type": "heatmap"
           }
          ],
          "heatmapgl": [
           {
            "colorbar": {
             "outlinewidth": 0,
             "ticks": ""
            },
            "colorscale": [
             [
              0,
              "#0d0887"
             ],
             [
              0.1111111111111111,
              "#46039f"
             ],
             [
              0.2222222222222222,
              "#7201a8"
             ],
             [
              0.3333333333333333,
              "#9c179e"
             ],
             [
              0.4444444444444444,
              "#bd3786"
             ],
             [
              0.5555555555555556,
              "#d8576b"
             ],
             [
              0.6666666666666666,
              "#ed7953"
             ],
             [
              0.7777777777777778,
              "#fb9f3a"
             ],
             [
              0.8888888888888888,
              "#fdca26"
             ],
             [
              1,
              "#f0f921"
             ]
            ],
            "type": "heatmapgl"
           }
          ],
          "histogram": [
           {
            "marker": {
             "colorbar": {
              "outlinewidth": 0,
              "ticks": ""
             }
            },
            "type": "histogram"
           }
          ],
          "histogram2d": [
           {
            "colorbar": {
             "outlinewidth": 0,
             "ticks": ""
            },
            "colorscale": [
             [
              0,
              "#0d0887"
             ],
             [
              0.1111111111111111,
              "#46039f"
             ],
             [
              0.2222222222222222,
              "#7201a8"
             ],
             [
              0.3333333333333333,
              "#9c179e"
             ],
             [
              0.4444444444444444,
              "#bd3786"
             ],
             [
              0.5555555555555556,
              "#d8576b"
             ],
             [
              0.6666666666666666,
              "#ed7953"
             ],
             [
              0.7777777777777778,
              "#fb9f3a"
             ],
             [
              0.8888888888888888,
              "#fdca26"
             ],
             [
              1,
              "#f0f921"
             ]
            ],
            "type": "histogram2d"
           }
          ],
          "histogram2dcontour": [
           {
            "colorbar": {
             "outlinewidth": 0,
             "ticks": ""
            },
            "colorscale": [
             [
              0,
              "#0d0887"
             ],
             [
              0.1111111111111111,
              "#46039f"
             ],
             [
              0.2222222222222222,
              "#7201a8"
             ],
             [
              0.3333333333333333,
              "#9c179e"
             ],
             [
              0.4444444444444444,
              "#bd3786"
             ],
             [
              0.5555555555555556,
              "#d8576b"
             ],
             [
              0.6666666666666666,
              "#ed7953"
             ],
             [
              0.7777777777777778,
              "#fb9f3a"
             ],
             [
              0.8888888888888888,
              "#fdca26"
             ],
             [
              1,
              "#f0f921"
             ]
            ],
            "type": "histogram2dcontour"
           }
          ],
          "mesh3d": [
           {
            "colorbar": {
             "outlinewidth": 0,
             "ticks": ""
            },
            "type": "mesh3d"
           }
          ],
          "parcoords": [
           {
            "line": {
             "colorbar": {
              "outlinewidth": 0,
              "ticks": ""
             }
            },
            "type": "parcoords"
           }
          ],
          "pie": [
           {
            "automargin": true,
            "type": "pie"
           }
          ],
          "scatter": [
           {
            "marker": {
             "colorbar": {
              "outlinewidth": 0,
              "ticks": ""
             }
            },
            "type": "scatter"
           }
          ],
          "scatter3d": [
           {
            "line": {
             "colorbar": {
              "outlinewidth": 0,
              "ticks": ""
             }
            },
            "marker": {
             "colorbar": {
              "outlinewidth": 0,
              "ticks": ""
             }
            },
            "type": "scatter3d"
           }
          ],
          "scattercarpet": [
           {
            "marker": {
             "colorbar": {
              "outlinewidth": 0,
              "ticks": ""
             }
            },
            "type": "scattercarpet"
           }
          ],
          "scattergeo": [
           {
            "marker": {
             "colorbar": {
              "outlinewidth": 0,
              "ticks": ""
             }
            },
            "type": "scattergeo"
           }
          ],
          "scattergl": [
           {
            "marker": {
             "colorbar": {
              "outlinewidth": 0,
              "ticks": ""
             }
            },
            "type": "scattergl"
           }
          ],
          "scattermapbox": [
           {
            "marker": {
             "colorbar": {
              "outlinewidth": 0,
              "ticks": ""
             }
            },
            "type": "scattermapbox"
           }
          ],
          "scatterpolar": [
           {
            "marker": {
             "colorbar": {
              "outlinewidth": 0,
              "ticks": ""
             }
            },
            "type": "scatterpolar"
           }
          ],
          "scatterpolargl": [
           {
            "marker": {
             "colorbar": {
              "outlinewidth": 0,
              "ticks": ""
             }
            },
            "type": "scatterpolargl"
           }
          ],
          "scatterternary": [
           {
            "marker": {
             "colorbar": {
              "outlinewidth": 0,
              "ticks": ""
             }
            },
            "type": "scatterternary"
           }
          ],
          "surface": [
           {
            "colorbar": {
             "outlinewidth": 0,
             "ticks": ""
            },
            "colorscale": [
             [
              0,
              "#0d0887"
             ],
             [
              0.1111111111111111,
              "#46039f"
             ],
             [
              0.2222222222222222,
              "#7201a8"
             ],
             [
              0.3333333333333333,
              "#9c179e"
             ],
             [
              0.4444444444444444,
              "#bd3786"
             ],
             [
              0.5555555555555556,
              "#d8576b"
             ],
             [
              0.6666666666666666,
              "#ed7953"
             ],
             [
              0.7777777777777778,
              "#fb9f3a"
             ],
             [
              0.8888888888888888,
              "#fdca26"
             ],
             [
              1,
              "#f0f921"
             ]
            ],
            "type": "surface"
           }
          ],
          "table": [
           {
            "cells": {
             "fill": {
              "color": "#EBF0F8"
             },
             "line": {
              "color": "white"
             }
            },
            "header": {
             "fill": {
              "color": "#C8D4E3"
             },
             "line": {
              "color": "white"
             }
            },
            "type": "table"
           }
          ]
         },
         "layout": {
          "annotationdefaults": {
           "arrowcolor": "#2a3f5f",
           "arrowhead": 0,
           "arrowwidth": 1
          },
          "autotypenumbers": "strict",
          "coloraxis": {
           "colorbar": {
            "outlinewidth": 0,
            "ticks": ""
           }
          },
          "colorscale": {
           "diverging": [
            [
             0,
             "#8e0152"
            ],
            [
             0.1,
             "#c51b7d"
            ],
            [
             0.2,
             "#de77ae"
            ],
            [
             0.3,
             "#f1b6da"
            ],
            [
             0.4,
             "#fde0ef"
            ],
            [
             0.5,
             "#f7f7f7"
            ],
            [
             0.6,
             "#e6f5d0"
            ],
            [
             0.7,
             "#b8e186"
            ],
            [
             0.8,
             "#7fbc41"
            ],
            [
             0.9,
             "#4d9221"
            ],
            [
             1,
             "#276419"
            ]
           ],
           "sequential": [
            [
             0,
             "#0d0887"
            ],
            [
             0.1111111111111111,
             "#46039f"
            ],
            [
             0.2222222222222222,
             "#7201a8"
            ],
            [
             0.3333333333333333,
             "#9c179e"
            ],
            [
             0.4444444444444444,
             "#bd3786"
            ],
            [
             0.5555555555555556,
             "#d8576b"
            ],
            [
             0.6666666666666666,
             "#ed7953"
            ],
            [
             0.7777777777777778,
             "#fb9f3a"
            ],
            [
             0.8888888888888888,
             "#fdca26"
            ],
            [
             1,
             "#f0f921"
            ]
           ],
           "sequentialminus": [
            [
             0,
             "#0d0887"
            ],
            [
             0.1111111111111111,
             "#46039f"
            ],
            [
             0.2222222222222222,
             "#7201a8"
            ],
            [
             0.3333333333333333,
             "#9c179e"
            ],
            [
             0.4444444444444444,
             "#bd3786"
            ],
            [
             0.5555555555555556,
             "#d8576b"
            ],
            [
             0.6666666666666666,
             "#ed7953"
            ],
            [
             0.7777777777777778,
             "#fb9f3a"
            ],
            [
             0.8888888888888888,
             "#fdca26"
            ],
            [
             1,
             "#f0f921"
            ]
           ]
          },
          "colorway": [
           "#636efa",
           "#EF553B",
           "#00cc96",
           "#ab63fa",
           "#FFA15A",
           "#19d3f3",
           "#FF6692",
           "#B6E880",
           "#FF97FF",
           "#FECB52"
          ],
          "font": {
           "color": "#2a3f5f"
          },
          "geo": {
           "bgcolor": "white",
           "lakecolor": "white",
           "landcolor": "#E5ECF6",
           "showlakes": true,
           "showland": true,
           "subunitcolor": "white"
          },
          "hoverlabel": {
           "align": "left"
          },
          "hovermode": "closest",
          "mapbox": {
           "style": "light"
          },
          "paper_bgcolor": "white",
          "plot_bgcolor": "#E5ECF6",
          "polar": {
           "angularaxis": {
            "gridcolor": "white",
            "linecolor": "white",
            "ticks": ""
           },
           "bgcolor": "#E5ECF6",
           "radialaxis": {
            "gridcolor": "white",
            "linecolor": "white",
            "ticks": ""
           }
          },
          "scene": {
           "xaxis": {
            "backgroundcolor": "#E5ECF6",
            "gridcolor": "white",
            "gridwidth": 2,
            "linecolor": "white",
            "showbackground": true,
            "ticks": "",
            "zerolinecolor": "white"
           },
           "yaxis": {
            "backgroundcolor": "#E5ECF6",
            "gridcolor": "white",
            "gridwidth": 2,
            "linecolor": "white",
            "showbackground": true,
            "ticks": "",
            "zerolinecolor": "white"
           },
           "zaxis": {
            "backgroundcolor": "#E5ECF6",
            "gridcolor": "white",
            "gridwidth": 2,
            "linecolor": "white",
            "showbackground": true,
            "ticks": "",
            "zerolinecolor": "white"
           }
          },
          "shapedefaults": {
           "line": {
            "color": "#2a3f5f"
           }
          },
          "ternary": {
           "aaxis": {
            "gridcolor": "white",
            "linecolor": "white",
            "ticks": ""
           },
           "baxis": {
            "gridcolor": "white",
            "linecolor": "white",
            "ticks": ""
           },
           "bgcolor": "#E5ECF6",
           "caxis": {
            "gridcolor": "white",
            "linecolor": "white",
            "ticks": ""
           }
          },
          "title": {
           "x": 0.05
          },
          "xaxis": {
           "automargin": true,
           "gridcolor": "white",
           "linecolor": "white",
           "ticks": "",
           "title": {
            "standoff": 15
           },
           "zerolinecolor": "white",
           "zerolinewidth": 2
          },
          "yaxis": {
           "automargin": true,
           "gridcolor": "white",
           "linecolor": "white",
           "ticks": "",
           "title": {
            "standoff": 15
           },
           "zerolinecolor": "white",
           "zerolinewidth": 2
          }
         }
        },
        "title": {
         "font": {
          "color": "#4D5663"
         }
        },
        "xaxis": {
         "gridcolor": "#E1E5ED",
         "showgrid": true,
         "tickfont": {
          "color": "#4D5663"
         },
         "title": {
          "font": {
           "color": "#4D5663"
          },
          "text": ""
         },
         "zerolinecolor": "#E1E5ED"
        },
        "yaxis": {
         "gridcolor": "#E1E5ED",
         "showgrid": true,
         "tickfont": {
          "color": "#4D5663"
         },
         "title": {
          "font": {
           "color": "#4D5663"
          },
          "text": ""
         },
         "zerolinecolor": "#E1E5ED"
        }
       }
      },
      "text/html": [
       "<div>                            <div id=\"71e0c36f-e5d4-45e8-aa5a-a10c4bab732d\" class=\"plotly-graph-div\" style=\"height:525px; width:100%;\"></div>            <script type=\"text/javascript\">                require([\"plotly\"], function(Plotly) {                    window.PLOTLYENV=window.PLOTLYENV || {};\n",
       "                    window.PLOTLYENV.BASE_URL='https://plot.ly';                                    if (document.getElementById(\"71e0c36f-e5d4-45e8-aa5a-a10c4bab732d\")) {                    Plotly.newPlot(                        \"71e0c36f-e5d4-45e8-aa5a-a10c4bab732d\",                        [{\"line\": {\"color\": \"rgba(255, 153, 51, 1.0)\", \"dash\": \"solid\", \"shape\": \"linear\", \"width\": 1.3}, \"marker\": {\"size\": 12, \"symbol\": \"circle\"}, \"mode\": \"markers\", \"name\": \"ImmPercent2017\", \"text\": \"\", \"type\": \"scatter\", \"x\": [45, 29, 47, 48, 31, 37, 41, 55, 50, 49, 36, 44, 66, 78, 64], \"y\": [19.33743701715056, 7.607607263955214, 7.4096325566545245, 6.681245844533781, 6.540603696977396, 5.326091807623514, 4.296051148424956, 2.508442534122028, 2.462324726583197, 2.460493746631283, 2.123822307973117, 2.113523045743601, 1.8700027121390537, 1.7941314803816217, 1.697318415424175]}, {\"line\": {\"color\": \"rgba(55, 128, 191, 1.0)\", \"dash\": \"solid\", \"shape\": \"linear\", \"width\": 1.3}, \"marker\": {\"size\": 12, \"symbol\": \"circle\"}, \"mode\": \"markers\", \"name\": \"PerChg\", \"text\": \"\", \"type\": \"scatter\", \"x\": [45, 29, 47, 48, 31, 37, 41, 55, 50, 49, 36, 44, 66, 78, 64], \"y\": [1.4816193719275184, -1.9986520893203066, 3.410178087601119, 1.5779512799387394, -1.2393556585097354, -1.4857958523190335, 0.9076159130234376, 0.5580465327164259, -0.03188207879249427, -0.29738634959841015, -0.4320638972202393, -0.3607792521212101, -0.6207638079878437, -0.09802540645510982, 0.31530668405147666]}],                        {\"legend\": {\"bgcolor\": \"#F5F6F9\", \"font\": {\"color\": \"#4D5663\"}}, \"paper_bgcolor\": \"#F5F6F9\", \"plot_bgcolor\": \"#F5F6F9\", \"template\": {\"data\": {\"bar\": [{\"error_x\": {\"color\": \"#2a3f5f\"}, \"error_y\": {\"color\": \"#2a3f5f\"}, \"marker\": {\"line\": {\"color\": \"#E5ECF6\", \"width\": 0.5}}, \"type\": \"bar\"}], \"barpolar\": [{\"marker\": {\"line\": {\"color\": \"#E5ECF6\", \"width\": 0.5}}, \"type\": \"barpolar\"}], \"carpet\": [{\"aaxis\": {\"endlinecolor\": \"#2a3f5f\", \"gridcolor\": \"white\", \"linecolor\": \"white\", \"minorgridcolor\": \"white\", \"startlinecolor\": \"#2a3f5f\"}, \"baxis\": {\"endlinecolor\": \"#2a3f5f\", \"gridcolor\": \"white\", \"linecolor\": \"white\", \"minorgridcolor\": \"white\", \"startlinecolor\": \"#2a3f5f\"}, \"type\": \"carpet\"}], \"choropleth\": [{\"colorbar\": {\"outlinewidth\": 0, \"ticks\": \"\"}, \"type\": \"choropleth\"}], \"contour\": [{\"colorbar\": {\"outlinewidth\": 0, \"ticks\": \"\"}, \"colorscale\": [[0.0, \"#0d0887\"], [0.1111111111111111, \"#46039f\"], [0.2222222222222222, \"#7201a8\"], [0.3333333333333333, \"#9c179e\"], [0.4444444444444444, \"#bd3786\"], [0.5555555555555556, \"#d8576b\"], [0.6666666666666666, \"#ed7953\"], [0.7777777777777778, \"#fb9f3a\"], [0.8888888888888888, \"#fdca26\"], [1.0, \"#f0f921\"]], \"type\": \"contour\"}], \"contourcarpet\": [{\"colorbar\": {\"outlinewidth\": 0, \"ticks\": \"\"}, \"type\": \"contourcarpet\"}], \"heatmap\": [{\"colorbar\": {\"outlinewidth\": 0, \"ticks\": \"\"}, \"colorscale\": [[0.0, \"#0d0887\"], [0.1111111111111111, \"#46039f\"], [0.2222222222222222, \"#7201a8\"], [0.3333333333333333, \"#9c179e\"], [0.4444444444444444, \"#bd3786\"], [0.5555555555555556, \"#d8576b\"], [0.6666666666666666, \"#ed7953\"], [0.7777777777777778, \"#fb9f3a\"], [0.8888888888888888, \"#fdca26\"], [1.0, \"#f0f921\"]], \"type\": \"heatmap\"}], \"heatmapgl\": [{\"colorbar\": {\"outlinewidth\": 0, \"ticks\": \"\"}, \"colorscale\": [[0.0, \"#0d0887\"], [0.1111111111111111, \"#46039f\"], [0.2222222222222222, \"#7201a8\"], [0.3333333333333333, \"#9c179e\"], [0.4444444444444444, \"#bd3786\"], [0.5555555555555556, \"#d8576b\"], [0.6666666666666666, \"#ed7953\"], [0.7777777777777778, \"#fb9f3a\"], [0.8888888888888888, \"#fdca26\"], [1.0, \"#f0f921\"]], \"type\": \"heatmapgl\"}], \"histogram\": [{\"marker\": {\"colorbar\": {\"outlinewidth\": 0, \"ticks\": \"\"}}, \"type\": \"histogram\"}], \"histogram2d\": [{\"colorbar\": {\"outlinewidth\": 0, \"ticks\": \"\"}, \"colorscale\": [[0.0, \"#0d0887\"], [0.1111111111111111, \"#46039f\"], [0.2222222222222222, \"#7201a8\"], [0.3333333333333333, \"#9c179e\"], [0.4444444444444444, \"#bd3786\"], [0.5555555555555556, \"#d8576b\"], [0.6666666666666666, \"#ed7953\"], [0.7777777777777778, \"#fb9f3a\"], [0.8888888888888888, \"#fdca26\"], [1.0, \"#f0f921\"]], \"type\": \"histogram2d\"}], \"histogram2dcontour\": [{\"colorbar\": {\"outlinewidth\": 0, \"ticks\": \"\"}, \"colorscale\": [[0.0, \"#0d0887\"], [0.1111111111111111, \"#46039f\"], [0.2222222222222222, \"#7201a8\"], [0.3333333333333333, \"#9c179e\"], [0.4444444444444444, \"#bd3786\"], [0.5555555555555556, \"#d8576b\"], [0.6666666666666666, \"#ed7953\"], [0.7777777777777778, \"#fb9f3a\"], [0.8888888888888888, \"#fdca26\"], [1.0, \"#f0f921\"]], \"type\": \"histogram2dcontour\"}], \"mesh3d\": [{\"colorbar\": {\"outlinewidth\": 0, \"ticks\": \"\"}, \"type\": \"mesh3d\"}], \"parcoords\": [{\"line\": {\"colorbar\": {\"outlinewidth\": 0, \"ticks\": \"\"}}, \"type\": \"parcoords\"}], \"pie\": [{\"automargin\": true, \"type\": \"pie\"}], \"scatter\": [{\"marker\": {\"colorbar\": {\"outlinewidth\": 0, \"ticks\": \"\"}}, \"type\": \"scatter\"}], \"scatter3d\": [{\"line\": {\"colorbar\": {\"outlinewidth\": 0, \"ticks\": \"\"}}, \"marker\": {\"colorbar\": {\"outlinewidth\": 0, \"ticks\": \"\"}}, \"type\": \"scatter3d\"}], \"scattercarpet\": [{\"marker\": {\"colorbar\": {\"outlinewidth\": 0, \"ticks\": \"\"}}, \"type\": \"scattercarpet\"}], \"scattergeo\": [{\"marker\": {\"colorbar\": {\"outlinewidth\": 0, \"ticks\": \"\"}}, \"type\": \"scattergeo\"}], \"scattergl\": [{\"marker\": {\"colorbar\": {\"outlinewidth\": 0, \"ticks\": \"\"}}, \"type\": \"scattergl\"}], \"scattermapbox\": [{\"marker\": {\"colorbar\": {\"outlinewidth\": 0, \"ticks\": \"\"}}, \"type\": \"scattermapbox\"}], \"scatterpolar\": [{\"marker\": {\"colorbar\": {\"outlinewidth\": 0, \"ticks\": \"\"}}, \"type\": \"scatterpolar\"}], \"scatterpolargl\": [{\"marker\": {\"colorbar\": {\"outlinewidth\": 0, \"ticks\": \"\"}}, \"type\": \"scatterpolargl\"}], \"scatterternary\": [{\"marker\": {\"colorbar\": {\"outlinewidth\": 0, \"ticks\": \"\"}}, \"type\": \"scatterternary\"}], \"surface\": [{\"colorbar\": {\"outlinewidth\": 0, \"ticks\": \"\"}, \"colorscale\": [[0.0, \"#0d0887\"], [0.1111111111111111, \"#46039f\"], [0.2222222222222222, \"#7201a8\"], [0.3333333333333333, \"#9c179e\"], [0.4444444444444444, \"#bd3786\"], [0.5555555555555556, \"#d8576b\"], [0.6666666666666666, \"#ed7953\"], [0.7777777777777778, \"#fb9f3a\"], [0.8888888888888888, \"#fdca26\"], [1.0, \"#f0f921\"]], \"type\": \"surface\"}], \"table\": [{\"cells\": {\"fill\": {\"color\": \"#EBF0F8\"}, \"line\": {\"color\": \"white\"}}, \"header\": {\"fill\": {\"color\": \"#C8D4E3\"}, \"line\": {\"color\": \"white\"}}, \"type\": \"table\"}]}, \"layout\": {\"annotationdefaults\": {\"arrowcolor\": \"#2a3f5f\", \"arrowhead\": 0, \"arrowwidth\": 1}, \"autotypenumbers\": \"strict\", \"coloraxis\": {\"colorbar\": {\"outlinewidth\": 0, \"ticks\": \"\"}}, \"colorscale\": {\"diverging\": [[0, \"#8e0152\"], [0.1, \"#c51b7d\"], [0.2, \"#de77ae\"], [0.3, \"#f1b6da\"], [0.4, \"#fde0ef\"], [0.5, \"#f7f7f7\"], [0.6, \"#e6f5d0\"], [0.7, \"#b8e186\"], [0.8, \"#7fbc41\"], [0.9, \"#4d9221\"], [1, \"#276419\"]], \"sequential\": [[0.0, \"#0d0887\"], [0.1111111111111111, \"#46039f\"], [0.2222222222222222, \"#7201a8\"], [0.3333333333333333, \"#9c179e\"], [0.4444444444444444, \"#bd3786\"], [0.5555555555555556, \"#d8576b\"], [0.6666666666666666, \"#ed7953\"], [0.7777777777777778, \"#fb9f3a\"], [0.8888888888888888, \"#fdca26\"], [1.0, \"#f0f921\"]], \"sequentialminus\": [[0.0, \"#0d0887\"], [0.1111111111111111, \"#46039f\"], [0.2222222222222222, \"#7201a8\"], [0.3333333333333333, \"#9c179e\"], [0.4444444444444444, \"#bd3786\"], [0.5555555555555556, \"#d8576b\"], [0.6666666666666666, \"#ed7953\"], [0.7777777777777778, \"#fb9f3a\"], [0.8888888888888888, \"#fdca26\"], [1.0, \"#f0f921\"]]}, \"colorway\": [\"#636efa\", \"#EF553B\", \"#00cc96\", \"#ab63fa\", \"#FFA15A\", \"#19d3f3\", \"#FF6692\", \"#B6E880\", \"#FF97FF\", \"#FECB52\"], \"font\": {\"color\": \"#2a3f5f\"}, \"geo\": {\"bgcolor\": \"white\", \"lakecolor\": \"white\", \"landcolor\": \"#E5ECF6\", \"showlakes\": true, \"showland\": true, \"subunitcolor\": \"white\"}, \"hoverlabel\": {\"align\": \"left\"}, \"hovermode\": \"closest\", \"mapbox\": {\"style\": \"light\"}, \"paper_bgcolor\": \"white\", \"plot_bgcolor\": \"#E5ECF6\", \"polar\": {\"angularaxis\": {\"gridcolor\": \"white\", \"linecolor\": \"white\", \"ticks\": \"\"}, \"bgcolor\": \"#E5ECF6\", \"radialaxis\": {\"gridcolor\": \"white\", \"linecolor\": \"white\", \"ticks\": \"\"}}, \"scene\": {\"xaxis\": {\"backgroundcolor\": \"#E5ECF6\", \"gridcolor\": \"white\", \"gridwidth\": 2, \"linecolor\": \"white\", \"showbackground\": true, \"ticks\": \"\", \"zerolinecolor\": \"white\"}, \"yaxis\": {\"backgroundcolor\": \"#E5ECF6\", \"gridcolor\": \"white\", \"gridwidth\": 2, \"linecolor\": \"white\", \"showbackground\": true, \"ticks\": \"\", \"zerolinecolor\": \"white\"}, \"zaxis\": {\"backgroundcolor\": \"#E5ECF6\", \"gridcolor\": \"white\", \"gridwidth\": 2, \"linecolor\": \"white\", \"showbackground\": true, \"ticks\": \"\", \"zerolinecolor\": \"white\"}}, \"shapedefaults\": {\"line\": {\"color\": \"#2a3f5f\"}}, \"ternary\": {\"aaxis\": {\"gridcolor\": \"white\", \"linecolor\": \"white\", \"ticks\": \"\"}, \"baxis\": {\"gridcolor\": \"white\", \"linecolor\": \"white\", \"ticks\": \"\"}, \"bgcolor\": \"#E5ECF6\", \"caxis\": {\"gridcolor\": \"white\", \"linecolor\": \"white\", \"ticks\": \"\"}}, \"title\": {\"x\": 0.05}, \"xaxis\": {\"automargin\": true, \"gridcolor\": \"white\", \"linecolor\": \"white\", \"ticks\": \"\", \"title\": {\"standoff\": 15}, \"zerolinecolor\": \"white\", \"zerolinewidth\": 2}, \"yaxis\": {\"automargin\": true, \"gridcolor\": \"white\", \"linecolor\": \"white\", \"ticks\": \"\", \"title\": {\"standoff\": 15}, \"zerolinecolor\": \"white\", \"zerolinewidth\": 2}}}, \"title\": {\"font\": {\"color\": \"#4D5663\"}}, \"xaxis\": {\"gridcolor\": \"#E1E5ED\", \"showgrid\": true, \"tickfont\": {\"color\": \"#4D5663\"}, \"title\": {\"font\": {\"color\": \"#4D5663\"}, \"text\": \"\"}, \"zerolinecolor\": \"#E1E5ED\"}, \"yaxis\": {\"gridcolor\": \"#E1E5ED\", \"showgrid\": true, \"tickfont\": {\"color\": \"#4D5663\"}, \"title\": {\"font\": {\"color\": \"#4D5663\"}, \"text\": \"\"}, \"zerolinecolor\": \"#E1E5ED\"}},                        {\"showLink\": true, \"linkText\": \"Export to plot.ly\", \"plotlyServerURL\": \"https://plot.ly\", \"responsive\": true}                    ).then(function(){\n",
       "                            \n",
       "var gd = document.getElementById('71e0c36f-e5d4-45e8-aa5a-a10c4bab732d');\n",
       "var x = new MutationObserver(function (mutations, observer) {{\n",
       "        var display = window.getComputedStyle(gd).display;\n",
       "        if (!display || display === 'none') {{\n",
       "            console.log([gd, 'removed!']);\n",
       "            Plotly.purge(gd);\n",
       "            observer.disconnect();\n",
       "        }}\n",
       "}});\n",
       "\n",
       "// Listen for the removal of the full notebook cells\n",
       "var notebookContainer = gd.closest('#notebook-container');\n",
       "if (notebookContainer) {{\n",
       "    x.observe(notebookContainer, {childList: true});\n",
       "}}\n",
       "\n",
       "// Listen for the clearing of the current output cell\n",
       "var outputEl = gd.closest('.output');\n",
       "if (outputEl) {{\n",
       "    x.observe(outputEl, {childList: true});\n",
       "}}\n",
       "\n",
       "                        })                };                });            </script>        </div>"
      ]
     },
     "metadata": {},
     "output_type": "display_data"
    }
   ],
   "source": [
    "USImmigTop15[['ImmPercent2017','PerChg']].iplot(kind = 'scatter' , mode = 'markers')"
   ]
  },
  {
   "cell_type": "code",
   "execution_count": 28,
   "metadata": {},
   "outputs": [
    {
     "data": {
      "application/vnd.plotly.v1+json": {
       "config": {
        "linkText": "Export to plot.ly",
        "plotlyServerURL": "https://plot.ly",
        "showLink": true
       },
       "data": [
        {
         "colorscale": [
          [
           0,
           "rgb(247,251,255)"
          ],
          [
           0.125,
           "rgb(222,235,247)"
          ],
          [
           0.25,
           "rgb(198,219,239)"
          ],
          [
           0.375,
           "rgb(158,202,225)"
          ],
          [
           0.5,
           "rgb(107,174,214)"
          ],
          [
           0.625,
           "rgb(66,146,198)"
          ],
          [
           0.75,
           "rgb(33,113,181)"
          ],
          [
           0.875,
           "rgb(8,81,156)"
          ],
          [
           1,
           "rgb(8,48,107)"
          ]
         ],
         "type": "heatmap",
         "x": [
          "2012",
          "2013",
          "2014",
          "2015",
          "2016",
          "2017",
          "ImmPercent2017",
          "ImmPercent2012",
          "PerChg"
         ],
         "y": [
          "2012",
          "2013",
          "2014",
          "2015",
          "2016",
          "2017",
          "ImmPercent2017",
          "ImmPercent2012",
          "PerChg"
         ],
         "z": [
          [
           1,
           0.9971607993091776,
           0.9819819009918221,
           0.9813643085976331,
           0.9652861531807199,
           0.9544080834834497,
           0.9544080834834497,
           1,
           0.01214423805507034
          ],
          [
           0.9971607993091776,
           1,
           0.9873341606854544,
           0.9813408001295406,
           0.9630951982295313,
           0.9532048462411854,
           0.9532048462411856,
           0.9971607993091776,
           0.017156266429030186
          ],
          [
           0.9819819009918221,
           0.9873341606854544,
           1,
           0.9847777985613698,
           0.9722810043397129,
           0.9616934131388842,
           0.9616934131388841,
           0.9819819009918219,
           0.0939345910446524
          ],
          [
           0.9813643085976331,
           0.9813408001295406,
           0.9847777985613698,
           1,
           0.9944181946562006,
           0.9907919872658291,
           0.9907919872658293,
           0.9813643085976332,
           0.1933754221288522
          ],
          [
           0.9652861531807199,
           0.9630951982295313,
           0.9722810043397129,
           0.9944181946562006,
           1,
           0.9977221463859467,
           0.9977221463859468,
           0.9652861531807196,
           0.2677974783083633
          ],
          [
           0.9544080834834497,
           0.9532048462411854,
           0.9616934131388842,
           0.9907919872658291,
           0.9977221463859467,
           1,
           1.0000000000000002,
           0.9544080834834499,
           0.31007350441111053
          ],
          [
           0.9544080834834497,
           0.9532048462411856,
           0.9616934131388841,
           0.9907919872658293,
           0.9977221463859468,
           1.0000000000000002,
           1,
           0.9544080834834499,
           0.31007350441111053
          ],
          [
           1,
           0.9971607993091776,
           0.9819819009918219,
           0.9813643085976332,
           0.9652861531807196,
           0.9544080834834499,
           0.9544080834834499,
           1,
           0.012144238055070377
          ],
          [
           0.01214423805507034,
           0.017156266429030186,
           0.0939345910446524,
           0.1933754221288522,
           0.2677974783083633,
           0.31007350441111053,
           0.31007350441111053,
           0.012144238055070377,
           1
          ]
         ],
         "zmax": 1.0000000000000002,
         "zmin": 0.01214423805507034
        }
       ],
       "layout": {
        "legend": {
         "bgcolor": "#F5F6F9",
         "font": {
          "color": "#4D5663"
         }
        },
        "paper_bgcolor": "#F5F6F9",
        "plot_bgcolor": "#F5F6F9",
        "template": {
         "data": {
          "bar": [
           {
            "error_x": {
             "color": "#2a3f5f"
            },
            "error_y": {
             "color": "#2a3f5f"
            },
            "marker": {
             "line": {
              "color": "#E5ECF6",
              "width": 0.5
             }
            },
            "type": "bar"
           }
          ],
          "barpolar": [
           {
            "marker": {
             "line": {
              "color": "#E5ECF6",
              "width": 0.5
             }
            },
            "type": "barpolar"
           }
          ],
          "carpet": [
           {
            "aaxis": {
             "endlinecolor": "#2a3f5f",
             "gridcolor": "white",
             "linecolor": "white",
             "minorgridcolor": "white",
             "startlinecolor": "#2a3f5f"
            },
            "baxis": {
             "endlinecolor": "#2a3f5f",
             "gridcolor": "white",
             "linecolor": "white",
             "minorgridcolor": "white",
             "startlinecolor": "#2a3f5f"
            },
            "type": "carpet"
           }
          ],
          "choropleth": [
           {
            "colorbar": {
             "outlinewidth": 0,
             "ticks": ""
            },
            "type": "choropleth"
           }
          ],
          "contour": [
           {
            "colorbar": {
             "outlinewidth": 0,
             "ticks": ""
            },
            "colorscale": [
             [
              0,
              "#0d0887"
             ],
             [
              0.1111111111111111,
              "#46039f"
             ],
             [
              0.2222222222222222,
              "#7201a8"
             ],
             [
              0.3333333333333333,
              "#9c179e"
             ],
             [
              0.4444444444444444,
              "#bd3786"
             ],
             [
              0.5555555555555556,
              "#d8576b"
             ],
             [
              0.6666666666666666,
              "#ed7953"
             ],
             [
              0.7777777777777778,
              "#fb9f3a"
             ],
             [
              0.8888888888888888,
              "#fdca26"
             ],
             [
              1,
              "#f0f921"
             ]
            ],
            "type": "contour"
           }
          ],
          "contourcarpet": [
           {
            "colorbar": {
             "outlinewidth": 0,
             "ticks": ""
            },
            "type": "contourcarpet"
           }
          ],
          "heatmap": [
           {
            "colorbar": {
             "outlinewidth": 0,
             "ticks": ""
            },
            "colorscale": [
             [
              0,
              "#0d0887"
             ],
             [
              0.1111111111111111,
              "#46039f"
             ],
             [
              0.2222222222222222,
              "#7201a8"
             ],
             [
              0.3333333333333333,
              "#9c179e"
             ],
             [
              0.4444444444444444,
              "#bd3786"
             ],
             [
              0.5555555555555556,
              "#d8576b"
             ],
             [
              0.6666666666666666,
              "#ed7953"
             ],
             [
              0.7777777777777778,
              "#fb9f3a"
             ],
             [
              0.8888888888888888,
              "#fdca26"
             ],
             [
              1,
              "#f0f921"
             ]
            ],
            "type": "heatmap"
           }
          ],
          "heatmapgl": [
           {
            "colorbar": {
             "outlinewidth": 0,
             "ticks": ""
            },
            "colorscale": [
             [
              0,
              "#0d0887"
             ],
             [
              0.1111111111111111,
              "#46039f"
             ],
             [
              0.2222222222222222,
              "#7201a8"
             ],
             [
              0.3333333333333333,
              "#9c179e"
             ],
             [
              0.4444444444444444,
              "#bd3786"
             ],
             [
              0.5555555555555556,
              "#d8576b"
             ],
             [
              0.6666666666666666,
              "#ed7953"
             ],
             [
              0.7777777777777778,
              "#fb9f3a"
             ],
             [
              0.8888888888888888,
              "#fdca26"
             ],
             [
              1,
              "#f0f921"
             ]
            ],
            "type": "heatmapgl"
           }
          ],
          "histogram": [
           {
            "marker": {
             "colorbar": {
              "outlinewidth": 0,
              "ticks": ""
             }
            },
            "type": "histogram"
           }
          ],
          "histogram2d": [
           {
            "colorbar": {
             "outlinewidth": 0,
             "ticks": ""
            },
            "colorscale": [
             [
              0,
              "#0d0887"
             ],
             [
              0.1111111111111111,
              "#46039f"
             ],
             [
              0.2222222222222222,
              "#7201a8"
             ],
             [
              0.3333333333333333,
              "#9c179e"
             ],
             [
              0.4444444444444444,
              "#bd3786"
             ],
             [
              0.5555555555555556,
              "#d8576b"
             ],
             [
              0.6666666666666666,
              "#ed7953"
             ],
             [
              0.7777777777777778,
              "#fb9f3a"
             ],
             [
              0.8888888888888888,
              "#fdca26"
             ],
             [
              1,
              "#f0f921"
             ]
            ],
            "type": "histogram2d"
           }
          ],
          "histogram2dcontour": [
           {
            "colorbar": {
             "outlinewidth": 0,
             "ticks": ""
            },
            "colorscale": [
             [
              0,
              "#0d0887"
             ],
             [
              0.1111111111111111,
              "#46039f"
             ],
             [
              0.2222222222222222,
              "#7201a8"
             ],
             [
              0.3333333333333333,
              "#9c179e"
             ],
             [
              0.4444444444444444,
              "#bd3786"
             ],
             [
              0.5555555555555556,
              "#d8576b"
             ],
             [
              0.6666666666666666,
              "#ed7953"
             ],
             [
              0.7777777777777778,
              "#fb9f3a"
             ],
             [
              0.8888888888888888,
              "#fdca26"
             ],
             [
              1,
              "#f0f921"
             ]
            ],
            "type": "histogram2dcontour"
           }
          ],
          "mesh3d": [
           {
            "colorbar": {
             "outlinewidth": 0,
             "ticks": ""
            },
            "type": "mesh3d"
           }
          ],
          "parcoords": [
           {
            "line": {
             "colorbar": {
              "outlinewidth": 0,
              "ticks": ""
             }
            },
            "type": "parcoords"
           }
          ],
          "pie": [
           {
            "automargin": true,
            "type": "pie"
           }
          ],
          "scatter": [
           {
            "marker": {
             "colorbar": {
              "outlinewidth": 0,
              "ticks": ""
             }
            },
            "type": "scatter"
           }
          ],
          "scatter3d": [
           {
            "line": {
             "colorbar": {
              "outlinewidth": 0,
              "ticks": ""
             }
            },
            "marker": {
             "colorbar": {
              "outlinewidth": 0,
              "ticks": ""
             }
            },
            "type": "scatter3d"
           }
          ],
          "scattercarpet": [
           {
            "marker": {
             "colorbar": {
              "outlinewidth": 0,
              "ticks": ""
             }
            },
            "type": "scattercarpet"
           }
          ],
          "scattergeo": [
           {
            "marker": {
             "colorbar": {
              "outlinewidth": 0,
              "ticks": ""
             }
            },
            "type": "scattergeo"
           }
          ],
          "scattergl": [
           {
            "marker": {
             "colorbar": {
              "outlinewidth": 0,
              "ticks": ""
             }
            },
            "type": "scattergl"
           }
          ],
          "scattermapbox": [
           {
            "marker": {
             "colorbar": {
              "outlinewidth": 0,
              "ticks": ""
             }
            },
            "type": "scattermapbox"
           }
          ],
          "scatterpolar": [
           {
            "marker": {
             "colorbar": {
              "outlinewidth": 0,
              "ticks": ""
             }
            },
            "type": "scatterpolar"
           }
          ],
          "scatterpolargl": [
           {
            "marker": {
             "colorbar": {
              "outlinewidth": 0,
              "ticks": ""
             }
            },
            "type": "scatterpolargl"
           }
          ],
          "scatterternary": [
           {
            "marker": {
             "colorbar": {
              "outlinewidth": 0,
              "ticks": ""
             }
            },
            "type": "scatterternary"
           }
          ],
          "surface": [
           {
            "colorbar": {
             "outlinewidth": 0,
             "ticks": ""
            },
            "colorscale": [
             [
              0,
              "#0d0887"
             ],
             [
              0.1111111111111111,
              "#46039f"
             ],
             [
              0.2222222222222222,
              "#7201a8"
             ],
             [
              0.3333333333333333,
              "#9c179e"
             ],
             [
              0.4444444444444444,
              "#bd3786"
             ],
             [
              0.5555555555555556,
              "#d8576b"
             ],
             [
              0.6666666666666666,
              "#ed7953"
             ],
             [
              0.7777777777777778,
              "#fb9f3a"
             ],
             [
              0.8888888888888888,
              "#fdca26"
             ],
             [
              1,
              "#f0f921"
             ]
            ],
            "type": "surface"
           }
          ],
          "table": [
           {
            "cells": {
             "fill": {
              "color": "#EBF0F8"
             },
             "line": {
              "color": "white"
             }
            },
            "header": {
             "fill": {
              "color": "#C8D4E3"
             },
             "line": {
              "color": "white"
             }
            },
            "type": "table"
           }
          ]
         },
         "layout": {
          "annotationdefaults": {
           "arrowcolor": "#2a3f5f",
           "arrowhead": 0,
           "arrowwidth": 1
          },
          "autotypenumbers": "strict",
          "coloraxis": {
           "colorbar": {
            "outlinewidth": 0,
            "ticks": ""
           }
          },
          "colorscale": {
           "diverging": [
            [
             0,
             "#8e0152"
            ],
            [
             0.1,
             "#c51b7d"
            ],
            [
             0.2,
             "#de77ae"
            ],
            [
             0.3,
             "#f1b6da"
            ],
            [
             0.4,
             "#fde0ef"
            ],
            [
             0.5,
             "#f7f7f7"
            ],
            [
             0.6,
             "#e6f5d0"
            ],
            [
             0.7,
             "#b8e186"
            ],
            [
             0.8,
             "#7fbc41"
            ],
            [
             0.9,
             "#4d9221"
            ],
            [
             1,
             "#276419"
            ]
           ],
           "sequential": [
            [
             0,
             "#0d0887"
            ],
            [
             0.1111111111111111,
             "#46039f"
            ],
            [
             0.2222222222222222,
             "#7201a8"
            ],
            [
             0.3333333333333333,
             "#9c179e"
            ],
            [
             0.4444444444444444,
             "#bd3786"
            ],
            [
             0.5555555555555556,
             "#d8576b"
            ],
            [
             0.6666666666666666,
             "#ed7953"
            ],
            [
             0.7777777777777778,
             "#fb9f3a"
            ],
            [
             0.8888888888888888,
             "#fdca26"
            ],
            [
             1,
             "#f0f921"
            ]
           ],
           "sequentialminus": [
            [
             0,
             "#0d0887"
            ],
            [
             0.1111111111111111,
             "#46039f"
            ],
            [
             0.2222222222222222,
             "#7201a8"
            ],
            [
             0.3333333333333333,
             "#9c179e"
            ],
            [
             0.4444444444444444,
             "#bd3786"
            ],
            [
             0.5555555555555556,
             "#d8576b"
            ],
            [
             0.6666666666666666,
             "#ed7953"
            ],
            [
             0.7777777777777778,
             "#fb9f3a"
            ],
            [
             0.8888888888888888,
             "#fdca26"
            ],
            [
             1,
             "#f0f921"
            ]
           ]
          },
          "colorway": [
           "#636efa",
           "#EF553B",
           "#00cc96",
           "#ab63fa",
           "#FFA15A",
           "#19d3f3",
           "#FF6692",
           "#B6E880",
           "#FF97FF",
           "#FECB52"
          ],
          "font": {
           "color": "#2a3f5f"
          },
          "geo": {
           "bgcolor": "white",
           "lakecolor": "white",
           "landcolor": "#E5ECF6",
           "showlakes": true,
           "showland": true,
           "subunitcolor": "white"
          },
          "hoverlabel": {
           "align": "left"
          },
          "hovermode": "closest",
          "mapbox": {
           "style": "light"
          },
          "paper_bgcolor": "white",
          "plot_bgcolor": "#E5ECF6",
          "polar": {
           "angularaxis": {
            "gridcolor": "white",
            "linecolor": "white",
            "ticks": ""
           },
           "bgcolor": "#E5ECF6",
           "radialaxis": {
            "gridcolor": "white",
            "linecolor": "white",
            "ticks": ""
           }
          },
          "scene": {
           "xaxis": {
            "backgroundcolor": "#E5ECF6",
            "gridcolor": "white",
            "gridwidth": 2,
            "linecolor": "white",
            "showbackground": true,
            "ticks": "",
            "zerolinecolor": "white"
           },
           "yaxis": {
            "backgroundcolor": "#E5ECF6",
            "gridcolor": "white",
            "gridwidth": 2,
            "linecolor": "white",
            "showbackground": true,
            "ticks": "",
            "zerolinecolor": "white"
           },
           "zaxis": {
            "backgroundcolor": "#E5ECF6",
            "gridcolor": "white",
            "gridwidth": 2,
            "linecolor": "white",
            "showbackground": true,
            "ticks": "",
            "zerolinecolor": "white"
           }
          },
          "shapedefaults": {
           "line": {
            "color": "#2a3f5f"
           }
          },
          "ternary": {
           "aaxis": {
            "gridcolor": "white",
            "linecolor": "white",
            "ticks": ""
           },
           "baxis": {
            "gridcolor": "white",
            "linecolor": "white",
            "ticks": ""
           },
           "bgcolor": "#E5ECF6",
           "caxis": {
            "gridcolor": "white",
            "linecolor": "white",
            "ticks": ""
           }
          },
          "title": {
           "x": 0.05
          },
          "xaxis": {
           "automargin": true,
           "gridcolor": "white",
           "linecolor": "white",
           "ticks": "",
           "title": {
            "standoff": 15
           },
           "zerolinecolor": "white",
           "zerolinewidth": 2
          },
          "yaxis": {
           "automargin": true,
           "gridcolor": "white",
           "linecolor": "white",
           "ticks": "",
           "title": {
            "standoff": 15
           },
           "zerolinecolor": "white",
           "zerolinewidth": 2
          }
         }
        },
        "title": {
         "font": {
          "color": "#4D5663"
         },
         "text": "Country Correlation Matrix"
        },
        "xaxis": {
         "gridcolor": "#E1E5ED",
         "showgrid": true,
         "tickfont": {
          "color": "#4D5663"
         },
         "title": {
          "font": {
           "color": "#4D5663"
          },
          "text": ""
         },
         "zerolinecolor": "#E1E5ED"
        },
        "yaxis": {
         "gridcolor": "#E1E5ED",
         "showgrid": true,
         "tickfont": {
          "color": "#4D5663"
         },
         "title": {
          "font": {
           "color": "#4D5663"
          },
          "text": ""
         },
         "zerolinecolor": "#E1E5ED"
        }
       }
      },
      "text/html": [
       "<div>                            <div id=\"5c95aed9-eac3-4bc5-a064-2401d941193e\" class=\"plotly-graph-div\" style=\"height:525px; width:100%;\"></div>            <script type=\"text/javascript\">                require([\"plotly\"], function(Plotly) {                    window.PLOTLYENV=window.PLOTLYENV || {};\n",
       "                    window.PLOTLYENV.BASE_URL='https://plot.ly';                                    if (document.getElementById(\"5c95aed9-eac3-4bc5-a064-2401d941193e\")) {                    Plotly.newPlot(                        \"5c95aed9-eac3-4bc5-a064-2401d941193e\",                        [{\"colorscale\": [[0.0, \"rgb(247,251,255)\"], [0.125, \"rgb(222,235,247)\"], [0.25, \"rgb(198,219,239)\"], [0.375, \"rgb(158,202,225)\"], [0.5, \"rgb(107,174,214)\"], [0.625, \"rgb(66,146,198)\"], [0.75, \"rgb(33,113,181)\"], [0.875, \"rgb(8,81,156)\"], [1.0, \"rgb(8,48,107)\"]], \"type\": \"heatmap\", \"x\": [\"2012\", \"2013\", \"2014\", \"2015\", \"2016\", \"2017\", \"ImmPercent2017\", \"ImmPercent2012\", \"PerChg\"], \"y\": [\"2012\", \"2013\", \"2014\", \"2015\", \"2016\", \"2017\", \"ImmPercent2017\", \"ImmPercent2012\", \"PerChg\"], \"z\": [[1.0, 0.9971607993091776, 0.9819819009918221, 0.9813643085976331, 0.9652861531807199, 0.9544080834834497, 0.9544080834834497, 1.0, 0.01214423805507034], [0.9971607993091776, 1.0, 0.9873341606854544, 0.9813408001295406, 0.9630951982295313, 0.9532048462411854, 0.9532048462411856, 0.9971607993091776, 0.017156266429030186], [0.9819819009918221, 0.9873341606854544, 1.0, 0.9847777985613698, 0.9722810043397129, 0.9616934131388842, 0.9616934131388841, 0.9819819009918219, 0.0939345910446524], [0.9813643085976331, 0.9813408001295406, 0.9847777985613698, 1.0, 0.9944181946562006, 0.9907919872658291, 0.9907919872658293, 0.9813643085976332, 0.1933754221288522], [0.9652861531807199, 0.9630951982295313, 0.9722810043397129, 0.9944181946562006, 1.0, 0.9977221463859467, 0.9977221463859468, 0.9652861531807196, 0.2677974783083633], [0.9544080834834497, 0.9532048462411854, 0.9616934131388842, 0.9907919872658291, 0.9977221463859467, 1.0, 1.0000000000000002, 0.9544080834834499, 0.31007350441111053], [0.9544080834834497, 0.9532048462411856, 0.9616934131388841, 0.9907919872658293, 0.9977221463859468, 1.0000000000000002, 1.0, 0.9544080834834499, 0.31007350441111053], [1.0, 0.9971607993091776, 0.9819819009918219, 0.9813643085976332, 0.9652861531807196, 0.9544080834834499, 0.9544080834834499, 1.0, 0.012144238055070377], [0.01214423805507034, 0.017156266429030186, 0.0939345910446524, 0.1933754221288522, 0.2677974783083633, 0.31007350441111053, 0.31007350441111053, 0.012144238055070377, 1.0]], \"zmax\": 1.0000000000000002, \"zmin\": 0.01214423805507034}],                        {\"legend\": {\"bgcolor\": \"#F5F6F9\", \"font\": {\"color\": \"#4D5663\"}}, \"paper_bgcolor\": \"#F5F6F9\", \"plot_bgcolor\": \"#F5F6F9\", \"template\": {\"data\": {\"bar\": [{\"error_x\": {\"color\": \"#2a3f5f\"}, \"error_y\": {\"color\": \"#2a3f5f\"}, \"marker\": {\"line\": {\"color\": \"#E5ECF6\", \"width\": 0.5}}, \"type\": \"bar\"}], \"barpolar\": [{\"marker\": {\"line\": {\"color\": \"#E5ECF6\", \"width\": 0.5}}, \"type\": \"barpolar\"}], \"carpet\": [{\"aaxis\": {\"endlinecolor\": \"#2a3f5f\", \"gridcolor\": \"white\", \"linecolor\": \"white\", \"minorgridcolor\": \"white\", \"startlinecolor\": \"#2a3f5f\"}, \"baxis\": {\"endlinecolor\": \"#2a3f5f\", \"gridcolor\": \"white\", \"linecolor\": \"white\", \"minorgridcolor\": \"white\", \"startlinecolor\": \"#2a3f5f\"}, \"type\": \"carpet\"}], \"choropleth\": [{\"colorbar\": {\"outlinewidth\": 0, \"ticks\": \"\"}, \"type\": \"choropleth\"}], \"contour\": [{\"colorbar\": {\"outlinewidth\": 0, \"ticks\": \"\"}, \"colorscale\": [[0.0, \"#0d0887\"], [0.1111111111111111, \"#46039f\"], [0.2222222222222222, \"#7201a8\"], [0.3333333333333333, \"#9c179e\"], [0.4444444444444444, \"#bd3786\"], [0.5555555555555556, \"#d8576b\"], [0.6666666666666666, \"#ed7953\"], [0.7777777777777778, \"#fb9f3a\"], [0.8888888888888888, \"#fdca26\"], [1.0, \"#f0f921\"]], \"type\": \"contour\"}], \"contourcarpet\": [{\"colorbar\": {\"outlinewidth\": 0, \"ticks\": \"\"}, \"type\": \"contourcarpet\"}], \"heatmap\": [{\"colorbar\": {\"outlinewidth\": 0, \"ticks\": \"\"}, \"colorscale\": [[0.0, \"#0d0887\"], [0.1111111111111111, \"#46039f\"], [0.2222222222222222, \"#7201a8\"], [0.3333333333333333, \"#9c179e\"], [0.4444444444444444, \"#bd3786\"], [0.5555555555555556, \"#d8576b\"], [0.6666666666666666, \"#ed7953\"], [0.7777777777777778, \"#fb9f3a\"], [0.8888888888888888, \"#fdca26\"], [1.0, \"#f0f921\"]], \"type\": \"heatmap\"}], \"heatmapgl\": [{\"colorbar\": {\"outlinewidth\": 0, \"ticks\": \"\"}, \"colorscale\": [[0.0, \"#0d0887\"], [0.1111111111111111, \"#46039f\"], [0.2222222222222222, \"#7201a8\"], [0.3333333333333333, \"#9c179e\"], [0.4444444444444444, \"#bd3786\"], [0.5555555555555556, \"#d8576b\"], [0.6666666666666666, \"#ed7953\"], [0.7777777777777778, \"#fb9f3a\"], [0.8888888888888888, \"#fdca26\"], [1.0, \"#f0f921\"]], \"type\": \"heatmapgl\"}], \"histogram\": [{\"marker\": {\"colorbar\": {\"outlinewidth\": 0, \"ticks\": \"\"}}, \"type\": \"histogram\"}], \"histogram2d\": [{\"colorbar\": {\"outlinewidth\": 0, \"ticks\": \"\"}, \"colorscale\": [[0.0, \"#0d0887\"], [0.1111111111111111, \"#46039f\"], [0.2222222222222222, \"#7201a8\"], [0.3333333333333333, \"#9c179e\"], [0.4444444444444444, \"#bd3786\"], [0.5555555555555556, \"#d8576b\"], [0.6666666666666666, \"#ed7953\"], [0.7777777777777778, \"#fb9f3a\"], [0.8888888888888888, \"#fdca26\"], [1.0, \"#f0f921\"]], \"type\": \"histogram2d\"}], \"histogram2dcontour\": [{\"colorbar\": {\"outlinewidth\": 0, \"ticks\": \"\"}, \"colorscale\": [[0.0, \"#0d0887\"], [0.1111111111111111, \"#46039f\"], [0.2222222222222222, \"#7201a8\"], [0.3333333333333333, \"#9c179e\"], [0.4444444444444444, \"#bd3786\"], [0.5555555555555556, \"#d8576b\"], [0.6666666666666666, \"#ed7953\"], [0.7777777777777778, \"#fb9f3a\"], [0.8888888888888888, \"#fdca26\"], [1.0, \"#f0f921\"]], \"type\": \"histogram2dcontour\"}], \"mesh3d\": [{\"colorbar\": {\"outlinewidth\": 0, \"ticks\": \"\"}, \"type\": \"mesh3d\"}], \"parcoords\": [{\"line\": {\"colorbar\": {\"outlinewidth\": 0, \"ticks\": \"\"}}, \"type\": \"parcoords\"}], \"pie\": [{\"automargin\": true, \"type\": \"pie\"}], \"scatter\": [{\"marker\": {\"colorbar\": {\"outlinewidth\": 0, \"ticks\": \"\"}}, \"type\": \"scatter\"}], \"scatter3d\": [{\"line\": {\"colorbar\": {\"outlinewidth\": 0, \"ticks\": \"\"}}, \"marker\": {\"colorbar\": {\"outlinewidth\": 0, \"ticks\": \"\"}}, \"type\": \"scatter3d\"}], \"scattercarpet\": [{\"marker\": {\"colorbar\": {\"outlinewidth\": 0, \"ticks\": \"\"}}, \"type\": \"scattercarpet\"}], \"scattergeo\": [{\"marker\": {\"colorbar\": {\"outlinewidth\": 0, \"ticks\": \"\"}}, \"type\": \"scattergeo\"}], \"scattergl\": [{\"marker\": {\"colorbar\": {\"outlinewidth\": 0, \"ticks\": \"\"}}, \"type\": \"scattergl\"}], \"scattermapbox\": [{\"marker\": {\"colorbar\": {\"outlinewidth\": 0, \"ticks\": \"\"}}, \"type\": \"scattermapbox\"}], \"scatterpolar\": [{\"marker\": {\"colorbar\": {\"outlinewidth\": 0, \"ticks\": \"\"}}, \"type\": \"scatterpolar\"}], \"scatterpolargl\": [{\"marker\": {\"colorbar\": {\"outlinewidth\": 0, \"ticks\": \"\"}}, \"type\": \"scatterpolargl\"}], \"scatterternary\": [{\"marker\": {\"colorbar\": {\"outlinewidth\": 0, \"ticks\": \"\"}}, \"type\": \"scatterternary\"}], \"surface\": [{\"colorbar\": {\"outlinewidth\": 0, \"ticks\": \"\"}, \"colorscale\": [[0.0, \"#0d0887\"], [0.1111111111111111, \"#46039f\"], [0.2222222222222222, \"#7201a8\"], [0.3333333333333333, \"#9c179e\"], [0.4444444444444444, \"#bd3786\"], [0.5555555555555556, \"#d8576b\"], [0.6666666666666666, \"#ed7953\"], [0.7777777777777778, \"#fb9f3a\"], [0.8888888888888888, \"#fdca26\"], [1.0, \"#f0f921\"]], \"type\": \"surface\"}], \"table\": [{\"cells\": {\"fill\": {\"color\": \"#EBF0F8\"}, \"line\": {\"color\": \"white\"}}, \"header\": {\"fill\": {\"color\": \"#C8D4E3\"}, \"line\": {\"color\": \"white\"}}, \"type\": \"table\"}]}, \"layout\": {\"annotationdefaults\": {\"arrowcolor\": \"#2a3f5f\", \"arrowhead\": 0, \"arrowwidth\": 1}, \"autotypenumbers\": \"strict\", \"coloraxis\": {\"colorbar\": {\"outlinewidth\": 0, \"ticks\": \"\"}}, \"colorscale\": {\"diverging\": [[0, \"#8e0152\"], [0.1, \"#c51b7d\"], [0.2, \"#de77ae\"], [0.3, \"#f1b6da\"], [0.4, \"#fde0ef\"], [0.5, \"#f7f7f7\"], [0.6, \"#e6f5d0\"], [0.7, \"#b8e186\"], [0.8, \"#7fbc41\"], [0.9, \"#4d9221\"], [1, \"#276419\"]], \"sequential\": [[0.0, \"#0d0887\"], [0.1111111111111111, \"#46039f\"], [0.2222222222222222, \"#7201a8\"], [0.3333333333333333, \"#9c179e\"], [0.4444444444444444, \"#bd3786\"], [0.5555555555555556, \"#d8576b\"], [0.6666666666666666, \"#ed7953\"], [0.7777777777777778, \"#fb9f3a\"], [0.8888888888888888, \"#fdca26\"], [1.0, \"#f0f921\"]], \"sequentialminus\": [[0.0, \"#0d0887\"], [0.1111111111111111, \"#46039f\"], [0.2222222222222222, \"#7201a8\"], [0.3333333333333333, \"#9c179e\"], [0.4444444444444444, \"#bd3786\"], [0.5555555555555556, \"#d8576b\"], [0.6666666666666666, \"#ed7953\"], [0.7777777777777778, \"#fb9f3a\"], [0.8888888888888888, \"#fdca26\"], [1.0, \"#f0f921\"]]}, \"colorway\": [\"#636efa\", \"#EF553B\", \"#00cc96\", \"#ab63fa\", \"#FFA15A\", \"#19d3f3\", \"#FF6692\", \"#B6E880\", \"#FF97FF\", \"#FECB52\"], \"font\": {\"color\": \"#2a3f5f\"}, \"geo\": {\"bgcolor\": \"white\", \"lakecolor\": \"white\", \"landcolor\": \"#E5ECF6\", \"showlakes\": true, \"showland\": true, \"subunitcolor\": \"white\"}, \"hoverlabel\": {\"align\": \"left\"}, \"hovermode\": \"closest\", \"mapbox\": {\"style\": \"light\"}, \"paper_bgcolor\": \"white\", \"plot_bgcolor\": \"#E5ECF6\", \"polar\": {\"angularaxis\": {\"gridcolor\": \"white\", \"linecolor\": \"white\", \"ticks\": \"\"}, \"bgcolor\": \"#E5ECF6\", \"radialaxis\": {\"gridcolor\": \"white\", \"linecolor\": \"white\", \"ticks\": \"\"}}, \"scene\": {\"xaxis\": {\"backgroundcolor\": \"#E5ECF6\", \"gridcolor\": \"white\", \"gridwidth\": 2, \"linecolor\": \"white\", \"showbackground\": true, \"ticks\": \"\", \"zerolinecolor\": \"white\"}, \"yaxis\": {\"backgroundcolor\": \"#E5ECF6\", \"gridcolor\": \"white\", \"gridwidth\": 2, \"linecolor\": \"white\", \"showbackground\": true, \"ticks\": \"\", \"zerolinecolor\": \"white\"}, \"zaxis\": {\"backgroundcolor\": \"#E5ECF6\", \"gridcolor\": \"white\", \"gridwidth\": 2, \"linecolor\": \"white\", \"showbackground\": true, \"ticks\": \"\", \"zerolinecolor\": \"white\"}}, \"shapedefaults\": {\"line\": {\"color\": \"#2a3f5f\"}}, \"ternary\": {\"aaxis\": {\"gridcolor\": \"white\", \"linecolor\": \"white\", \"ticks\": \"\"}, \"baxis\": {\"gridcolor\": \"white\", \"linecolor\": \"white\", \"ticks\": \"\"}, \"bgcolor\": \"#E5ECF6\", \"caxis\": {\"gridcolor\": \"white\", \"linecolor\": \"white\", \"ticks\": \"\"}}, \"title\": {\"x\": 0.05}, \"xaxis\": {\"automargin\": true, \"gridcolor\": \"white\", \"linecolor\": \"white\", \"ticks\": \"\", \"title\": {\"standoff\": 15}, \"zerolinecolor\": \"white\", \"zerolinewidth\": 2}, \"yaxis\": {\"automargin\": true, \"gridcolor\": \"white\", \"linecolor\": \"white\", \"ticks\": \"\", \"title\": {\"standoff\": 15}, \"zerolinecolor\": \"white\", \"zerolinewidth\": 2}}}, \"title\": {\"font\": {\"color\": \"#4D5663\"}, \"text\": \"Country Correlation Matrix\"}, \"xaxis\": {\"gridcolor\": \"#E1E5ED\", \"showgrid\": true, \"tickfont\": {\"color\": \"#4D5663\"}, \"title\": {\"font\": {\"color\": \"#4D5663\"}, \"text\": \"\"}, \"zerolinecolor\": \"#E1E5ED\"}, \"yaxis\": {\"gridcolor\": \"#E1E5ED\", \"showgrid\": true, \"tickfont\": {\"color\": \"#4D5663\"}, \"title\": {\"font\": {\"color\": \"#4D5663\"}, \"text\": \"\"}, \"zerolinecolor\": \"#E1E5ED\"}},                        {\"showLink\": true, \"linkText\": \"Export to plot.ly\", \"plotlyServerURL\": \"https://plot.ly\", \"responsive\": true}                    ).then(function(){\n",
       "                            \n",
       "var gd = document.getElementById('5c95aed9-eac3-4bc5-a064-2401d941193e');\n",
       "var x = new MutationObserver(function (mutations, observer) {{\n",
       "        var display = window.getComputedStyle(gd).display;\n",
       "        if (!display || display === 'none') {{\n",
       "            console.log([gd, 'removed!']);\n",
       "            Plotly.purge(gd);\n",
       "            observer.disconnect();\n",
       "        }}\n",
       "}});\n",
       "\n",
       "// Listen for the removal of the full notebook cells\n",
       "var notebookContainer = gd.closest('#notebook-container');\n",
       "if (notebookContainer) {{\n",
       "    x.observe(notebookContainer, {childList: true});\n",
       "}}\n",
       "\n",
       "// Listen for the clearing of the current output cell\n",
       "var outputEl = gd.closest('.output');\n",
       "if (outputEl) {{\n",
       "    x.observe(outputEl, {childList: true});\n",
       "}}\n",
       "\n",
       "                        })                };                });            </script>        </div>"
      ]
     },
     "metadata": {},
     "output_type": "display_data"
    }
   ],
   "source": [
    "#Using \"heatmap\" to see correlations in data set\n",
    "USImmigTop15.corr().iplot(kind='heatmap',colorscale=\"Blues\",title =\"Country Correlation Matrix\")"
   ]
  },
  {
   "cell_type": "code",
   "execution_count": 31,
   "metadata": {},
   "outputs": [
    {
     "data": {
      "application/vnd.plotly.v1+json": {
       "config": {
        "linkText": "Export to plot.ly",
        "plotlyServerURL": "https://plot.ly",
        "showLink": true
       },
       "data": [
        {
         "marker": {
          "color": "rgba(255, 153, 51, 1.0)",
          "line": {
           "width": 1.3
          },
          "opacity": 0.8,
          "size": 12,
          "symbol": "circle"
         },
         "mode": "markers",
         "name": "Mexico",
         "textfont": {
          "color": "#4D5663"
         },
         "type": "scatter",
         "x": [
          1.4816193719275184
         ],
         "y": [
          19.33743701715056
         ]
        },
        {
         "marker": {
          "color": "rgba(55, 128, 191, 1.0)",
          "line": {
           "width": 1.3
          },
          "opacity": 0.8,
          "size": 12,
          "symbol": "circle"
         },
         "mode": "markers",
         "name": "China",
         "textfont": {
          "color": "#4D5663"
         },
         "type": "scatter",
         "x": [
          -1.9986520893203066
         ],
         "y": [
          7.607607263955214
         ]
        },
        {
         "marker": {
          "color": "rgba(50, 171, 96, 1.0)",
          "line": {
           "width": 1.3
          },
          "opacity": 0.8,
          "size": 12,
          "symbol": "circle"
         },
         "mode": "markers",
         "name": "Cuba ",
         "textfont": {
          "color": "#4D5663"
         },
         "type": "scatter",
         "x": [
          3.410178087601119
         ],
         "y": [
          7.4096325566545245
         ]
        },
        {
         "marker": {
          "color": "rgba(128, 0, 128, 1.0)",
          "line": {
           "width": 1.3
          },
          "opacity": 0.8,
          "size": 12,
          "symbol": "circle"
         },
         "mode": "markers",
         "name": "Dominican Republic ",
         "textfont": {
          "color": "#4D5663"
         },
         "type": "scatter",
         "x": [
          1.5779512799387394
         ],
         "y": [
          6.681245844533781
         ]
        },
        {
         "marker": {
          "color": "rgba(219, 64, 82, 1.0)",
          "line": {
           "width": 1.3
          },
          "opacity": 0.8,
          "size": 12,
          "symbol": "circle"
         },
         "mode": "markers",
         "name": "India",
         "textfont": {
          "color": "#4D5663"
         },
         "type": "scatter",
         "x": [
          -1.2393556585097354
         ],
         "y": [
          6.540603696977396
         ]
        },
        {
         "marker": {
          "color": "rgba(0, 128, 128, 1.0)",
          "line": {
           "width": 1.3
          },
          "opacity": 0.8,
          "size": 12,
          "symbol": "circle"
         },
         "mode": "markers",
         "name": "Philippines ",
         "textfont": {
          "color": "#4D5663"
         },
         "type": "scatter",
         "x": [
          -1.4857958523190335
         ],
         "y": [
          5.326091807623514
         ]
        },
        {
         "marker": {
          "color": "rgba(255, 255, 51, 1.0)",
          "line": {
           "width": 1.3
          },
          "opacity": 0.8,
          "size": 12,
          "symbol": "circle"
         },
         "mode": "markers",
         "name": "Vietnam ",
         "textfont": {
          "color": "#4D5663"
         },
         "type": "scatter",
         "x": [
          0.9076159130234376
         ],
         "y": [
          4.296051148424956
         ]
        },
        {
         "marker": {
          "color": "rgba(128, 128, 0, 1.0)",
          "line": {
           "width": 1.3
          },
          "opacity": 0.8,
          "size": 12,
          "symbol": "circle"
         },
         "mode": "markers",
         "name": "El Salvador ",
         "textfont": {
          "color": "#4D5663"
         },
         "type": "scatter",
         "x": [
          0.5580465327164259
         ],
         "y": [
          2.508442534122028
         ]
        },
        {
         "marker": {
          "color": "rgba(251, 128, 114, 1.0)",
          "line": {
           "width": 1.3
          },
          "opacity": 0.8,
          "size": 12,
          "symbol": "circle"
         },
         "mode": "markers",
         "name": "Jamaica ",
         "textfont": {
          "color": "#4D5663"
         },
         "type": "scatter",
         "x": [
          -0.03188207879249427
         ],
         "y": [
          2.462324726583197
         ]
        },
        {
         "marker": {
          "color": "rgba(128, 177, 211, 1.0)",
          "line": {
           "width": 1.3
          },
          "opacity": 0.8,
          "size": 12,
          "symbol": "circle"
         },
         "mode": "markers",
         "name": "Haiti ",
         "textfont": {
          "color": "#4D5663"
         },
         "type": "scatter",
         "x": [
          -0.29738634959841015
         ],
         "y": [
          2.460493746631283
         ]
        },
        {
         "marker": {
          "color": "rgba(128, 177, 211, 0.8999999999999999)",
          "line": {
           "width": 1.3
          },
          "opacity": 0.8,
          "size": 12,
          "symbol": "circle"
         },
         "mode": "markers",
         "name": "Korea ",
         "textfont": {
          "color": "#4D5663"
         },
         "type": "scatter",
         "x": [
          -0.4320638972202393
         ],
         "y": [
          2.123822307973117
         ]
        },
        {
         "marker": {
          "color": "rgba(255, 153, 51, 0.8999999999999999)",
          "line": {
           "width": 1.3
          },
          "opacity": 0.8,
          "size": 12,
          "symbol": "circle"
         },
         "mode": "markers",
         "name": "Canada and Newfoundland",
         "textfont": {
          "color": "#4D5663"
         },
         "type": "scatter",
         "x": [
          -0.3607792521212101
         ],
         "y": [
          2.113523045743601
         ]
        },
        {
         "marker": {
          "color": "rgba(55, 128, 191, 0.8999999999999999)",
          "line": {
           "width": 1.3
          },
          "opacity": 0.8,
          "size": 12,
          "symbol": "circle"
         },
         "mode": "markers",
         "name": "Colombia ",
         "textfont": {
          "color": "#4D5663"
         },
         "type": "scatter",
         "x": [
          -0.6207638079878437
         ],
         "y": [
          1.8700027121390537
         ]
        },
        {
         "marker": {
          "color": "rgba(50, 171, 96, 0.8999999999999999)",
          "line": {
           "width": 1.3
          },
          "opacity": 0.8,
          "size": 12,
          "symbol": "circle"
         },
         "mode": "markers",
         "name": "Ethiopia ",
         "textfont": {
          "color": "#4D5663"
         },
         "type": "scatter",
         "x": [
          -0.09802540645510982
         ],
         "y": [
          1.7941314803816217
         ]
        },
        {
         "marker": {
          "color": "rgba(128, 0, 128, 0.8999999999999999)",
          "line": {
           "width": 1.3
          },
          "opacity": 0.8,
          "size": 12,
          "symbol": "circle"
         },
         "mode": "markers",
         "name": "Brazil ",
         "textfont": {
          "color": "#4D5663"
         },
         "type": "scatter",
         "x": [
          0.31530668405147666
         ],
         "y": [
          1.697318415424175
         ]
        }
       ],
       "layout": {
        "legend": {
         "bgcolor": "#FFFFFF",
         "font": {
          "color": "#4D5663"
         }
        },
        "paper_bgcolor": "#FFFFFF",
        "plot_bgcolor": "#FFFFFF",
        "template": {
         "data": {
          "bar": [
           {
            "error_x": {
             "color": "#2a3f5f"
            },
            "error_y": {
             "color": "#2a3f5f"
            },
            "marker": {
             "line": {
              "color": "#E5ECF6",
              "width": 0.5
             }
            },
            "type": "bar"
           }
          ],
          "barpolar": [
           {
            "marker": {
             "line": {
              "color": "#E5ECF6",
              "width": 0.5
             }
            },
            "type": "barpolar"
           }
          ],
          "carpet": [
           {
            "aaxis": {
             "endlinecolor": "#2a3f5f",
             "gridcolor": "white",
             "linecolor": "white",
             "minorgridcolor": "white",
             "startlinecolor": "#2a3f5f"
            },
            "baxis": {
             "endlinecolor": "#2a3f5f",
             "gridcolor": "white",
             "linecolor": "white",
             "minorgridcolor": "white",
             "startlinecolor": "#2a3f5f"
            },
            "type": "carpet"
           }
          ],
          "choropleth": [
           {
            "colorbar": {
             "outlinewidth": 0,
             "ticks": ""
            },
            "type": "choropleth"
           }
          ],
          "contour": [
           {
            "colorbar": {
             "outlinewidth": 0,
             "ticks": ""
            },
            "colorscale": [
             [
              0,
              "#0d0887"
             ],
             [
              0.1111111111111111,
              "#46039f"
             ],
             [
              0.2222222222222222,
              "#7201a8"
             ],
             [
              0.3333333333333333,
              "#9c179e"
             ],
             [
              0.4444444444444444,
              "#bd3786"
             ],
             [
              0.5555555555555556,
              "#d8576b"
             ],
             [
              0.6666666666666666,
              "#ed7953"
             ],
             [
              0.7777777777777778,
              "#fb9f3a"
             ],
             [
              0.8888888888888888,
              "#fdca26"
             ],
             [
              1,
              "#f0f921"
             ]
            ],
            "type": "contour"
           }
          ],
          "contourcarpet": [
           {
            "colorbar": {
             "outlinewidth": 0,
             "ticks": ""
            },
            "type": "contourcarpet"
           }
          ],
          "heatmap": [
           {
            "colorbar": {
             "outlinewidth": 0,
             "ticks": ""
            },
            "colorscale": [
             [
              0,
              "#0d0887"
             ],
             [
              0.1111111111111111,
              "#46039f"
             ],
             [
              0.2222222222222222,
              "#7201a8"
             ],
             [
              0.3333333333333333,
              "#9c179e"
             ],
             [
              0.4444444444444444,
              "#bd3786"
             ],
             [
              0.5555555555555556,
              "#d8576b"
             ],
             [
              0.6666666666666666,
              "#ed7953"
             ],
             [
              0.7777777777777778,
              "#fb9f3a"
             ],
             [
              0.8888888888888888,
              "#fdca26"
             ],
             [
              1,
              "#f0f921"
             ]
            ],
            "type": "heatmap"
           }
          ],
          "heatmapgl": [
           {
            "colorbar": {
             "outlinewidth": 0,
             "ticks": ""
            },
            "colorscale": [
             [
              0,
              "#0d0887"
             ],
             [
              0.1111111111111111,
              "#46039f"
             ],
             [
              0.2222222222222222,
              "#7201a8"
             ],
             [
              0.3333333333333333,
              "#9c179e"
             ],
             [
              0.4444444444444444,
              "#bd3786"
             ],
             [
              0.5555555555555556,
              "#d8576b"
             ],
             [
              0.6666666666666666,
              "#ed7953"
             ],
             [
              0.7777777777777778,
              "#fb9f3a"
             ],
             [
              0.8888888888888888,
              "#fdca26"
             ],
             [
              1,
              "#f0f921"
             ]
            ],
            "type": "heatmapgl"
           }
          ],
          "histogram": [
           {
            "marker": {
             "colorbar": {
              "outlinewidth": 0,
              "ticks": ""
             }
            },
            "type": "histogram"
           }
          ],
          "histogram2d": [
           {
            "colorbar": {
             "outlinewidth": 0,
             "ticks": ""
            },
            "colorscale": [
             [
              0,
              "#0d0887"
             ],
             [
              0.1111111111111111,
              "#46039f"
             ],
             [
              0.2222222222222222,
              "#7201a8"
             ],
             [
              0.3333333333333333,
              "#9c179e"
             ],
             [
              0.4444444444444444,
              "#bd3786"
             ],
             [
              0.5555555555555556,
              "#d8576b"
             ],
             [
              0.6666666666666666,
              "#ed7953"
             ],
             [
              0.7777777777777778,
              "#fb9f3a"
             ],
             [
              0.8888888888888888,
              "#fdca26"
             ],
             [
              1,
              "#f0f921"
             ]
            ],
            "type": "histogram2d"
           }
          ],
          "histogram2dcontour": [
           {
            "colorbar": {
             "outlinewidth": 0,
             "ticks": ""
            },
            "colorscale": [
             [
              0,
              "#0d0887"
             ],
             [
              0.1111111111111111,
              "#46039f"
             ],
             [
              0.2222222222222222,
              "#7201a8"
             ],
             [
              0.3333333333333333,
              "#9c179e"
             ],
             [
              0.4444444444444444,
              "#bd3786"
             ],
             [
              0.5555555555555556,
              "#d8576b"
             ],
             [
              0.6666666666666666,
              "#ed7953"
             ],
             [
              0.7777777777777778,
              "#fb9f3a"
             ],
             [
              0.8888888888888888,
              "#fdca26"
             ],
             [
              1,
              "#f0f921"
             ]
            ],
            "type": "histogram2dcontour"
           }
          ],
          "mesh3d": [
           {
            "colorbar": {
             "outlinewidth": 0,
             "ticks": ""
            },
            "type": "mesh3d"
           }
          ],
          "parcoords": [
           {
            "line": {
             "colorbar": {
              "outlinewidth": 0,
              "ticks": ""
             }
            },
            "type": "parcoords"
           }
          ],
          "pie": [
           {
            "automargin": true,
            "type": "pie"
           }
          ],
          "scatter": [
           {
            "marker": {
             "colorbar": {
              "outlinewidth": 0,
              "ticks": ""
             }
            },
            "type": "scatter"
           }
          ],
          "scatter3d": [
           {
            "line": {
             "colorbar": {
              "outlinewidth": 0,
              "ticks": ""
             }
            },
            "marker": {
             "colorbar": {
              "outlinewidth": 0,
              "ticks": ""
             }
            },
            "type": "scatter3d"
           }
          ],
          "scattercarpet": [
           {
            "marker": {
             "colorbar": {
              "outlinewidth": 0,
              "ticks": ""
             }
            },
            "type": "scattercarpet"
           }
          ],
          "scattergeo": [
           {
            "marker": {
             "colorbar": {
              "outlinewidth": 0,
              "ticks": ""
             }
            },
            "type": "scattergeo"
           }
          ],
          "scattergl": [
           {
            "marker": {
             "colorbar": {
              "outlinewidth": 0,
              "ticks": ""
             }
            },
            "type": "scattergl"
           }
          ],
          "scattermapbox": [
           {
            "marker": {
             "colorbar": {
              "outlinewidth": 0,
              "ticks": ""
             }
            },
            "type": "scattermapbox"
           }
          ],
          "scatterpolar": [
           {
            "marker": {
             "colorbar": {
              "outlinewidth": 0,
              "ticks": ""
             }
            },
            "type": "scatterpolar"
           }
          ],
          "scatterpolargl": [
           {
            "marker": {
             "colorbar": {
              "outlinewidth": 0,
              "ticks": ""
             }
            },
            "type": "scatterpolargl"
           }
          ],
          "scatterternary": [
           {
            "marker": {
             "colorbar": {
              "outlinewidth": 0,
              "ticks": ""
             }
            },
            "type": "scatterternary"
           }
          ],
          "surface": [
           {
            "colorbar": {
             "outlinewidth": 0,
             "ticks": ""
            },
            "colorscale": [
             [
              0,
              "#0d0887"
             ],
             [
              0.1111111111111111,
              "#46039f"
             ],
             [
              0.2222222222222222,
              "#7201a8"
             ],
             [
              0.3333333333333333,
              "#9c179e"
             ],
             [
              0.4444444444444444,
              "#bd3786"
             ],
             [
              0.5555555555555556,
              "#d8576b"
             ],
             [
              0.6666666666666666,
              "#ed7953"
             ],
             [
              0.7777777777777778,
              "#fb9f3a"
             ],
             [
              0.8888888888888888,
              "#fdca26"
             ],
             [
              1,
              "#f0f921"
             ]
            ],
            "type": "surface"
           }
          ],
          "table": [
           {
            "cells": {
             "fill": {
              "color": "#EBF0F8"
             },
             "line": {
              "color": "white"
             }
            },
            "header": {
             "fill": {
              "color": "#C8D4E3"
             },
             "line": {
              "color": "white"
             }
            },
            "type": "table"
           }
          ]
         },
         "layout": {
          "annotationdefaults": {
           "arrowcolor": "#2a3f5f",
           "arrowhead": 0,
           "arrowwidth": 1
          },
          "autotypenumbers": "strict",
          "coloraxis": {
           "colorbar": {
            "outlinewidth": 0,
            "ticks": ""
           }
          },
          "colorscale": {
           "diverging": [
            [
             0,
             "#8e0152"
            ],
            [
             0.1,
             "#c51b7d"
            ],
            [
             0.2,
             "#de77ae"
            ],
            [
             0.3,
             "#f1b6da"
            ],
            [
             0.4,
             "#fde0ef"
            ],
            [
             0.5,
             "#f7f7f7"
            ],
            [
             0.6,
             "#e6f5d0"
            ],
            [
             0.7,
             "#b8e186"
            ],
            [
             0.8,
             "#7fbc41"
            ],
            [
             0.9,
             "#4d9221"
            ],
            [
             1,
             "#276419"
            ]
           ],
           "sequential": [
            [
             0,
             "#0d0887"
            ],
            [
             0.1111111111111111,
             "#46039f"
            ],
            [
             0.2222222222222222,
             "#7201a8"
            ],
            [
             0.3333333333333333,
             "#9c179e"
            ],
            [
             0.4444444444444444,
             "#bd3786"
            ],
            [
             0.5555555555555556,
             "#d8576b"
            ],
            [
             0.6666666666666666,
             "#ed7953"
            ],
            [
             0.7777777777777778,
             "#fb9f3a"
            ],
            [
             0.8888888888888888,
             "#fdca26"
            ],
            [
             1,
             "#f0f921"
            ]
           ],
           "sequentialminus": [
            [
             0,
             "#0d0887"
            ],
            [
             0.1111111111111111,
             "#46039f"
            ],
            [
             0.2222222222222222,
             "#7201a8"
            ],
            [
             0.3333333333333333,
             "#9c179e"
            ],
            [
             0.4444444444444444,
             "#bd3786"
            ],
            [
             0.5555555555555556,
             "#d8576b"
            ],
            [
             0.6666666666666666,
             "#ed7953"
            ],
            [
             0.7777777777777778,
             "#fb9f3a"
            ],
            [
             0.8888888888888888,
             "#fdca26"
            ],
            [
             1,
             "#f0f921"
            ]
           ]
          },
          "colorway": [
           "#636efa",
           "#EF553B",
           "#00cc96",
           "#ab63fa",
           "#FFA15A",
           "#19d3f3",
           "#FF6692",
           "#B6E880",
           "#FF97FF",
           "#FECB52"
          ],
          "font": {
           "color": "#2a3f5f"
          },
          "geo": {
           "bgcolor": "white",
           "lakecolor": "white",
           "landcolor": "#E5ECF6",
           "showlakes": true,
           "showland": true,
           "subunitcolor": "white"
          },
          "hoverlabel": {
           "align": "left"
          },
          "hovermode": "closest",
          "mapbox": {
           "style": "light"
          },
          "paper_bgcolor": "white",
          "plot_bgcolor": "#E5ECF6",
          "polar": {
           "angularaxis": {
            "gridcolor": "white",
            "linecolor": "white",
            "ticks": ""
           },
           "bgcolor": "#E5ECF6",
           "radialaxis": {
            "gridcolor": "white",
            "linecolor": "white",
            "ticks": ""
           }
          },
          "scene": {
           "xaxis": {
            "backgroundcolor": "#E5ECF6",
            "gridcolor": "white",
            "gridwidth": 2,
            "linecolor": "white",
            "showbackground": true,
            "ticks": "",
            "zerolinecolor": "white"
           },
           "yaxis": {
            "backgroundcolor": "#E5ECF6",
            "gridcolor": "white",
            "gridwidth": 2,
            "linecolor": "white",
            "showbackground": true,
            "ticks": "",
            "zerolinecolor": "white"
           },
           "zaxis": {
            "backgroundcolor": "#E5ECF6",
            "gridcolor": "white",
            "gridwidth": 2,
            "linecolor": "white",
            "showbackground": true,
            "ticks": "",
            "zerolinecolor": "white"
           }
          },
          "shapedefaults": {
           "line": {
            "color": "#2a3f5f"
           }
          },
          "ternary": {
           "aaxis": {
            "gridcolor": "white",
            "linecolor": "white",
            "ticks": ""
           },
           "baxis": {
            "gridcolor": "white",
            "linecolor": "white",
            "ticks": ""
           },
           "bgcolor": "#E5ECF6",
           "caxis": {
            "gridcolor": "white",
            "linecolor": "white",
            "ticks": ""
           }
          },
          "title": {
           "x": 0.05
          },
          "xaxis": {
           "automargin": true,
           "gridcolor": "white",
           "linecolor": "white",
           "ticks": "",
           "title": {
            "standoff": 15
           },
           "zerolinecolor": "white",
           "zerolinewidth": 2
          },
          "yaxis": {
           "automargin": true,
           "gridcolor": "white",
           "linecolor": "white",
           "ticks": "",
           "title": {
            "standoff": 15
           },
           "zerolinecolor": "white",
           "zerolinewidth": 2
          }
         }
        },
        "title": {
         "font": {
          "color": "#4D5663"
         },
         "text": "Top 10 Countries immigrants to US come from"
        },
        "xaxis": {
         "gridcolor": "#E1E5ED",
         "showgrid": true,
         "tickfont": {
          "color": "#4D5663"
         },
         "title": {
          "font": {
           "color": "#4D5663"
          },
          "text": "Percent Change from 2012 to 2017"
         },
         "zerolinecolor": "#E1E5ED"
        },
        "yaxis": {
         "gridcolor": "#E1E5ED",
         "showgrid": true,
         "tickfont": {
          "color": "#4D5663"
         },
         "title": {
          "font": {
           "color": "#4D5663"
          },
          "text": "Proportion of Immigrants in 2017"
         },
         "zerolinecolor": "#E1E5ED"
        }
       }
      },
      "text/html": [
       "<div>                            <div id=\"409c1b57-7ef1-43b0-8c2f-933807bd571a\" class=\"plotly-graph-div\" style=\"height:525px; width:100%;\"></div>            <script type=\"text/javascript\">                require([\"plotly\"], function(Plotly) {                    window.PLOTLYENV=window.PLOTLYENV || {};\n",
       "                    window.PLOTLYENV.BASE_URL='https://plot.ly';                                    if (document.getElementById(\"409c1b57-7ef1-43b0-8c2f-933807bd571a\")) {                    Plotly.newPlot(                        \"409c1b57-7ef1-43b0-8c2f-933807bd571a\",                        [{\"marker\": {\"color\": \"rgba(255, 153, 51, 1.0)\", \"line\": {\"width\": 1.3}, \"opacity\": 0.8, \"size\": 12, \"symbol\": \"circle\"}, \"mode\": \"markers\", \"name\": \"Mexico\", \"textfont\": {\"color\": \"#4D5663\"}, \"type\": \"scatter\", \"x\": [1.4816193719275184], \"y\": [19.33743701715056]}, {\"marker\": {\"color\": \"rgba(55, 128, 191, 1.0)\", \"line\": {\"width\": 1.3}, \"opacity\": 0.8, \"size\": 12, \"symbol\": \"circle\"}, \"mode\": \"markers\", \"name\": \"China\", \"textfont\": {\"color\": \"#4D5663\"}, \"type\": \"scatter\", \"x\": [-1.9986520893203066], \"y\": [7.607607263955214]}, {\"marker\": {\"color\": \"rgba(50, 171, 96, 1.0)\", \"line\": {\"width\": 1.3}, \"opacity\": 0.8, \"size\": 12, \"symbol\": \"circle\"}, \"mode\": \"markers\", \"name\": \"Cuba \", \"textfont\": {\"color\": \"#4D5663\"}, \"type\": \"scatter\", \"x\": [3.410178087601119], \"y\": [7.4096325566545245]}, {\"marker\": {\"color\": \"rgba(128, 0, 128, 1.0)\", \"line\": {\"width\": 1.3}, \"opacity\": 0.8, \"size\": 12, \"symbol\": \"circle\"}, \"mode\": \"markers\", \"name\": \"Dominican Republic \", \"textfont\": {\"color\": \"#4D5663\"}, \"type\": \"scatter\", \"x\": [1.5779512799387394], \"y\": [6.681245844533781]}, {\"marker\": {\"color\": \"rgba(219, 64, 82, 1.0)\", \"line\": {\"width\": 1.3}, \"opacity\": 0.8, \"size\": 12, \"symbol\": \"circle\"}, \"mode\": \"markers\", \"name\": \"India\", \"textfont\": {\"color\": \"#4D5663\"}, \"type\": \"scatter\", \"x\": [-1.2393556585097354], \"y\": [6.540603696977396]}, {\"marker\": {\"color\": \"rgba(0, 128, 128, 1.0)\", \"line\": {\"width\": 1.3}, \"opacity\": 0.8, \"size\": 12, \"symbol\": \"circle\"}, \"mode\": \"markers\", \"name\": \"Philippines \", \"textfont\": {\"color\": \"#4D5663\"}, \"type\": \"scatter\", \"x\": [-1.4857958523190335], \"y\": [5.326091807623514]}, {\"marker\": {\"color\": \"rgba(255, 255, 51, 1.0)\", \"line\": {\"width\": 1.3}, \"opacity\": 0.8, \"size\": 12, \"symbol\": \"circle\"}, \"mode\": \"markers\", \"name\": \"Vietnam \", \"textfont\": {\"color\": \"#4D5663\"}, \"type\": \"scatter\", \"x\": [0.9076159130234376], \"y\": [4.296051148424956]}, {\"marker\": {\"color\": \"rgba(128, 128, 0, 1.0)\", \"line\": {\"width\": 1.3}, \"opacity\": 0.8, \"size\": 12, \"symbol\": \"circle\"}, \"mode\": \"markers\", \"name\": \"El Salvador \", \"textfont\": {\"color\": \"#4D5663\"}, \"type\": \"scatter\", \"x\": [0.5580465327164259], \"y\": [2.508442534122028]}, {\"marker\": {\"color\": \"rgba(251, 128, 114, 1.0)\", \"line\": {\"width\": 1.3}, \"opacity\": 0.8, \"size\": 12, \"symbol\": \"circle\"}, \"mode\": \"markers\", \"name\": \"Jamaica \", \"textfont\": {\"color\": \"#4D5663\"}, \"type\": \"scatter\", \"x\": [-0.03188207879249427], \"y\": [2.462324726583197]}, {\"marker\": {\"color\": \"rgba(128, 177, 211, 1.0)\", \"line\": {\"width\": 1.3}, \"opacity\": 0.8, \"size\": 12, \"symbol\": \"circle\"}, \"mode\": \"markers\", \"name\": \"Haiti \", \"textfont\": {\"color\": \"#4D5663\"}, \"type\": \"scatter\", \"x\": [-0.29738634959841015], \"y\": [2.460493746631283]}, {\"marker\": {\"color\": \"rgba(128, 177, 211, 0.8999999999999999)\", \"line\": {\"width\": 1.3}, \"opacity\": 0.8, \"size\": 12, \"symbol\": \"circle\"}, \"mode\": \"markers\", \"name\": \"Korea \", \"textfont\": {\"color\": \"#4D5663\"}, \"type\": \"scatter\", \"x\": [-0.4320638972202393], \"y\": [2.123822307973117]}, {\"marker\": {\"color\": \"rgba(255, 153, 51, 0.8999999999999999)\", \"line\": {\"width\": 1.3}, \"opacity\": 0.8, \"size\": 12, \"symbol\": \"circle\"}, \"mode\": \"markers\", \"name\": \"Canada and Newfoundland\", \"textfont\": {\"color\": \"#4D5663\"}, \"type\": \"scatter\", \"x\": [-0.3607792521212101], \"y\": [2.113523045743601]}, {\"marker\": {\"color\": \"rgba(55, 128, 191, 0.8999999999999999)\", \"line\": {\"width\": 1.3}, \"opacity\": 0.8, \"size\": 12, \"symbol\": \"circle\"}, \"mode\": \"markers\", \"name\": \"Colombia \", \"textfont\": {\"color\": \"#4D5663\"}, \"type\": \"scatter\", \"x\": [-0.6207638079878437], \"y\": [1.8700027121390537]}, {\"marker\": {\"color\": \"rgba(50, 171, 96, 0.8999999999999999)\", \"line\": {\"width\": 1.3}, \"opacity\": 0.8, \"size\": 12, \"symbol\": \"circle\"}, \"mode\": \"markers\", \"name\": \"Ethiopia \", \"textfont\": {\"color\": \"#4D5663\"}, \"type\": \"scatter\", \"x\": [-0.09802540645510982], \"y\": [1.7941314803816217]}, {\"marker\": {\"color\": \"rgba(128, 0, 128, 0.8999999999999999)\", \"line\": {\"width\": 1.3}, \"opacity\": 0.8, \"size\": 12, \"symbol\": \"circle\"}, \"mode\": \"markers\", \"name\": \"Brazil \", \"textfont\": {\"color\": \"#4D5663\"}, \"type\": \"scatter\", \"x\": [0.31530668405147666], \"y\": [1.697318415424175]}],                        {\"legend\": {\"bgcolor\": \"#FFFFFF\", \"font\": {\"color\": \"#4D5663\"}}, \"paper_bgcolor\": \"#FFFFFF\", \"plot_bgcolor\": \"#FFFFFF\", \"template\": {\"data\": {\"bar\": [{\"error_x\": {\"color\": \"#2a3f5f\"}, \"error_y\": {\"color\": \"#2a3f5f\"}, \"marker\": {\"line\": {\"color\": \"#E5ECF6\", \"width\": 0.5}}, \"type\": \"bar\"}], \"barpolar\": [{\"marker\": {\"line\": {\"color\": \"#E5ECF6\", \"width\": 0.5}}, \"type\": \"barpolar\"}], \"carpet\": [{\"aaxis\": {\"endlinecolor\": \"#2a3f5f\", \"gridcolor\": \"white\", \"linecolor\": \"white\", \"minorgridcolor\": \"white\", \"startlinecolor\": \"#2a3f5f\"}, \"baxis\": {\"endlinecolor\": \"#2a3f5f\", \"gridcolor\": \"white\", \"linecolor\": \"white\", \"minorgridcolor\": \"white\", \"startlinecolor\": \"#2a3f5f\"}, \"type\": \"carpet\"}], \"choropleth\": [{\"colorbar\": {\"outlinewidth\": 0, \"ticks\": \"\"}, \"type\": \"choropleth\"}], \"contour\": [{\"colorbar\": {\"outlinewidth\": 0, \"ticks\": \"\"}, \"colorscale\": [[0.0, \"#0d0887\"], [0.1111111111111111, \"#46039f\"], [0.2222222222222222, \"#7201a8\"], [0.3333333333333333, \"#9c179e\"], [0.4444444444444444, \"#bd3786\"], [0.5555555555555556, \"#d8576b\"], [0.6666666666666666, \"#ed7953\"], [0.7777777777777778, \"#fb9f3a\"], [0.8888888888888888, \"#fdca26\"], [1.0, \"#f0f921\"]], \"type\": \"contour\"}], \"contourcarpet\": [{\"colorbar\": {\"outlinewidth\": 0, \"ticks\": \"\"}, \"type\": \"contourcarpet\"}], \"heatmap\": [{\"colorbar\": {\"outlinewidth\": 0, \"ticks\": \"\"}, \"colorscale\": [[0.0, \"#0d0887\"], [0.1111111111111111, \"#46039f\"], [0.2222222222222222, \"#7201a8\"], [0.3333333333333333, \"#9c179e\"], [0.4444444444444444, \"#bd3786\"], [0.5555555555555556, \"#d8576b\"], [0.6666666666666666, \"#ed7953\"], [0.7777777777777778, \"#fb9f3a\"], [0.8888888888888888, \"#fdca26\"], [1.0, \"#f0f921\"]], \"type\": \"heatmap\"}], \"heatmapgl\": [{\"colorbar\": {\"outlinewidth\": 0, \"ticks\": \"\"}, \"colorscale\": [[0.0, \"#0d0887\"], [0.1111111111111111, \"#46039f\"], [0.2222222222222222, \"#7201a8\"], [0.3333333333333333, \"#9c179e\"], [0.4444444444444444, \"#bd3786\"], [0.5555555555555556, \"#d8576b\"], [0.6666666666666666, \"#ed7953\"], [0.7777777777777778, \"#fb9f3a\"], [0.8888888888888888, \"#fdca26\"], [1.0, \"#f0f921\"]], \"type\": \"heatmapgl\"}], \"histogram\": [{\"marker\": {\"colorbar\": {\"outlinewidth\": 0, \"ticks\": \"\"}}, \"type\": \"histogram\"}], \"histogram2d\": [{\"colorbar\": {\"outlinewidth\": 0, \"ticks\": \"\"}, \"colorscale\": [[0.0, \"#0d0887\"], [0.1111111111111111, \"#46039f\"], [0.2222222222222222, \"#7201a8\"], [0.3333333333333333, \"#9c179e\"], [0.4444444444444444, \"#bd3786\"], [0.5555555555555556, \"#d8576b\"], [0.6666666666666666, \"#ed7953\"], [0.7777777777777778, \"#fb9f3a\"], [0.8888888888888888, \"#fdca26\"], [1.0, \"#f0f921\"]], \"type\": \"histogram2d\"}], \"histogram2dcontour\": [{\"colorbar\": {\"outlinewidth\": 0, \"ticks\": \"\"}, \"colorscale\": [[0.0, \"#0d0887\"], [0.1111111111111111, \"#46039f\"], [0.2222222222222222, \"#7201a8\"], [0.3333333333333333, \"#9c179e\"], [0.4444444444444444, \"#bd3786\"], [0.5555555555555556, \"#d8576b\"], [0.6666666666666666, \"#ed7953\"], [0.7777777777777778, \"#fb9f3a\"], [0.8888888888888888, \"#fdca26\"], [1.0, \"#f0f921\"]], \"type\": \"histogram2dcontour\"}], \"mesh3d\": [{\"colorbar\": {\"outlinewidth\": 0, \"ticks\": \"\"}, \"type\": \"mesh3d\"}], \"parcoords\": [{\"line\": {\"colorbar\": {\"outlinewidth\": 0, \"ticks\": \"\"}}, \"type\": \"parcoords\"}], \"pie\": [{\"automargin\": true, \"type\": \"pie\"}], \"scatter\": [{\"marker\": {\"colorbar\": {\"outlinewidth\": 0, \"ticks\": \"\"}}, \"type\": \"scatter\"}], \"scatter3d\": [{\"line\": {\"colorbar\": {\"outlinewidth\": 0, \"ticks\": \"\"}}, \"marker\": {\"colorbar\": {\"outlinewidth\": 0, \"ticks\": \"\"}}, \"type\": \"scatter3d\"}], \"scattercarpet\": [{\"marker\": {\"colorbar\": {\"outlinewidth\": 0, \"ticks\": \"\"}}, \"type\": \"scattercarpet\"}], \"scattergeo\": [{\"marker\": {\"colorbar\": {\"outlinewidth\": 0, \"ticks\": \"\"}}, \"type\": \"scattergeo\"}], \"scattergl\": [{\"marker\": {\"colorbar\": {\"outlinewidth\": 0, \"ticks\": \"\"}}, \"type\": \"scattergl\"}], \"scattermapbox\": [{\"marker\": {\"colorbar\": {\"outlinewidth\": 0, \"ticks\": \"\"}}, \"type\": \"scattermapbox\"}], \"scatterpolar\": [{\"marker\": {\"colorbar\": {\"outlinewidth\": 0, \"ticks\": \"\"}}, \"type\": \"scatterpolar\"}], \"scatterpolargl\": [{\"marker\": {\"colorbar\": {\"outlinewidth\": 0, \"ticks\": \"\"}}, \"type\": \"scatterpolargl\"}], \"scatterternary\": [{\"marker\": {\"colorbar\": {\"outlinewidth\": 0, \"ticks\": \"\"}}, \"type\": \"scatterternary\"}], \"surface\": [{\"colorbar\": {\"outlinewidth\": 0, \"ticks\": \"\"}, \"colorscale\": [[0.0, \"#0d0887\"], [0.1111111111111111, \"#46039f\"], [0.2222222222222222, \"#7201a8\"], [0.3333333333333333, \"#9c179e\"], [0.4444444444444444, \"#bd3786\"], [0.5555555555555556, \"#d8576b\"], [0.6666666666666666, \"#ed7953\"], [0.7777777777777778, \"#fb9f3a\"], [0.8888888888888888, \"#fdca26\"], [1.0, \"#f0f921\"]], \"type\": \"surface\"}], \"table\": [{\"cells\": {\"fill\": {\"color\": \"#EBF0F8\"}, \"line\": {\"color\": \"white\"}}, \"header\": {\"fill\": {\"color\": \"#C8D4E3\"}, \"line\": {\"color\": \"white\"}}, \"type\": \"table\"}]}, \"layout\": {\"annotationdefaults\": {\"arrowcolor\": \"#2a3f5f\", \"arrowhead\": 0, \"arrowwidth\": 1}, \"autotypenumbers\": \"strict\", \"coloraxis\": {\"colorbar\": {\"outlinewidth\": 0, \"ticks\": \"\"}}, \"colorscale\": {\"diverging\": [[0, \"#8e0152\"], [0.1, \"#c51b7d\"], [0.2, \"#de77ae\"], [0.3, \"#f1b6da\"], [0.4, \"#fde0ef\"], [0.5, \"#f7f7f7\"], [0.6, \"#e6f5d0\"], [0.7, \"#b8e186\"], [0.8, \"#7fbc41\"], [0.9, \"#4d9221\"], [1, \"#276419\"]], \"sequential\": [[0.0, \"#0d0887\"], [0.1111111111111111, \"#46039f\"], [0.2222222222222222, \"#7201a8\"], [0.3333333333333333, \"#9c179e\"], [0.4444444444444444, \"#bd3786\"], [0.5555555555555556, \"#d8576b\"], [0.6666666666666666, \"#ed7953\"], [0.7777777777777778, \"#fb9f3a\"], [0.8888888888888888, \"#fdca26\"], [1.0, \"#f0f921\"]], \"sequentialminus\": [[0.0, \"#0d0887\"], [0.1111111111111111, \"#46039f\"], [0.2222222222222222, \"#7201a8\"], [0.3333333333333333, \"#9c179e\"], [0.4444444444444444, \"#bd3786\"], [0.5555555555555556, \"#d8576b\"], [0.6666666666666666, \"#ed7953\"], [0.7777777777777778, \"#fb9f3a\"], [0.8888888888888888, \"#fdca26\"], [1.0, \"#f0f921\"]]}, \"colorway\": [\"#636efa\", \"#EF553B\", \"#00cc96\", \"#ab63fa\", \"#FFA15A\", \"#19d3f3\", \"#FF6692\", \"#B6E880\", \"#FF97FF\", \"#FECB52\"], \"font\": {\"color\": \"#2a3f5f\"}, \"geo\": {\"bgcolor\": \"white\", \"lakecolor\": \"white\", \"landcolor\": \"#E5ECF6\", \"showlakes\": true, \"showland\": true, \"subunitcolor\": \"white\"}, \"hoverlabel\": {\"align\": \"left\"}, \"hovermode\": \"closest\", \"mapbox\": {\"style\": \"light\"}, \"paper_bgcolor\": \"white\", \"plot_bgcolor\": \"#E5ECF6\", \"polar\": {\"angularaxis\": {\"gridcolor\": \"white\", \"linecolor\": \"white\", \"ticks\": \"\"}, \"bgcolor\": \"#E5ECF6\", \"radialaxis\": {\"gridcolor\": \"white\", \"linecolor\": \"white\", \"ticks\": \"\"}}, \"scene\": {\"xaxis\": {\"backgroundcolor\": \"#E5ECF6\", \"gridcolor\": \"white\", \"gridwidth\": 2, \"linecolor\": \"white\", \"showbackground\": true, \"ticks\": \"\", \"zerolinecolor\": \"white\"}, \"yaxis\": {\"backgroundcolor\": \"#E5ECF6\", \"gridcolor\": \"white\", \"gridwidth\": 2, \"linecolor\": \"white\", \"showbackground\": true, \"ticks\": \"\", \"zerolinecolor\": \"white\"}, \"zaxis\": {\"backgroundcolor\": \"#E5ECF6\", \"gridcolor\": \"white\", \"gridwidth\": 2, \"linecolor\": \"white\", \"showbackground\": true, \"ticks\": \"\", \"zerolinecolor\": \"white\"}}, \"shapedefaults\": {\"line\": {\"color\": \"#2a3f5f\"}}, \"ternary\": {\"aaxis\": {\"gridcolor\": \"white\", \"linecolor\": \"white\", \"ticks\": \"\"}, \"baxis\": {\"gridcolor\": \"white\", \"linecolor\": \"white\", \"ticks\": \"\"}, \"bgcolor\": \"#E5ECF6\", \"caxis\": {\"gridcolor\": \"white\", \"linecolor\": \"white\", \"ticks\": \"\"}}, \"title\": {\"x\": 0.05}, \"xaxis\": {\"automargin\": true, \"gridcolor\": \"white\", \"linecolor\": \"white\", \"ticks\": \"\", \"title\": {\"standoff\": 15}, \"zerolinecolor\": \"white\", \"zerolinewidth\": 2}, \"yaxis\": {\"automargin\": true, \"gridcolor\": \"white\", \"linecolor\": \"white\", \"ticks\": \"\", \"title\": {\"standoff\": 15}, \"zerolinecolor\": \"white\", \"zerolinewidth\": 2}}}, \"title\": {\"font\": {\"color\": \"#4D5663\"}, \"text\": \"Top 10 Countries immigrants to US come from\"}, \"xaxis\": {\"gridcolor\": \"#E1E5ED\", \"showgrid\": true, \"tickfont\": {\"color\": \"#4D5663\"}, \"title\": {\"font\": {\"color\": \"#4D5663\"}, \"text\": \"Percent Change from 2012 to 2017\"}, \"zerolinecolor\": \"#E1E5ED\"}, \"yaxis\": {\"gridcolor\": \"#E1E5ED\", \"showgrid\": true, \"tickfont\": {\"color\": \"#4D5663\"}, \"title\": {\"font\": {\"color\": \"#4D5663\"}, \"text\": \"Proportion of Immigrants in 2017\"}, \"zerolinecolor\": \"#E1E5ED\"}},                        {\"showLink\": true, \"linkText\": \"Export to plot.ly\", \"plotlyServerURL\": \"https://plot.ly\", \"responsive\": true}                    ).then(function(){\n",
       "                            \n",
       "var gd = document.getElementById('409c1b57-7ef1-43b0-8c2f-933807bd571a');\n",
       "var x = new MutationObserver(function (mutations, observer) {{\n",
       "        var display = window.getComputedStyle(gd).display;\n",
       "        if (!display || display === 'none') {{\n",
       "            console.log([gd, 'removed!']);\n",
       "            Plotly.purge(gd);\n",
       "            observer.disconnect();\n",
       "        }}\n",
       "}});\n",
       "\n",
       "// Listen for the removal of the full notebook cells\n",
       "var notebookContainer = gd.closest('#notebook-container');\n",
       "if (notebookContainer) {{\n",
       "    x.observe(notebookContainer, {childList: true});\n",
       "}}\n",
       "\n",
       "// Listen for the clearing of the current output cell\n",
       "var outputEl = gd.closest('.output');\n",
       "if (outputEl) {{\n",
       "    x.observe(outputEl, {childList: true});\n",
       "}}\n",
       "\n",
       "                        })                };                });            </script>        </div>"
      ]
     },
     "metadata": {},
     "output_type": "display_data"
    }
   ],
   "source": [
    "#Plot categories to view relationships in the data via a \"scatter plot\" chart\n",
    "USImmigTop15.iplot(kind=\"scatter\", theme=\"white\",x=\"PerChg\",y=\"ImmPercent2017\",\n",
    "            categories=\"LastResidence\",title=\"Top 10 Countries immigrants to US come from\",xTitle='Percent Change from 2012 to 2017', yTitle='Proportion of Immigrants in 2017')"
   ]
  },
  {
   "cell_type": "code",
   "execution_count": null,
   "metadata": {},
   "outputs": [],
   "source": []
  }
 ],
 "metadata": {
  "kernelspec": {
   "display_name": "Python 3",
   "language": "python",
   "name": "python3"
  },
  "language_info": {
   "codemirror_mode": {
    "name": "ipython",
    "version": 3
   },
   "file_extension": ".py",
   "mimetype": "text/x-python",
   "name": "python",
   "nbconvert_exporter": "python",
   "pygments_lexer": "ipython3",
   "version": "3.8.3"
  }
 },
 "nbformat": 4,
 "nbformat_minor": 4
}
